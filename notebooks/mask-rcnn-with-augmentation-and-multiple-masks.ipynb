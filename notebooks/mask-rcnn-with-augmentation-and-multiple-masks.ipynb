{
 "cells": [
  {
   "cell_type": "markdown",
   "metadata": {},
   "source": [
    "# Import Cool Stuff"
   ]
  },
  {
   "cell_type": "code",
   "execution_count": 1,
   "metadata": {
    "ExecuteTime": {
     "end_time": "2019-07-29T05:26:27.281407Z",
     "start_time": "2019-07-29T05:26:26.827135Z"
    },
    "_cell_guid": "b1076dfc-b9ad-4769-8c92-a6c4dae69d19",
    "_uuid": "8f2839f25d086af736a60e9eeb907d3b93b6e0e5"
   },
   "outputs": [],
   "source": [
    "from __future__ import print_function\n",
    "\n",
    "from collections import defaultdict, deque\n",
    "import datetime\n",
    "import pickle\n",
    "import time\n",
    "import torch.distributed as dist\n",
    "import errno\n",
    "\n",
    "import collections\n",
    "import os\n",
    "import numpy as np\n",
    "import torch\n",
    "import torch.utils.data\n",
    "from PIL import Image, ImageFile\n",
    "import pandas as pd\n",
    "from tqdm import tqdm\n",
    "from torchvision import transforms\n",
    "import torchvision\n",
    "import random\n",
    "from torchvision.models.detection.faster_rcnn import FastRCNNPredictor\n",
    "from torchvision.models.detection.mask_rcnn import MaskRCNNPredictor\n",
    "\n",
    "ImageFile.LOAD_TRUNCATED_IMAGES = True"
   ]
  },
  {
   "cell_type": "markdown",
   "metadata": {},
   "source": [
    "# Utility Functions (hidden)"
   ]
  },
  {
   "cell_type": "code",
   "execution_count": 2,
   "metadata": {
    "ExecuteTime": {
     "end_time": "2019-07-29T05:26:27.310305Z",
     "start_time": "2019-07-29T05:26:27.282660Z"
    },
    "_cell_guid": "79c7e3d0-c299-4dcb-8224-4455121ee9b0",
    "_kg_hide-input": true,
    "_uuid": "d629ff2d2480ee46fbb7e2d37f6b5fab8052498a"
   },
   "outputs": [],
   "source": [
    "class SmoothedValue(object):\n",
    "    \"\"\"Track a series of values and provide access to smoothed values over a\n",
    "    window or the global series average.\n",
    "    \"\"\"\n",
    "\n",
    "    def __init__(self, window_size=20, fmt=None):\n",
    "        if fmt is None:\n",
    "            fmt = \"{median:.4f} ({global_avg:.4f})\"\n",
    "        self.deque = deque(maxlen=window_size)\n",
    "        self.total = 0.0\n",
    "        self.count = 0\n",
    "        self.fmt = fmt\n",
    "\n",
    "    def update(self, value, n=1):\n",
    "        self.deque.append(value)\n",
    "        self.count += n\n",
    "        self.total += value * n\n",
    "\n",
    "    def synchronize_between_processes(self):\n",
    "        \"\"\"\n",
    "        Warning: does not synchronize the deque!\n",
    "        \"\"\"\n",
    "        if not is_dist_avail_and_initialized():\n",
    "            return\n",
    "        t = torch.tensor([self.count, self.total], dtype=torch.float64, device='cuda')\n",
    "        dist.barrier()\n",
    "        dist.all_reduce(t)\n",
    "        t = t.tolist()\n",
    "        self.count = int(t[0])\n",
    "        self.total = t[1]\n",
    "\n",
    "    @property\n",
    "    def median(self):\n",
    "        d = torch.tensor(list(self.deque))\n",
    "        return d.median().item()\n",
    "\n",
    "    @property\n",
    "    def avg(self):\n",
    "        d = torch.tensor(list(self.deque), dtype=torch.float32)\n",
    "        return d.mean().item()\n",
    "\n",
    "    @property\n",
    "    def global_avg(self):\n",
    "        return self.total / self.count\n",
    "\n",
    "    @property\n",
    "    def max(self):\n",
    "        return max(self.deque)\n",
    "\n",
    "    @property\n",
    "    def value(self):\n",
    "        return self.deque[-1]\n",
    "\n",
    "    def __str__(self):\n",
    "        return self.fmt.format(\n",
    "            median=self.median,\n",
    "            avg=self.avg,\n",
    "            global_avg=self.global_avg,\n",
    "            max=self.max,\n",
    "            value=self.value)\n",
    "\n",
    "\n",
    "def all_gather(data):\n",
    "    \"\"\"\n",
    "    Run all_gather on arbitrary picklable data (not necessarily tensors)\n",
    "    Args:\n",
    "        data: any picklable object\n",
    "    Returns:\n",
    "        list[data]: list of data gathered from each rank\n",
    "    \"\"\"\n",
    "    world_size = get_world_size()\n",
    "    if world_size == 1:\n",
    "        return [data]\n",
    "\n",
    "    # serialized to a Tensor\n",
    "    buffer = pickle.dumps(data)\n",
    "    storage = torch.ByteStorage.from_buffer(buffer)\n",
    "    tensor = torch.ByteTensor(storage).to(\"cuda\")\n",
    "\n",
    "    # obtain Tensor size of each rank\n",
    "    local_size = torch.tensor([tensor.numel()], device=\"cuda\")\n",
    "    size_list = [torch.tensor([0], device=\"cuda\") for _ in range(world_size)]\n",
    "    dist.all_gather(size_list, local_size)\n",
    "    size_list = [int(size.item()) for size in size_list]\n",
    "    max_size = max(size_list)\n",
    "\n",
    "    # receiving Tensor from all ranks\n",
    "    # we pad the tensor because torch all_gather does not support\n",
    "    # gathering tensors of different shapes\n",
    "    tensor_list = []\n",
    "    for _ in size_list:\n",
    "        tensor_list.append(torch.empty((max_size,), dtype=torch.uint8, device=\"cuda\"))\n",
    "    if local_size != max_size:\n",
    "        padding = torch.empty(size=(max_size - local_size,), dtype=torch.uint8, device=\"cuda\")\n",
    "        tensor = torch.cat((tensor, padding), dim=0)\n",
    "    dist.all_gather(tensor_list, tensor)\n",
    "\n",
    "    data_list = []\n",
    "    for size, tensor in zip(size_list, tensor_list):\n",
    "        buffer = tensor.cpu().numpy().tobytes()[:size]\n",
    "        data_list.append(pickle.loads(buffer))\n",
    "\n",
    "    return data_list\n",
    "\n",
    "\n",
    "def reduce_dict(input_dict, average=True):\n",
    "    \"\"\"\n",
    "    Args:\n",
    "        input_dict (dict): all the values will be reduced\n",
    "        average (bool): whether to do average or sum\n",
    "    Reduce the values in the dictionary from all processes so that all processes\n",
    "    have the averaged results. Returns a dict with the same fields as\n",
    "    input_dict, after reduction.\n",
    "    \"\"\"\n",
    "    world_size = get_world_size()\n",
    "    if world_size < 2:\n",
    "        return input_dict\n",
    "    with torch.no_grad():\n",
    "        names = []\n",
    "        values = []\n",
    "        # sort the keys so that they are consistent across processes\n",
    "        for k in sorted(input_dict.keys()):\n",
    "            names.append(k)\n",
    "            values.append(input_dict[k])\n",
    "        values = torch.stack(values, dim=0)\n",
    "        dist.all_reduce(values)\n",
    "        if average:\n",
    "            values /= world_size\n",
    "        reduced_dict = {k: v for k, v in zip(names, values)}\n",
    "    return reduced_dict\n",
    "\n",
    "\n",
    "class MetricLogger(object):\n",
    "    def __init__(self, delimiter=\"\\t\"):\n",
    "        self.meters = defaultdict(SmoothedValue)\n",
    "        self.delimiter = delimiter\n",
    "\n",
    "    def update(self, **kwargs):\n",
    "        for k, v in kwargs.items():\n",
    "            if isinstance(v, torch.Tensor):\n",
    "                v = v.item()\n",
    "            assert isinstance(v, (float, int))\n",
    "            self.meters[k].update(v)\n",
    "\n",
    "    def __getattr__(self, attr):\n",
    "        if attr in self.meters:\n",
    "            return self.meters[attr]\n",
    "        if attr in self.__dict__:\n",
    "            return self.__dict__[attr]\n",
    "        raise AttributeError(\"'{}' object has no attribute '{}'\".format(\n",
    "            type(self).__name__, attr))\n",
    "\n",
    "    def __str__(self):\n",
    "        loss_str = []\n",
    "        for name, meter in self.meters.items():\n",
    "            loss_str.append(\n",
    "                \"{}: {}\".format(name, str(meter))\n",
    "            )\n",
    "        return self.delimiter.join(loss_str)\n",
    "\n",
    "    def synchronize_between_processes(self):\n",
    "        for meter in self.meters.values():\n",
    "            meter.synchronize_between_processes()\n",
    "\n",
    "    def add_meter(self, name, meter):\n",
    "        self.meters[name] = meter\n",
    "\n",
    "    def log_every(self, iterable, print_freq, header=None):\n",
    "        i = 0\n",
    "        if not header:\n",
    "            header = ''\n",
    "        start_time = time.time()\n",
    "        end = time.time()\n",
    "        iter_time = SmoothedValue(fmt='{avg:.4f}')\n",
    "        data_time = SmoothedValue(fmt='{avg:.4f}')\n",
    "        space_fmt = ':' + str(len(str(len(iterable)))) + 'd'\n",
    "        log_msg = self.delimiter.join([\n",
    "            header,\n",
    "            '[{0' + space_fmt + '}/{1}]',\n",
    "            'eta: {eta}',\n",
    "            '{meters}',\n",
    "            'time: {time}',\n",
    "            'data: {data}',\n",
    "            'max mem: {memory:.0f}'\n",
    "        ])\n",
    "        MB = 1024.0 * 1024.0\n",
    "        for obj in iterable:\n",
    "            data_time.update(time.time() - end)\n",
    "            yield obj\n",
    "            iter_time.update(time.time() - end)\n",
    "            if i % print_freq == 0 or i == len(iterable) - 1:\n",
    "                eta_seconds = iter_time.global_avg * (len(iterable) - i)\n",
    "                eta_string = str(datetime.timedelta(seconds=int(eta_seconds)))\n",
    "                print(log_msg.format(\n",
    "                    i, len(iterable), eta=eta_string,\n",
    "                    meters=str(self),\n",
    "                    time=str(iter_time), data=str(data_time),\n",
    "                    memory=torch.cuda.max_memory_allocated() / MB))\n",
    "            i += 1\n",
    "            end = time.time()\n",
    "        total_time = time.time() - start_time\n",
    "        total_time_str = str(datetime.timedelta(seconds=int(total_time)))\n",
    "        print('{} Total time: {} ({:.4f} s / it)'.format(\n",
    "            header, total_time_str, total_time / len(iterable)))\n",
    "\n",
    "\n",
    "def collate_fn(batch):\n",
    "    return tuple(zip(*batch))\n",
    "\n",
    "\n",
    "def warmup_lr_scheduler(optimizer, warmup_iters, warmup_factor):\n",
    "\n",
    "    def f(x):\n",
    "        if x >= warmup_iters:\n",
    "            return 1\n",
    "        alpha = float(x) / warmup_iters\n",
    "        return warmup_factor * (1 - alpha) + alpha\n",
    "\n",
    "    return torch.optim.lr_scheduler.LambdaLR(optimizer, f)\n",
    "\n",
    "\n",
    "def mkdir(path):\n",
    "    try:\n",
    "        os.makedirs(path)\n",
    "    except OSError as e:\n",
    "        if e.errno != errno.EEXIST:\n",
    "            raise\n",
    "\n",
    "\n",
    "def setup_for_distributed(is_master):\n",
    "    \"\"\"\n",
    "    This function disables printing when not in master process\n",
    "    \"\"\"\n",
    "    import builtins as __builtin__\n",
    "    builtin_print = __builtin__.print\n",
    "\n",
    "    def print(*args, **kwargs):\n",
    "        force = kwargs.pop('force', False)\n",
    "        if is_master or force:\n",
    "            builtin_print(*args, **kwargs)\n",
    "\n",
    "    __builtin__.print = print\n",
    "\n",
    "\n",
    "def is_dist_avail_and_initialized():\n",
    "    if not dist.is_available():\n",
    "        return False\n",
    "    if not dist.is_initialized():\n",
    "        return False\n",
    "    return True\n",
    "\n",
    "\n",
    "def get_world_size():\n",
    "    if not is_dist_avail_and_initialized():\n",
    "        return 1\n",
    "    return dist.get_world_size()\n",
    "\n",
    "\n",
    "def get_rank():\n",
    "    if not is_dist_avail_and_initialized():\n",
    "        return 0\n",
    "    return dist.get_rank()\n",
    "\n",
    "\n",
    "def is_main_process():\n",
    "    return get_rank() == 0\n",
    "\n",
    "\n",
    "def save_on_master(*args, **kwargs):\n",
    "    if is_main_process():\n",
    "        torch.save(*args, **kwargs)\n",
    "\n",
    "\n",
    "def init_distributed_mode(args):\n",
    "    if 'RANK' in os.environ and 'WORLD_SIZE' in os.environ:\n",
    "        args.rank = int(os.environ[\"RANK\"])\n",
    "        args.world_size = int(os.environ['WORLD_SIZE'])\n",
    "        args.gpu = int(os.environ['LOCAL_RANK'])\n",
    "    elif 'SLURM_PROCID' in os.environ:\n",
    "        args.rank = int(os.environ['SLURM_PROCID'])\n",
    "        args.gpu = args.rank % torch.cuda.device_count()\n",
    "    else:\n",
    "        print('Not using distributed mode')\n",
    "        args.distributed = False\n",
    "        return\n",
    "\n",
    "    args.distributed = True\n",
    "\n",
    "    torch.cuda.set_device(args.gpu)\n",
    "    args.dist_backend = 'nccl'\n",
    "    print('| distributed init (rank {}): {}'.format(\n",
    "        args.rank, args.dist_url), flush=True)\n",
    "    torch.distributed.init_process_group(backend=args.dist_backend, init_method=args.dist_url,\n",
    "                                         world_size=args.world_size, rank=args.rank)\n",
    "    torch.distributed.barrier()\n",
    "    setup_for_distributed(args.rank == 0)"
   ]
  },
  {
   "cell_type": "markdown",
   "metadata": {},
   "source": [
    "# Training Function"
   ]
  },
  {
   "cell_type": "code",
   "execution_count": 3,
   "metadata": {
    "ExecuteTime": {
     "end_time": "2019-07-29T05:26:27.322496Z",
     "start_time": "2019-07-29T05:26:27.311516Z"
    }
   },
   "outputs": [],
   "source": [
    "def train_one_epoch(model, optimizer, data_loader, device, epoch, print_freq):\n",
    "    model.train()\n",
    "    metric_logger = MetricLogger(delimiter=\"  \")\n",
    "    metric_logger.add_meter('lr', SmoothedValue(window_size=1, fmt='{value:.6f}'))\n",
    "    header = 'Epoch: [{}]'.format(epoch)\n",
    "\n",
    "    lr_scheduler = None\n",
    "    if epoch == 0:\n",
    "        warmup_factor = 1. / 1000\n",
    "        warmup_iters = min(1000, len(data_loader) - 1)\n",
    "\n",
    "        lr_scheduler = warmup_lr_scheduler(optimizer, warmup_iters, warmup_factor)\n",
    "\n",
    "    for images, targets in metric_logger.log_every(data_loader, print_freq, header):\n",
    "        images = list(image.to(device) for image in images)\n",
    "        targets = [{k: v.to(device) for k, v in t.items()} for t in targets]\n",
    "\n",
    "        loss_dict = model(images, targets)\n",
    "\n",
    "        losses = sum(loss for loss in loss_dict.values())\n",
    "\n",
    "        # reduce losses over all GPUs for logging purposes\n",
    "        loss_dict_reduced = reduce_dict(loss_dict)\n",
    "        losses_reduced = sum(loss for loss in loss_dict_reduced.values())\n",
    "\n",
    "        optimizer.zero_grad()\n",
    "        losses.backward()\n",
    "        optimizer.step()\n",
    "\n",
    "        if lr_scheduler is not None:\n",
    "            lr_scheduler.step()\n",
    "\n",
    "        metric_logger.update(loss=losses_reduced, **loss_dict_reduced)\n",
    "        metric_logger.update(lr=optimizer.param_groups[0][\"lr\"])"
   ]
  },
  {
   "cell_type": "markdown",
   "metadata": {},
   "source": [
    "# RLE to Mask"
   ]
  },
  {
   "cell_type": "code",
   "execution_count": 4,
   "metadata": {
    "ExecuteTime": {
     "end_time": "2019-07-29T05:26:27.339425Z",
     "start_time": "2019-07-29T05:26:27.323595Z"
    }
   },
   "outputs": [],
   "source": [
    "def rle2mask(rle, width, height):\n",
    "    mask= np.zeros(width* height)\n",
    "    array = np.asarray([int(x) for x in rle.split()])\n",
    "    starts = array[0::2]\n",
    "    lengths = array[1::2]\n",
    "\n",
    "    current_position = 0\n",
    "    for index, start in enumerate(starts):\n",
    "        current_position += start\n",
    "        mask[current_position:current_position+lengths[index]] = 1\n",
    "        current_position += lengths[index]\n",
    "\n",
    "    return mask.reshape(width, height)"
   ]
  },
  {
   "cell_type": "markdown",
   "metadata": {},
   "source": [
    "# SIIM Dataset Class"
   ]
  },
  {
   "cell_type": "code",
   "execution_count": 5,
   "metadata": {
    "ExecuteTime": {
     "end_time": "2019-07-29T05:26:27.356504Z",
     "start_time": "2019-07-29T05:26:27.340546Z"
    }
   },
   "outputs": [],
   "source": [
    "class SIIMDataset(torch.utils.data.Dataset):\n",
    "    def __init__(self, df_path, img_dir):\n",
    "        self.df = pd.read_csv(df_path)\n",
    "        self.height = 1024\n",
    "        self.width = 1024\n",
    "        self.image_dir = img_dir\n",
    "        self.image_info = collections.defaultdict(dict)\n",
    "\n",
    "        counter = 0\n",
    "        for index, row in tqdm(self.df.iterrows(), total=len(self.df)):\n",
    "            image_id = row['ImageId']\n",
    "            image_path = os.path.join(self.image_dir, image_id)\n",
    "            if os.path.exists(image_path + '.png') and row[\" EncodedPixels\"].strip() != \"-1\":\n",
    "                self.image_info[counter][\"image_id\"] = image_id\n",
    "                self.image_info[counter][\"image_path\"] = image_path\n",
    "                self.image_info[counter][\"annotations\"] = row[\" EncodedPixels\"].strip()\n",
    "                counter += 1\n",
    "\n",
    "    def __getitem__(self, idx):\n",
    "        img_path = self.image_info[idx][\"image_path\"]\n",
    "        img = Image.open(img_path + '.png').convert(\"RGB\")\n",
    "        width, height = img.size\n",
    "        img = img.resize((self.width, self.height), resample=Image.BILINEAR)\n",
    "        info = self.image_info[idx]\n",
    "\n",
    "        mask = rle2mask(info['annotations'], width, height)\n",
    "        mask = Image.fromarray(mask.T)\n",
    "        mask = mask.resize((self.width, self.height), resample=Image.BILINEAR)\n",
    "        mask = np.expand_dims(mask, axis=0)\n",
    "\n",
    "        pos = np.where(np.array(mask)[0, :, :])\n",
    "        xmin = np.min(pos[1])\n",
    "        xmax = np.max(pos[1])\n",
    "        ymin = np.min(pos[0])\n",
    "        ymax = np.max(pos[0])\n",
    "\n",
    "        boxes = torch.as_tensor([[xmin, ymin, xmax, ymax]], dtype=torch.float32)\n",
    "        labels = torch.ones((1,), dtype=torch.int64)\n",
    "        masks = torch.as_tensor(mask, dtype=torch.uint8)\n",
    "\n",
    "        image_id = torch.tensor([idx])\n",
    "        area = (boxes[:, 3] - boxes[:, 1]) * (boxes[:, 2] - boxes[:, 0])\n",
    "        iscrowd = torch.zeros((1,), dtype=torch.int64)\n",
    "\n",
    "        target = {}\n",
    "        target[\"boxes\"] = boxes\n",
    "        target[\"labels\"] = labels\n",
    "        target[\"masks\"] = masks\n",
    "        target[\"image_id\"] = image_id\n",
    "        target[\"area\"] = area\n",
    "        target[\"iscrowd\"] = iscrowd\n",
    "        \n",
    "        img = transforms.ToTensor()(img)\n",
    "        \n",
    "        if random.random() < 0.8:\n",
    "            height, width = img.shape[-2:]\n",
    "            img = img.flip(-1)\n",
    "            bbox = target[\"boxes\"]\n",
    "            bbox[:, [0, 2]] = width - bbox[:, [2, 0]]\n",
    "            target[\"boxes\"] = bbox\n",
    "            target[\"masks\"] = target[\"masks\"].flip(-1)\n",
    "        \n",
    "        return img, target\n",
    "\n",
    "    def __len__(self):\n",
    "        return len(self.image_info)"
   ]
  },
  {
   "cell_type": "markdown",
   "metadata": {},
   "source": [
    "# Create Dataset"
   ]
  },
  {
   "cell_type": "code",
   "execution_count": 6,
   "metadata": {
    "ExecuteTime": {
     "end_time": "2019-07-29T05:26:28.202300Z",
     "start_time": "2019-07-29T05:26:27.357491Z"
    }
   },
   "outputs": [
    {
     "name": "stderr",
     "output_type": "stream",
     "text": [
      "100%|██████████| 11582/11582 [00:00<00:00, 14675.66it/s]\n"
     ]
    }
   ],
   "source": [
    "dataset_train = SIIMDataset(\"../data/train-rle.csv\", \"../data/train_png/\")"
   ]
  },
  {
   "cell_type": "code",
   "execution_count": 7,
   "metadata": {
    "ExecuteTime": {
     "end_time": "2019-07-29T05:26:28.208542Z",
     "start_time": "2019-07-29T05:26:28.203265Z"
    }
   },
   "outputs": [
    {
     "data": {
      "text/plain": [
       "3286"
      ]
     },
     "execution_count": 7,
     "metadata": {},
     "output_type": "execute_result"
    }
   ],
   "source": [
    "len(dataset_train)"
   ]
  },
  {
   "cell_type": "markdown",
   "metadata": {},
   "source": [
    "# Create Mask-RCNN Model"
   ]
  },
  {
   "cell_type": "code",
   "execution_count": 8,
   "metadata": {
    "ExecuteTime": {
     "end_time": "2019-07-29T05:26:31.188029Z",
     "start_time": "2019-07-29T05:26:28.210137Z"
    }
   },
   "outputs": [],
   "source": [
    "# create mask rcnn model\n",
    "num_classes = 2\n",
    "device = torch.device('cuda:0')\n",
    "\n",
    "model_ft = torchvision.models.detection.maskrcnn_resnet50_fpn(pretrained=True)\n",
    "in_features = model_ft.roi_heads.box_predictor.cls_score.in_features\n",
    "model_ft.roi_heads.box_predictor = FastRCNNPredictor(in_features, num_classes)\n",
    "in_features_mask = model_ft.roi_heads.mask_predictor.conv5_mask.in_channels\n",
    "hidden_layer = 256\n",
    "model_ft.roi_heads.mask_predictor = MaskRCNNPredictor(in_features_mask, hidden_layer, num_classes)\n",
    "model_ft.to(device)\n",
    "\n",
    "for param in model_ft.parameters():\n",
    "    param.requires_grad = True"
   ]
  },
  {
   "cell_type": "markdown",
   "metadata": {},
   "source": [
    "# Create Data Loader"
   ]
  },
  {
   "cell_type": "code",
   "execution_count": 9,
   "metadata": {
    "ExecuteTime": {
     "end_time": "2019-07-29T05:26:31.191194Z",
     "start_time": "2019-07-29T05:26:31.189098Z"
    }
   },
   "outputs": [],
   "source": [
    "data_loader = torch.utils.data.DataLoader(\n",
    "    dataset_train, batch_size=2, shuffle=True, num_workers=8,\n",
    "    collate_fn=lambda x: tuple(zip(*x)))"
   ]
  },
  {
   "cell_type": "markdown",
   "metadata": {},
   "source": [
    "# Define Training Parameters"
   ]
  },
  {
   "cell_type": "code",
   "execution_count": 10,
   "metadata": {
    "ExecuteTime": {
     "end_time": "2019-07-29T05:26:31.206516Z",
     "start_time": "2019-07-29T05:26:31.192308Z"
    }
   },
   "outputs": [],
   "source": [
    "params = [p for p in model_ft.parameters() if p.requires_grad]\n",
    "optimizer = torch.optim.SGD(params, lr=0.001, momentum=0.9, weight_decay=0.0005)\n",
    "lr_scheduler = torch.optim.lr_scheduler.StepLR(optimizer,\n",
    "                                               step_size=5,\n",
    "                                               gamma=0.1)"
   ]
  },
  {
   "cell_type": "markdown",
   "metadata": {},
   "source": [
    "# Train Model"
   ]
  },
  {
   "cell_type": "code",
   "execution_count": 11,
   "metadata": {
    "ExecuteTime": {
     "end_time": "2019-07-29T06:01:09.100892Z",
     "start_time": "2019-07-29T05:26:31.209188Z"
    }
   },
   "outputs": [
    {
     "name": "stdout",
     "output_type": "stream",
     "text": [
      "Epoch: [0]  [   0/1643]  eta: 0:42:32  lr: 0.000002  loss: 1.9609 (1.9609)  loss_classifier: 0.4290 (0.4290)  loss_box_reg: 0.0027 (0.0027)  loss_mask: 1.3446 (1.3446)  loss_objectness: 0.1689 (0.1689)  loss_rpn_box_reg: 0.0156 (0.0156)  time: 1.5533  data: 0.6868  max mem: 3183\n",
      "Epoch: [0]  [ 100/1643]  eta: 0:08:09  lr: 0.000102  loss: 0.7390 (1.1599)  loss_classifier: 0.0920 (0.1788)  loss_box_reg: 0.0446 (0.0343)  loss_mask: 0.5236 (0.8230)  loss_objectness: 0.0423 (0.1113)  loss_rpn_box_reg: 0.0066 (0.0126)  time: 0.3067  data: 0.0056  max mem: 4327\n",
      "Epoch: [0]  [ 200/1643]  eta: 0:07:31  lr: 0.000202  loss: 0.6877 (0.9398)  loss_classifier: 0.0983 (0.1360)  loss_box_reg: 0.0478 (0.0418)  loss_mask: 0.5145 (0.6738)  loss_objectness: 0.0245 (0.0769)  loss_rpn_box_reg: 0.0084 (0.0112)  time: 0.3107  data: 0.0052  max mem: 4331\n",
      "Epoch: [0]  [ 300/1643]  eta: 0:06:59  lr: 0.000302  loss: 0.6451 (0.8513)  loss_classifier: 0.0911 (0.1244)  loss_box_reg: 0.0602 (0.0485)  loss_mask: 0.4406 (0.6047)  loss_objectness: 0.0245 (0.0628)  loss_rpn_box_reg: 0.0074 (0.0109)  time: 0.3129  data: 0.0053  max mem: 4363\n",
      "Epoch: [0]  [ 400/1643]  eta: 0:06:28  lr: 0.000402  loss: 0.6107 (0.8008)  loss_classifier: 0.0993 (0.1176)  loss_box_reg: 0.0641 (0.0521)  loss_mask: 0.4122 (0.5662)  loss_objectness: 0.0216 (0.0545)  loss_rpn_box_reg: 0.0056 (0.0103)  time: 0.3131  data: 0.0051  max mem: 4363\n",
      "Epoch: [0]  [ 500/1643]  eta: 0:05:57  lr: 0.000501  loss: 0.5336 (0.7624)  loss_classifier: 0.0923 (0.1123)  loss_box_reg: 0.0557 (0.0536)  loss_mask: 0.3028 (0.5374)  loss_objectness: 0.0181 (0.0493)  loss_rpn_box_reg: 0.0062 (0.0098)  time: 0.3137  data: 0.0054  max mem: 4363\n",
      "Epoch: [0]  [ 600/1643]  eta: 0:05:26  lr: 0.000601  loss: 0.5514 (0.7418)  loss_classifier: 0.0878 (0.1080)  loss_box_reg: 0.0502 (0.0538)  loss_mask: 0.3659 (0.5233)  loss_objectness: 0.0239 (0.0463)  loss_rpn_box_reg: 0.0079 (0.0103)  time: 0.3130  data: 0.0052  max mem: 4363\n",
      "Epoch: [0]  [ 700/1643]  eta: 0:04:54  lr: 0.000701  loss: 0.5876 (0.7231)  loss_classifier: 0.0775 (0.1049)  loss_box_reg: 0.0453 (0.0535)  loss_mask: 0.4362 (0.5093)  loss_objectness: 0.0166 (0.0449)  loss_rpn_box_reg: 0.0050 (0.0104)  time: 0.3112  data: 0.0049  max mem: 4363\n",
      "Epoch: [0]  [ 800/1643]  eta: 0:04:23  lr: 0.000801  loss: 0.5621 (0.7073)  loss_classifier: 0.0924 (0.1027)  loss_box_reg: 0.0525 (0.0535)  loss_mask: 0.3650 (0.4980)  loss_objectness: 0.0232 (0.0429)  loss_rpn_box_reg: 0.0064 (0.0102)  time: 0.3136  data: 0.0050  max mem: 4364\n",
      "Epoch: [0]  [ 900/1643]  eta: 0:03:52  lr: 0.000901  loss: 0.5440 (0.6958)  loss_classifier: 0.0792 (0.1003)  loss_box_reg: 0.0436 (0.0525)  loss_mask: 0.3914 (0.4899)  loss_objectness: 0.0143 (0.0420)  loss_rpn_box_reg: 0.0068 (0.0110)  time: 0.3131  data: 0.0051  max mem: 4367\n",
      "Epoch: [0]  [1000/1643]  eta: 0:03:21  lr: 0.001000  loss: 0.5539 (0.6850)  loss_classifier: 0.0881 (0.0989)  loss_box_reg: 0.0412 (0.0519)  loss_mask: 0.3766 (0.4826)  loss_objectness: 0.0254 (0.0407)  loss_rpn_box_reg: 0.0072 (0.0108)  time: 0.3130  data: 0.0051  max mem: 4367\n",
      "Epoch: [0]  [1100/1643]  eta: 0:02:49  lr: 0.001000  loss: 0.4710 (0.6752)  loss_classifier: 0.0840 (0.0981)  loss_box_reg: 0.0433 (0.0515)  loss_mask: 0.3145 (0.4757)  loss_objectness: 0.0114 (0.0393)  loss_rpn_box_reg: 0.0052 (0.0107)  time: 0.3161  data: 0.0051  max mem: 4368\n",
      "Epoch: [0]  [1200/1643]  eta: 0:02:18  lr: 0.001000  loss: 0.4591 (0.6629)  loss_classifier: 0.0774 (0.0969)  loss_box_reg: 0.0397 (0.0510)  loss_mask: 0.3134 (0.4666)  loss_objectness: 0.0136 (0.0380)  loss_rpn_box_reg: 0.0047 (0.0104)  time: 0.3133  data: 0.0053  max mem: 4368\n",
      "Epoch: [0]  [1300/1643]  eta: 0:01:47  lr: 0.001000  loss: 0.5291 (0.6556)  loss_classifier: 0.0932 (0.0962)  loss_box_reg: 0.0462 (0.0507)  loss_mask: 0.3600 (0.4617)  loss_objectness: 0.0116 (0.0368)  loss_rpn_box_reg: 0.0054 (0.0102)  time: 0.3150  data: 0.0054  max mem: 4368\n",
      "Epoch: [0]  [1400/1643]  eta: 0:01:16  lr: 0.001000  loss: 0.4878 (0.6472)  loss_classifier: 0.0896 (0.0955)  loss_box_reg: 0.0499 (0.0505)  loss_mask: 0.3273 (0.4558)  loss_objectness: 0.0118 (0.0353)  loss_rpn_box_reg: 0.0046 (0.0100)  time: 0.3174  data: 0.0055  max mem: 4368\n",
      "Epoch: [0]  [1500/1643]  eta: 0:00:44  lr: 0.001000  loss: 0.5101 (0.6405)  loss_classifier: 0.0864 (0.0952)  loss_box_reg: 0.0464 (0.0502)  loss_mask: 0.3371 (0.4507)  loss_objectness: 0.0172 (0.0345)  loss_rpn_box_reg: 0.0071 (0.0098)  time: 0.3136  data: 0.0051  max mem: 4368\n",
      "Epoch: [0]  [1600/1643]  eta: 0:00:13  lr: 0.001000  loss: 0.5582 (0.6355)  loss_classifier: 0.0835 (0.0947)  loss_box_reg: 0.0463 (0.0498)  loss_mask: 0.4029 (0.4476)  loss_objectness: 0.0175 (0.0337)  loss_rpn_box_reg: 0.0059 (0.0097)  time: 0.3128  data: 0.0050  max mem: 4368\n",
      "Epoch: [0]  [1642/1643]  eta: 0:00:00  lr: 0.001000  loss: 0.4719 (0.6327)  loss_classifier: 0.0829 (0.0944)  loss_box_reg: 0.0426 (0.0497)  loss_mask: 0.3174 (0.4452)  loss_objectness: 0.0105 (0.0336)  loss_rpn_box_reg: 0.0058 (0.0097)  time: 0.3151  data: 0.0053  max mem: 4368\n",
      "Epoch: [0] Total time: 0:08:34 (0.3134 s / it)\n",
      "Epoch: [1]  [   0/1643]  eta: 0:22:03  lr: 0.001000  loss: 0.3528 (0.3528)  loss_classifier: 0.0936 (0.0936)  loss_box_reg: 0.0492 (0.0492)  loss_mask: 0.1984 (0.1984)  loss_objectness: 0.0079 (0.0079)  loss_rpn_box_reg: 0.0037 (0.0037)  time: 0.8056  data: 0.4873  max mem: 4368\n",
      "Epoch: [1]  [ 100/1643]  eta: 0:08:12  lr: 0.001000  loss: 0.4685 (0.5008)  loss_classifier: 0.0914 (0.0837)  loss_box_reg: 0.0446 (0.0448)  loss_mask: 0.3031 (0.3466)  loss_objectness: 0.0122 (0.0187)  loss_rpn_box_reg: 0.0046 (0.0071)  time: 0.3144  data: 0.0051  max mem: 4368\n",
      "Epoch: [1]  [ 200/1643]  eta: 0:07:36  lr: 0.001000  loss: 0.4416 (0.5076)  loss_classifier: 0.0812 (0.0862)  loss_box_reg: 0.0426 (0.0444)  loss_mask: 0.2891 (0.3511)  loss_objectness: 0.0157 (0.0185)  loss_rpn_box_reg: 0.0051 (0.0073)  time: 0.3141  data: 0.0053  max mem: 4368\n",
      "Epoch: [1]  [ 300/1643]  eta: 0:07:04  lr: 0.001000  loss: 0.4241 (0.5134)  loss_classifier: 0.0764 (0.0860)  loss_box_reg: 0.0386 (0.0443)  loss_mask: 0.2890 (0.3554)  loss_objectness: 0.0139 (0.0195)  loss_rpn_box_reg: 0.0047 (0.0081)  time: 0.3139  data: 0.0051  max mem: 4368\n",
      "Epoch: [1]  [ 400/1643]  eta: 0:06:32  lr: 0.001000  loss: 0.4903 (0.5155)  loss_classifier: 0.0900 (0.0859)  loss_box_reg: 0.0397 (0.0444)  loss_mask: 0.3197 (0.3580)  loss_objectness: 0.0197 (0.0193)  loss_rpn_box_reg: 0.0053 (0.0079)  time: 0.3152  data: 0.0054  max mem: 4368\n",
      "Epoch: [1]  [ 500/1643]  eta: 0:06:00  lr: 0.001000  loss: 0.4993 (0.5169)  loss_classifier: 0.0713 (0.0850)  loss_box_reg: 0.0459 (0.0441)  loss_mask: 0.3415 (0.3607)  loss_objectness: 0.0126 (0.0194)  loss_rpn_box_reg: 0.0056 (0.0077)  time: 0.3143  data: 0.0052  max mem: 4368\n",
      "Epoch: [1]  [ 600/1643]  eta: 0:05:28  lr: 0.001000  loss: 0.4156 (0.5128)  loss_classifier: 0.0695 (0.0845)  loss_box_reg: 0.0362 (0.0438)  loss_mask: 0.2973 (0.3572)  loss_objectness: 0.0083 (0.0197)  loss_rpn_box_reg: 0.0045 (0.0077)  time: 0.3147  data: 0.0052  max mem: 4368\n",
      "Epoch: [1]  [ 700/1643]  eta: 0:04:57  lr: 0.001000  loss: 0.5135 (0.5169)  loss_classifier: 0.0790 (0.0846)  loss_box_reg: 0.0526 (0.0442)  loss_mask: 0.3330 (0.3611)  loss_objectness: 0.0137 (0.0193)  loss_rpn_box_reg: 0.0057 (0.0076)  time: 0.3138  data: 0.0051  max mem: 4368\n",
      "Epoch: [1]  [ 800/1643]  eta: 0:04:25  lr: 0.001000  loss: 0.4394 (0.5153)  loss_classifier: 0.0816 (0.0847)  loss_box_reg: 0.0465 (0.0441)  loss_mask: 0.2727 (0.3599)  loss_objectness: 0.0105 (0.0190)  loss_rpn_box_reg: 0.0048 (0.0075)  time: 0.3157  data: 0.0052  max mem: 4368\n",
      "Epoch: [1]  [ 900/1643]  eta: 0:03:54  lr: 0.001000  loss: 0.4726 (0.5161)  loss_classifier: 0.0792 (0.0844)  loss_box_reg: 0.0379 (0.0438)  loss_mask: 0.3426 (0.3600)  loss_objectness: 0.0100 (0.0200)  loss_rpn_box_reg: 0.0049 (0.0078)  time: 0.3142  data: 0.0050  max mem: 4368\n",
      "Epoch: [1]  [1000/1643]  eta: 0:03:22  lr: 0.001000  loss: 0.5071 (0.5176)  loss_classifier: 0.0824 (0.0845)  loss_box_reg: 0.0483 (0.0439)  loss_mask: 0.3362 (0.3611)  loss_objectness: 0.0122 (0.0203)  loss_rpn_box_reg: 0.0063 (0.0079)  time: 0.3134  data: 0.0049  max mem: 4368\n",
      "Epoch: [1]  [1100/1643]  eta: 0:02:51  lr: 0.001000  loss: 0.4194 (0.5146)  loss_classifier: 0.0727 (0.0844)  loss_box_reg: 0.0440 (0.0440)  loss_mask: 0.2714 (0.3581)  loss_objectness: 0.0109 (0.0202)  loss_rpn_box_reg: 0.0039 (0.0080)  time: 0.3138  data: 0.0049  max mem: 4368\n"
     ]
    },
    {
     "name": "stdout",
     "output_type": "stream",
     "text": [
      "Epoch: [1]  [1200/1643]  eta: 0:02:19  lr: 0.001000  loss: 0.5156 (0.5141)  loss_classifier: 0.0852 (0.0844)  loss_box_reg: 0.0482 (0.0441)  loss_mask: 0.3415 (0.3574)  loss_objectness: 0.0192 (0.0201)  loss_rpn_box_reg: 0.0064 (0.0082)  time: 0.3128  data: 0.0049  max mem: 4368\n",
      "Epoch: [1]  [1300/1643]  eta: 0:01:47  lr: 0.001000  loss: 0.4854 (0.5143)  loss_classifier: 0.0810 (0.0846)  loss_box_reg: 0.0433 (0.0442)  loss_mask: 0.3381 (0.3570)  loss_objectness: 0.0133 (0.0204)  loss_rpn_box_reg: 0.0051 (0.0081)  time: 0.3138  data: 0.0051  max mem: 4372\n",
      "Epoch: [1]  [1400/1643]  eta: 0:01:16  lr: 0.001000  loss: 0.4602 (0.5127)  loss_classifier: 0.0867 (0.0847)  loss_box_reg: 0.0428 (0.0442)  loss_mask: 0.2882 (0.3549)  loss_objectness: 0.0140 (0.0206)  loss_rpn_box_reg: 0.0066 (0.0083)  time: 0.3134  data: 0.0049  max mem: 4372\n",
      "Epoch: [1]  [1500/1643]  eta: 0:00:44  lr: 0.001000  loss: 0.4744 (0.5129)  loss_classifier: 0.0931 (0.0845)  loss_box_reg: 0.0444 (0.0442)  loss_mask: 0.2913 (0.3551)  loss_objectness: 0.0129 (0.0205)  loss_rpn_box_reg: 0.0052 (0.0086)  time: 0.3156  data: 0.0052  max mem: 4372\n",
      "Epoch: [1]  [1600/1643]  eta: 0:00:13  lr: 0.001000  loss: 0.5204 (0.5128)  loss_classifier: 0.0802 (0.0846)  loss_box_reg: 0.0443 (0.0442)  loss_mask: 0.3771 (0.3551)  loss_objectness: 0.0167 (0.0204)  loss_rpn_box_reg: 0.0060 (0.0085)  time: 0.3147  data: 0.0051  max mem: 4372\n",
      "Epoch: [1]  [1642/1643]  eta: 0:00:00  lr: 0.001000  loss: 0.4621 (0.5126)  loss_classifier: 0.0733 (0.0845)  loss_box_reg: 0.0351 (0.0441)  loss_mask: 0.2907 (0.3553)  loss_objectness: 0.0121 (0.0203)  loss_rpn_box_reg: 0.0046 (0.0084)  time: 0.3156  data: 0.0053  max mem: 4372\n",
      "Epoch: [1] Total time: 0:08:36 (0.3147 s / it)\n",
      "Epoch: [2]  [   0/1643]  eta: 0:24:46  lr: 0.001000  loss: 0.4871 (0.4871)  loss_classifier: 0.0962 (0.0962)  loss_box_reg: 0.0522 (0.0522)  loss_mask: 0.3249 (0.3249)  loss_objectness: 0.0090 (0.0090)  loss_rpn_box_reg: 0.0048 (0.0048)  time: 0.9046  data: 0.5760  max mem: 4372\n",
      "Epoch: [2]  [ 100/1643]  eta: 0:08:15  lr: 0.001000  loss: 0.4685 (0.4822)  loss_classifier: 0.0818 (0.0807)  loss_box_reg: 0.0418 (0.0408)  loss_mask: 0.3067 (0.3373)  loss_objectness: 0.0105 (0.0165)  loss_rpn_box_reg: 0.0050 (0.0069)  time: 0.3150  data: 0.0050  max mem: 4372\n",
      "Epoch: [2]  [ 200/1643]  eta: 0:07:38  lr: 0.001000  loss: 0.4734 (0.4786)  loss_classifier: 0.0764 (0.0816)  loss_box_reg: 0.0410 (0.0417)  loss_mask: 0.3181 (0.3302)  loss_objectness: 0.0153 (0.0166)  loss_rpn_box_reg: 0.0055 (0.0085)  time: 0.3141  data: 0.0049  max mem: 4372\n",
      "Epoch: [2]  [ 300/1643]  eta: 0:07:05  lr: 0.001000  loss: 0.4376 (0.4875)  loss_classifier: 0.0754 (0.0815)  loss_box_reg: 0.0415 (0.0429)  loss_mask: 0.2872 (0.3386)  loss_objectness: 0.0125 (0.0163)  loss_rpn_box_reg: 0.0049 (0.0082)  time: 0.3162  data: 0.0053  max mem: 4372\n",
      "Epoch: [2]  [ 400/1643]  eta: 0:06:33  lr: 0.001000  loss: 0.4521 (0.4856)  loss_classifier: 0.0717 (0.0822)  loss_box_reg: 0.0419 (0.0437)  loss_mask: 0.2642 (0.3344)  loss_objectness: 0.0097 (0.0166)  loss_rpn_box_reg: 0.0049 (0.0087)  time: 0.3160  data: 0.0052  max mem: 4372\n",
      "Epoch: [2]  [ 500/1643]  eta: 0:06:01  lr: 0.001000  loss: 0.4163 (0.4834)  loss_classifier: 0.0820 (0.0819)  loss_box_reg: 0.0385 (0.0437)  loss_mask: 0.2817 (0.3328)  loss_objectness: 0.0097 (0.0166)  loss_rpn_box_reg: 0.0053 (0.0085)  time: 0.3148  data: 0.0051  max mem: 4372\n",
      "Epoch: [2]  [ 600/1643]  eta: 0:05:29  lr: 0.001000  loss: 0.4888 (0.4873)  loss_classifier: 0.0802 (0.0817)  loss_box_reg: 0.0418 (0.0432)  loss_mask: 0.3358 (0.3367)  loss_objectness: 0.0150 (0.0171)  loss_rpn_box_reg: 0.0061 (0.0086)  time: 0.3153  data: 0.0053  max mem: 4372\n",
      "Epoch: [2]  [ 700/1643]  eta: 0:04:57  lr: 0.001000  loss: 0.4250 (0.4857)  loss_classifier: 0.0814 (0.0818)  loss_box_reg: 0.0431 (0.0434)  loss_mask: 0.2789 (0.3359)  loss_objectness: 0.0067 (0.0163)  loss_rpn_box_reg: 0.0034 (0.0083)  time: 0.3166  data: 0.0051  max mem: 4372\n",
      "Epoch: [2]  [ 800/1643]  eta: 0:04:26  lr: 0.001000  loss: 0.3981 (0.4805)  loss_classifier: 0.0731 (0.0814)  loss_box_reg: 0.0386 (0.0431)  loss_mask: 0.2738 (0.3315)  loss_objectness: 0.0115 (0.0163)  loss_rpn_box_reg: 0.0052 (0.0082)  time: 0.3134  data: 0.0050  max mem: 4372\n",
      "Epoch: [2]  [ 900/1643]  eta: 0:03:54  lr: 0.001000  loss: 0.4252 (0.4796)  loss_classifier: 0.0704 (0.0810)  loss_box_reg: 0.0344 (0.0429)  loss_mask: 0.2969 (0.3309)  loss_objectness: 0.0090 (0.0166)  loss_rpn_box_reg: 0.0046 (0.0082)  time: 0.3136  data: 0.0052  max mem: 4372\n",
      "Epoch: [2]  [1000/1643]  eta: 0:03:22  lr: 0.001000  loss: 0.4406 (0.4780)  loss_classifier: 0.0816 (0.0808)  loss_box_reg: 0.0438 (0.0429)  loss_mask: 0.3149 (0.3299)  loss_objectness: 0.0109 (0.0164)  loss_rpn_box_reg: 0.0054 (0.0079)  time: 0.3138  data: 0.0050  max mem: 4372\n",
      "Epoch: [2]  [1100/1643]  eta: 0:02:51  lr: 0.001000  loss: 0.4855 (0.4774)  loss_classifier: 0.0916 (0.0810)  loss_box_reg: 0.0458 (0.0430)  loss_mask: 0.3098 (0.3287)  loss_objectness: 0.0162 (0.0166)  loss_rpn_box_reg: 0.0066 (0.0081)  time: 0.3138  data: 0.0050  max mem: 4372\n",
      "Epoch: [2]  [1200/1643]  eta: 0:02:19  lr: 0.001000  loss: 0.4941 (0.4788)  loss_classifier: 0.0767 (0.0813)  loss_box_reg: 0.0403 (0.0431)  loss_mask: 0.3515 (0.3294)  loss_objectness: 0.0094 (0.0167)  loss_rpn_box_reg: 0.0061 (0.0083)  time: 0.3139  data: 0.0048  max mem: 4372\n",
      "Epoch: [2]  [1300/1643]  eta: 0:01:48  lr: 0.001000  loss: 0.4370 (0.4788)  loss_classifier: 0.0861 (0.0816)  loss_box_reg: 0.0418 (0.0431)  loss_mask: 0.3232 (0.3290)  loss_objectness: 0.0154 (0.0168)  loss_rpn_box_reg: 0.0056 (0.0083)  time: 0.3141  data: 0.0049  max mem: 4372\n",
      "Epoch: [2]  [1400/1643]  eta: 0:01:16  lr: 0.001000  loss: 0.5170 (0.4811)  loss_classifier: 0.0875 (0.0817)  loss_box_reg: 0.0426 (0.0431)  loss_mask: 0.3398 (0.3307)  loss_objectness: 0.0145 (0.0172)  loss_rpn_box_reg: 0.0047 (0.0083)  time: 0.3145  data: 0.0051  max mem: 4372\n",
      "Epoch: [2]  [1500/1643]  eta: 0:00:45  lr: 0.001000  loss: 0.4355 (0.4800)  loss_classifier: 0.0723 (0.0818)  loss_box_reg: 0.0378 (0.0431)  loss_mask: 0.3044 (0.3299)  loss_objectness: 0.0109 (0.0170)  loss_rpn_box_reg: 0.0046 (0.0082)  time: 0.3149  data: 0.0052  max mem: 4372\n",
      "Epoch: [2]  [1600/1643]  eta: 0:00:13  lr: 0.001000  loss: 0.3987 (0.4795)  loss_classifier: 0.0742 (0.0817)  loss_box_reg: 0.0375 (0.0432)  loss_mask: 0.2759 (0.3299)  loss_objectness: 0.0098 (0.0167)  loss_rpn_box_reg: 0.0042 (0.0081)  time: 0.3141  data: 0.0052  max mem: 4372\n",
      "Epoch: [2]  [1642/1643]  eta: 0:00:00  lr: 0.001000  loss: 0.4367 (0.4791)  loss_classifier: 0.0761 (0.0818)  loss_box_reg: 0.0380 (0.0433)  loss_mask: 0.3046 (0.3293)  loss_objectness: 0.0114 (0.0167)  loss_rpn_box_reg: 0.0053 (0.0080)  time: 0.3127  data: 0.0049  max mem: 4372\n",
      "Epoch: [2] Total time: 0:08:37 (0.3150 s / it)\n",
      "Epoch: [3]  [   0/1643]  eta: 0:23:22  lr: 0.001000  loss: 0.3857 (0.3857)  loss_classifier: 0.0914 (0.0914)  loss_box_reg: 0.0358 (0.0358)  loss_mask: 0.2330 (0.2330)  loss_objectness: 0.0202 (0.0202)  loss_rpn_box_reg: 0.0052 (0.0052)  time: 0.8538  data: 0.5355  max mem: 4372\n",
      "Epoch: [3]  [ 100/1643]  eta: 0:08:12  lr: 0.001000  loss: 0.4091 (0.4381)  loss_classifier: 0.0725 (0.0779)  loss_box_reg: 0.0458 (0.0428)  loss_mask: 0.2768 (0.2904)  loss_objectness: 0.0089 (0.0173)  loss_rpn_box_reg: 0.0048 (0.0096)  time: 0.3146  data: 0.0051  max mem: 4372\n",
      "Epoch: [3]  [ 200/1643]  eta: 0:07:37  lr: 0.001000  loss: 0.4216 (0.4444)  loss_classifier: 0.0715 (0.0774)  loss_box_reg: 0.0448 (0.0422)  loss_mask: 0.2794 (0.2998)  loss_objectness: 0.0066 (0.0162)  loss_rpn_box_reg: 0.0050 (0.0089)  time: 0.3159  data: 0.0051  max mem: 4372\n",
      "Epoch: [3]  [ 300/1643]  eta: 0:07:04  lr: 0.001000  loss: 0.3480 (0.4352)  loss_classifier: 0.0661 (0.0774)  loss_box_reg: 0.0360 (0.0424)  loss_mask: 0.2325 (0.2925)  loss_objectness: 0.0078 (0.0150)  loss_rpn_box_reg: 0.0034 (0.0079)  time: 0.3152  data: 0.0049  max mem: 4372\n",
      "Epoch: [3]  [ 400/1643]  eta: 0:06:32  lr: 0.001000  loss: 0.4167 (0.4425)  loss_classifier: 0.0777 (0.0777)  loss_box_reg: 0.0364 (0.0430)  loss_mask: 0.2977 (0.3000)  loss_objectness: 0.0076 (0.0142)  loss_rpn_box_reg: 0.0054 (0.0077)  time: 0.3138  data: 0.0049  max mem: 4372\n"
     ]
    },
    {
     "name": "stdout",
     "output_type": "stream",
     "text": [
      "Epoch: [3]  [ 500/1643]  eta: 0:06:00  lr: 0.001000  loss: 0.3972 (0.4562)  loss_classifier: 0.0662 (0.0787)  loss_box_reg: 0.0326 (0.0426)  loss_mask: 0.2637 (0.3104)  loss_objectness: 0.0165 (0.0165)  loss_rpn_box_reg: 0.0043 (0.0081)  time: 0.3130  data: 0.0049  max mem: 4372\n",
      "Epoch: [3]  [ 600/1643]  eta: 0:05:28  lr: 0.001000  loss: 0.4159 (0.4584)  loss_classifier: 0.0717 (0.0785)  loss_box_reg: 0.0302 (0.0419)  loss_mask: 0.3024 (0.3133)  loss_objectness: 0.0097 (0.0166)  loss_rpn_box_reg: 0.0051 (0.0080)  time: 0.3131  data: 0.0049  max mem: 4372\n",
      "Epoch: [3]  [ 700/1643]  eta: 0:04:56  lr: 0.001000  loss: 0.3756 (0.4526)  loss_classifier: 0.0638 (0.0779)  loss_box_reg: 0.0361 (0.0415)  loss_mask: 0.2570 (0.3094)  loss_objectness: 0.0105 (0.0160)  loss_rpn_box_reg: 0.0064 (0.0078)  time: 0.3143  data: 0.0049  max mem: 4372\n",
      "Epoch: [3]  [ 800/1643]  eta: 0:04:25  lr: 0.001000  loss: 0.4670 (0.4538)  loss_classifier: 0.0759 (0.0780)  loss_box_reg: 0.0377 (0.0413)  loss_mask: 0.2969 (0.3108)  loss_objectness: 0.0108 (0.0160)  loss_rpn_box_reg: 0.0048 (0.0077)  time: 0.3156  data: 0.0052  max mem: 4372\n",
      "Epoch: [3]  [ 900/1643]  eta: 0:03:53  lr: 0.001000  loss: 0.4365 (0.4572)  loss_classifier: 0.0789 (0.0784)  loss_box_reg: 0.0392 (0.0414)  loss_mask: 0.3181 (0.3137)  loss_objectness: 0.0101 (0.0159)  loss_rpn_box_reg: 0.0045 (0.0077)  time: 0.3170  data: 0.0053  max mem: 4372\n",
      "Epoch: [3]  [1000/1643]  eta: 0:03:22  lr: 0.001000  loss: 0.3889 (0.4579)  loss_classifier: 0.0724 (0.0784)  loss_box_reg: 0.0363 (0.0415)  loss_mask: 0.2694 (0.3142)  loss_objectness: 0.0103 (0.0160)  loss_rpn_box_reg: 0.0054 (0.0079)  time: 0.3154  data: 0.0052  max mem: 4372\n",
      "Epoch: [3]  [1100/1643]  eta: 0:02:51  lr: 0.001000  loss: 0.4208 (0.4576)  loss_classifier: 0.0766 (0.0788)  loss_box_reg: 0.0379 (0.0414)  loss_mask: 0.2752 (0.3139)  loss_objectness: 0.0114 (0.0157)  loss_rpn_box_reg: 0.0055 (0.0077)  time: 0.3152  data: 0.0052  max mem: 4372\n",
      "Epoch: [3]  [1200/1643]  eta: 0:02:19  lr: 0.001000  loss: 0.3902 (0.4564)  loss_classifier: 0.0653 (0.0786)  loss_box_reg: 0.0404 (0.0413)  loss_mask: 0.2743 (0.3133)  loss_objectness: 0.0143 (0.0156)  loss_rpn_box_reg: 0.0044 (0.0076)  time: 0.3135  data: 0.0051  max mem: 4372\n",
      "Epoch: [3]  [1300/1643]  eta: 0:01:47  lr: 0.001000  loss: 0.4264 (0.4573)  loss_classifier: 0.0767 (0.0789)  loss_box_reg: 0.0432 (0.0414)  loss_mask: 0.2384 (0.3132)  loss_objectness: 0.0142 (0.0159)  loss_rpn_box_reg: 0.0050 (0.0079)  time: 0.3143  data: 0.0050  max mem: 4372\n",
      "Epoch: [3]  [1400/1643]  eta: 0:01:16  lr: 0.001000  loss: 0.4083 (0.4565)  loss_classifier: 0.0850 (0.0787)  loss_box_reg: 0.0353 (0.0414)  loss_mask: 0.2384 (0.3128)  loss_objectness: 0.0064 (0.0157)  loss_rpn_box_reg: 0.0054 (0.0078)  time: 0.3149  data: 0.0050  max mem: 4372\n",
      "Epoch: [3]  [1500/1643]  eta: 0:00:45  lr: 0.001000  loss: 0.3890 (0.4566)  loss_classifier: 0.0749 (0.0791)  loss_box_reg: 0.0371 (0.0414)  loss_mask: 0.2719 (0.3127)  loss_objectness: 0.0127 (0.0156)  loss_rpn_box_reg: 0.0038 (0.0078)  time: 0.3151  data: 0.0050  max mem: 4372\n",
      "Epoch: [3]  [1600/1643]  eta: 0:00:13  lr: 0.001000  loss: 0.4459 (0.4568)  loss_classifier: 0.0868 (0.0793)  loss_box_reg: 0.0378 (0.0415)  loss_mask: 0.2793 (0.3125)  loss_objectness: 0.0118 (0.0155)  loss_rpn_box_reg: 0.0044 (0.0080)  time: 0.3151  data: 0.0051  max mem: 4372\n",
      "Epoch: [3]  [1642/1643]  eta: 0:00:00  lr: 0.001000  loss: 0.4257 (0.4565)  loss_classifier: 0.0869 (0.0795)  loss_box_reg: 0.0458 (0.0417)  loss_mask: 0.2551 (0.3119)  loss_objectness: 0.0089 (0.0154)  loss_rpn_box_reg: 0.0053 (0.0080)  time: 0.3154  data: 0.0049  max mem: 4372\n",
      "Epoch: [3] Total time: 0:08:37 (0.3150 s / it)\n",
      "Epoch: [4]  [   0/1643]  eta: 0:18:04  lr: 0.001000  loss: 0.2975 (0.2975)  loss_classifier: 0.0921 (0.0921)  loss_box_reg: 0.0357 (0.0357)  loss_mask: 0.1340 (0.1340)  loss_objectness: 0.0296 (0.0296)  loss_rpn_box_reg: 0.0063 (0.0063)  time: 0.6603  data: 0.3280  max mem: 4372\n"
     ]
    },
    {
     "ename": "KeyboardInterrupt",
     "evalue": "",
     "output_type": "error",
     "traceback": [
      "\u001b[0;31m---------------------------------------------------------------------------\u001b[0m",
      "\u001b[0;31mKeyboardInterrupt\u001b[0m                         Traceback (most recent call last)",
      "\u001b[0;32m<ipython-input-11-01c084f47311>\u001b[0m in \u001b[0;36m<module>\u001b[0;34m\u001b[0m\n\u001b[1;32m      1\u001b[0m \u001b[0mnum_epochs\u001b[0m \u001b[0;34m=\u001b[0m \u001b[0;36m6\u001b[0m\u001b[0;34m\u001b[0m\u001b[0;34m\u001b[0m\u001b[0m\n\u001b[1;32m      2\u001b[0m \u001b[0;32mfor\u001b[0m \u001b[0mepoch\u001b[0m \u001b[0;32min\u001b[0m \u001b[0mrange\u001b[0m\u001b[0;34m(\u001b[0m\u001b[0mnum_epochs\u001b[0m\u001b[0;34m)\u001b[0m\u001b[0;34m:\u001b[0m\u001b[0;34m\u001b[0m\u001b[0;34m\u001b[0m\u001b[0m\n\u001b[0;32m----> 3\u001b[0;31m     \u001b[0mtrain_one_epoch\u001b[0m\u001b[0;34m(\u001b[0m\u001b[0mmodel_ft\u001b[0m\u001b[0;34m,\u001b[0m \u001b[0moptimizer\u001b[0m\u001b[0;34m,\u001b[0m \u001b[0mdata_loader\u001b[0m\u001b[0;34m,\u001b[0m \u001b[0mdevice\u001b[0m\u001b[0;34m,\u001b[0m \u001b[0mepoch\u001b[0m\u001b[0;34m,\u001b[0m \u001b[0mprint_freq\u001b[0m\u001b[0;34m=\u001b[0m\u001b[0;36m100\u001b[0m\u001b[0;34m)\u001b[0m\u001b[0;34m\u001b[0m\u001b[0;34m\u001b[0m\u001b[0m\n\u001b[0m\u001b[1;32m      4\u001b[0m     \u001b[0mlr_scheduler\u001b[0m\u001b[0;34m.\u001b[0m\u001b[0mstep\u001b[0m\u001b[0;34m(\u001b[0m\u001b[0;34m)\u001b[0m\u001b[0;34m\u001b[0m\u001b[0;34m\u001b[0m\u001b[0m\n",
      "\u001b[0;32m<ipython-input-3-98defe1b719b>\u001b[0m in \u001b[0;36mtrain_one_epoch\u001b[0;34m(model, optimizer, data_loader, device, epoch, print_freq)\u001b[0m\n\u001b[1;32m     31\u001b[0m             \u001b[0mlr_scheduler\u001b[0m\u001b[0;34m.\u001b[0m\u001b[0mstep\u001b[0m\u001b[0;34m(\u001b[0m\u001b[0;34m)\u001b[0m\u001b[0;34m\u001b[0m\u001b[0;34m\u001b[0m\u001b[0m\n\u001b[1;32m     32\u001b[0m \u001b[0;34m\u001b[0m\u001b[0m\n\u001b[0;32m---> 33\u001b[0;31m         \u001b[0mmetric_logger\u001b[0m\u001b[0;34m.\u001b[0m\u001b[0mupdate\u001b[0m\u001b[0;34m(\u001b[0m\u001b[0mloss\u001b[0m\u001b[0;34m=\u001b[0m\u001b[0mlosses_reduced\u001b[0m\u001b[0;34m,\u001b[0m \u001b[0;34m**\u001b[0m\u001b[0mloss_dict_reduced\u001b[0m\u001b[0;34m)\u001b[0m\u001b[0;34m\u001b[0m\u001b[0;34m\u001b[0m\u001b[0m\n\u001b[0m\u001b[1;32m     34\u001b[0m         \u001b[0mmetric_logger\u001b[0m\u001b[0;34m.\u001b[0m\u001b[0mupdate\u001b[0m\u001b[0;34m(\u001b[0m\u001b[0mlr\u001b[0m\u001b[0;34m=\u001b[0m\u001b[0moptimizer\u001b[0m\u001b[0;34m.\u001b[0m\u001b[0mparam_groups\u001b[0m\u001b[0;34m[\u001b[0m\u001b[0;36m0\u001b[0m\u001b[0;34m]\u001b[0m\u001b[0;34m[\u001b[0m\u001b[0;34m\"lr\"\u001b[0m\u001b[0;34m]\u001b[0m\u001b[0;34m)\u001b[0m\u001b[0;34m\u001b[0m\u001b[0;34m\u001b[0m\u001b[0m\n",
      "\u001b[0;32m<ipython-input-2-1d5aa41f81bd>\u001b[0m in \u001b[0;36mupdate\u001b[0;34m(self, **kwargs)\u001b[0m\n\u001b[1;32m    139\u001b[0m         \u001b[0;32mfor\u001b[0m \u001b[0mk\u001b[0m\u001b[0;34m,\u001b[0m \u001b[0mv\u001b[0m \u001b[0;32min\u001b[0m \u001b[0mkwargs\u001b[0m\u001b[0;34m.\u001b[0m\u001b[0mitems\u001b[0m\u001b[0;34m(\u001b[0m\u001b[0;34m)\u001b[0m\u001b[0;34m:\u001b[0m\u001b[0;34m\u001b[0m\u001b[0;34m\u001b[0m\u001b[0m\n\u001b[1;32m    140\u001b[0m             \u001b[0;32mif\u001b[0m \u001b[0misinstance\u001b[0m\u001b[0;34m(\u001b[0m\u001b[0mv\u001b[0m\u001b[0;34m,\u001b[0m \u001b[0mtorch\u001b[0m\u001b[0;34m.\u001b[0m\u001b[0mTensor\u001b[0m\u001b[0;34m)\u001b[0m\u001b[0;34m:\u001b[0m\u001b[0;34m\u001b[0m\u001b[0;34m\u001b[0m\u001b[0m\n\u001b[0;32m--> 141\u001b[0;31m                 \u001b[0mv\u001b[0m \u001b[0;34m=\u001b[0m \u001b[0mv\u001b[0m\u001b[0;34m.\u001b[0m\u001b[0mitem\u001b[0m\u001b[0;34m(\u001b[0m\u001b[0;34m)\u001b[0m\u001b[0;34m\u001b[0m\u001b[0;34m\u001b[0m\u001b[0m\n\u001b[0m\u001b[1;32m    142\u001b[0m             \u001b[0;32massert\u001b[0m \u001b[0misinstance\u001b[0m\u001b[0;34m(\u001b[0m\u001b[0mv\u001b[0m\u001b[0;34m,\u001b[0m \u001b[0;34m(\u001b[0m\u001b[0mfloat\u001b[0m\u001b[0;34m,\u001b[0m \u001b[0mint\u001b[0m\u001b[0;34m)\u001b[0m\u001b[0;34m)\u001b[0m\u001b[0;34m\u001b[0m\u001b[0;34m\u001b[0m\u001b[0m\n\u001b[1;32m    143\u001b[0m             \u001b[0mself\u001b[0m\u001b[0;34m.\u001b[0m\u001b[0mmeters\u001b[0m\u001b[0;34m[\u001b[0m\u001b[0mk\u001b[0m\u001b[0;34m]\u001b[0m\u001b[0;34m.\u001b[0m\u001b[0mupdate\u001b[0m\u001b[0;34m(\u001b[0m\u001b[0mv\u001b[0m\u001b[0;34m)\u001b[0m\u001b[0;34m\u001b[0m\u001b[0;34m\u001b[0m\u001b[0m\n",
      "\u001b[0;31mKeyboardInterrupt\u001b[0m: "
     ]
    }
   ],
   "source": [
    "num_epochs = 6\n",
    "for epoch in range(num_epochs):\n",
    "    train_one_epoch(model_ft, optimizer, data_loader, device, epoch, print_freq=100)\n",
    "    lr_scheduler.step()"
   ]
  },
  {
   "cell_type": "markdown",
   "metadata": {},
   "source": [
    "# Mask to RLE helper"
   ]
  },
  {
   "cell_type": "code",
   "execution_count": null,
   "metadata": {
    "ExecuteTime": {
     "end_time": "2019-07-29T06:01:09.102600Z",
     "start_time": "2019-07-29T05:26:26.856Z"
    }
   },
   "outputs": [],
   "source": [
    "def mask_to_rle(img, width, height):\n",
    "    rle = []\n",
    "    lastColor = 0\n",
    "    currentPixel = 0\n",
    "    runStart = -1\n",
    "    runLength = 0\n",
    "\n",
    "    for x in range(width):\n",
    "        for y in range(height):\n",
    "            currentColor = img[x][y]\n",
    "            if currentColor != lastColor:\n",
    "                if currentColor == 1:\n",
    "                    runStart = currentPixel\n",
    "                    runLength = 1\n",
    "                else:\n",
    "                    rle.append(str(runStart))\n",
    "                    rle.append(str(runLength))\n",
    "                    runStart = -1\n",
    "                    runLength = 0\n",
    "                    currentPixel = 0\n",
    "            elif runStart > -1:\n",
    "                runLength += 1\n",
    "            lastColor = currentColor\n",
    "            currentPixel+=1\n",
    "    return \" \" + \" \".join(rle)"
   ]
  },
  {
   "cell_type": "markdown",
   "metadata": {},
   "source": [
    "# Convert Model to Evaluation Mode"
   ]
  },
  {
   "cell_type": "code",
   "execution_count": null,
   "metadata": {
    "ExecuteTime": {
     "end_time": "2019-07-29T06:01:09.103380Z",
     "start_time": "2019-07-29T05:26:26.860Z"
    }
   },
   "outputs": [],
   "source": [
    "for param in model_ft.parameters():\n",
    "    param.requires_grad = False\n",
    "\n",
    "model_ft.eval();"
   ]
  },
  {
   "cell_type": "markdown",
   "metadata": {},
   "source": [
    "# Get Test Data"
   ]
  },
  {
   "cell_type": "code",
   "execution_count": null,
   "metadata": {
    "ExecuteTime": {
     "end_time": "2019-07-29T06:01:09.104134Z",
     "start_time": "2019-07-29T05:26:26.861Z"
    }
   },
   "outputs": [],
   "source": [
    "sample_df = pd.read_csv(\"../data/sample_submission.csv\")\n",
    "\n",
    "# this part was taken from @raddar's kernel: https://www.kaggle.com/raddar/better-sample-submission\n",
    "masks_ = sample_df.groupby('ImageId')['ImageId'].count().reset_index(name='N')\n",
    "masks_ = masks_.loc[masks_.N > 1].ImageId.values\n",
    "###\n",
    "sample_df = sample_df.drop_duplicates('ImageId', keep='last').reset_index(drop=True)"
   ]
  },
  {
   "cell_type": "code",
   "execution_count": null,
   "metadata": {
    "ExecuteTime": {
     "end_time": "2019-07-29T06:01:09.104937Z",
     "start_time": "2019-07-29T05:26:26.864Z"
    }
   },
   "outputs": [],
   "source": [
    "sample_df['ImageId'].nunique()"
   ]
  },
  {
   "cell_type": "code",
   "execution_count": null,
   "metadata": {
    "ExecuteTime": {
     "end_time": "2019-07-29T06:01:09.105690Z",
     "start_time": "2019-07-29T05:26:26.866Z"
    }
   },
   "outputs": [],
   "source": [
    "sample_df.shape"
   ]
  },
  {
   "cell_type": "code",
   "execution_count": null,
   "metadata": {
    "ExecuteTime": {
     "end_time": "2019-07-29T06:01:09.106397Z",
     "start_time": "2019-07-29T05:26:26.868Z"
    }
   },
   "outputs": [],
   "source": [
    "tt = transforms.ToTensor()\n",
    "sublist = []\n",
    "counter = 0\n",
    "threshold = 0.3\n",
    "for index, row in tqdm(sample_df.iterrows(), total=len(sample_df)):\n",
    "    image_id = row['ImageId']\n",
    "    img_path = os.path.join('../data/test_png', image_id + '.png')\n",
    "    img = Image.open(img_path).convert(\"RGB\")\n",
    "    width, height = img.size\n",
    "    img = img.resize((1024, 1024), resample=Image.BILINEAR)\n",
    "    img = tt(img)\n",
    "    result = model_ft([img.to(device)])[0]\n",
    "    if len(result[\"masks\"]) > 0:\n",
    "        counter += 1\n",
    "        mask_added = 0\n",
    "        for ppx in range(len(result[\"masks\"])):\n",
    "            if result[\"scores\"][ppx] >= threshold:\n",
    "                mask_added += 1\n",
    "                res = transforms.ToPILImage()(result[\"masks\"][ppx].permute(1, 2, 0).cpu().numpy())\n",
    "                res = np.asarray(res.resize((width, height), resample=Image.BILINEAR))\n",
    "                res = (res[:, :] * 255. > 127).astype(np.uint8).T\n",
    "                rle = mask_to_rle(res, width, height)\n",
    "                sublist.append([image_id, rle])\n",
    "        if mask_added == 0:\n",
    "            rle = \" -1\"\n",
    "            sublist.append([image_id, rle])\n",
    "    else:\n",
    "        rle = \" -1\"\n",
    "        sublist.append([image_id, rle])\n",
    "    \n",
    "\n",
    "submission_df = pd.DataFrame(sublist, columns=sample_df.columns.values)\n",
    "submission_df.to_csv(\"submission.csv\", index=False)\n",
    "print(counter)"
   ]
  }
 ],
 "metadata": {
  "kernelspec": {
   "display_name": "ML",
   "language": "python",
   "name": "ml"
  },
  "language_info": {
   "codemirror_mode": {
    "name": "ipython",
    "version": 3
   },
   "file_extension": ".py",
   "mimetype": "text/x-python",
   "name": "python",
   "nbconvert_exporter": "python",
   "pygments_lexer": "ipython3",
   "version": "3.7.3"
  }
 },
 "nbformat": 4,
 "nbformat_minor": 1
}
