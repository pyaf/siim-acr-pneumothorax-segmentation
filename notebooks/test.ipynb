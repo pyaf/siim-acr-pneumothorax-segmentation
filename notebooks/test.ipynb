{
 "cells": [
  {
   "cell_type": "code",
   "execution_count": 1,
   "metadata": {
    "ExecuteTime": {
     "end_time": "2019-08-27T11:12:08.083125Z",
     "start_time": "2019-08-27T11:12:04.029404Z"
    }
   },
   "outputs": [],
   "source": [
    "import pdb\n",
    "import pycm\n",
    "import sys\n",
    "sys.path.append('../')\n",
    "from glob import glob\n",
    "import torch\n",
    "import scipy\n",
    "from torch import nn\n",
    "import cv2\n",
    "from tqdm import tqdm_notebook as tqdm\n",
    "import os\n",
    "# from models import Model\n",
    "from PIL import Image\n",
    "from skimage import io, transform\n",
    "from matplotlib import pyplot as plt\n",
    "import matplotlib.image as mpimg\n",
    "import pandas as pd\n",
    "from torchvision.datasets.folder import pil_loader\n",
    "from torchvision import transforms\n",
    "import random\n",
    "import numpy as np\n",
    "from torchsummary import summary\n",
    "import pretrainedmodels\n",
    "from sklearn.model_selection import KFold, StratifiedKFold\n",
    "from efficientnet_pytorch import EfficientNet\n",
    "import albumentations\n",
    "from pycm import ConfusionMatrix\n",
    "from tensorboard_logger import * \n",
    "import warnings\n",
    "warnings.filterwarnings(\"ignore\")\n",
    "from models import *\n",
    "from utils import *\n",
    "import albumentations\n",
    "from albumentations import torch as AT\n",
    "os.environ['CUDA_VISIBLE_DEVICES']=\"\"\n",
    "from dataloader import provider\n",
    "from augmentations import *\n",
    "from mask_functions import *\n",
    "import warnings\n",
    "# warnings.filterwarnings('ignore', category=RuntimeWarning)\n",
    "\n",
    "%matplotlib inline\n"
   ]
  },
  {
   "cell_type": "markdown",
   "metadata": {
    "heading_collapsed": true
   },
   "source": [
    "#### Loss weight test"
   ]
  },
  {
   "cell_type": "code",
   "execution_count": 110,
   "metadata": {
    "ExecuteTime": {
     "end_time": "2019-08-01T14:16:53.969740Z",
     "start_time": "2019-08-01T14:16:53.850964Z"
    },
    "hidden": true
   },
   "outputs": [
    {
     "data": {
      "text/plain": [
       "<matplotlib.image.AxesImage at 0x7facd05f8c50>"
      ]
     },
     "execution_count": 110,
     "metadata": {},
     "output_type": "execute_result"
    },
    {
     "data": {
      "image/png": "[encoded data removed]",
      "text/plain": [
       "<Figure size 432x288 with 1 Axes>"
      ]
     },
     "metadata": {
      "needs_background": "light"
     },
     "output_type": "display_data"
    }
   ],
   "source": [
    "label = np.zeros([1, 100, 100])\n",
    "label[0, 20:40, 20:40] = np.ones([20, 20])\n",
    "plt.imshow(label[0])"
   ]
  },
  {
   "cell_type": "code",
   "execution_count": 111,
   "metadata": {
    "ExecuteTime": {
     "end_time": "2019-08-01T14:16:54.373768Z",
     "start_time": "2019-08-01T14:16:54.259934Z"
    },
    "hidden": true
   },
   "outputs": [
    {
     "data": {
      "text/plain": [
       "<matplotlib.image.AxesImage at 0x7facd062e0f0>"
      ]
     },
     "execution_count": 111,
     "metadata": {},
     "output_type": "execute_result"
    },
    {
     "data": {
      "image/png": "[encoded data removed]",
      "text/plain": [
       "<Figure size 432x288 with 1 Axes>"
      ]
     },
     "metadata": {
      "needs_background": "light"
     },
     "output_type": "display_data"
    }
   ],
   "source": [
    "pred = np.zeros([1, 100, 100]) + 0.1\n",
    "pred[0, 30:50, 30:50] = np.ones([20, 20]) - 0.1\n",
    "plt.imshow(label[0], cmap='gray') \n",
    "plt.imshow(pred[0], alpha=0.5, cmap='jet')"
   ]
  },
  {
   "cell_type": "code",
   "execution_count": 37,
   "metadata": {
    "ExecuteTime": {
     "end_time": "2019-08-01T09:14:06.278095Z",
     "start_time": "2019-08-01T09:14:06.273684Z"
    },
    "hidden": true
   },
   "outputs": [
    {
     "data": {
      "text/plain": [
       "(array([[[0.1, 0.1, 0.1, ..., 0.1, 0.1, 0.1],\n",
       "         [0.1, 0.1, 0.1, ..., 0.1, 0.1, 0.1],\n",
       "         [0.1, 0.1, 0.1, ..., 0.1, 0.1, 0.1],\n",
       "         ...,\n",
       "         [0.1, 0.1, 0.1, ..., 0.1, 0.1, 0.1],\n",
       "         [0.1, 0.1, 0.1, ..., 0.1, 0.1, 0.1],\n",
       "         [0.1, 0.1, 0.1, ..., 0.1, 0.1, 0.1]]]),\n",
       " array([[[0., 0., 0., ..., 0., 0., 0.],\n",
       "         [0., 0., 0., ..., 0., 0., 0.],\n",
       "         [0., 0., 0., ..., 0., 0., 0.],\n",
       "         ...,\n",
       "         [0., 0., 0., ..., 0., 0., 0.],\n",
       "         [0., 0., 0., ..., 0., 0., 0.],\n",
       "         [0., 0., 0., ..., 0., 0., 0.]]]))"
      ]
     },
     "execution_count": 37,
     "metadata": {},
     "output_type": "execute_result"
    }
   ],
   "source": [
    "pred, label"
   ]
  },
  {
   "cell_type": "code",
   "execution_count": 112,
   "metadata": {
    "ExecuteTime": {
     "end_time": "2019-08-01T14:16:59.508798Z",
     "start_time": "2019-08-01T14:16:59.505439Z"
    },
    "hidden": true
   },
   "outputs": [],
   "source": [
    "logit = torch.Tensor(pred)\n",
    "truth = torch.Tensor(label)"
   ]
  },
  {
   "cell_type": "code",
   "execution_count": 42,
   "metadata": {
    "ExecuteTime": {
     "end_time": "2019-08-01T09:15:38.177620Z",
     "start_time": "2019-08-01T09:15:38.175148Z"
    },
    "hidden": true
   },
   "outputs": [],
   "source": [
    "logit = logit.view(-1)\n",
    "truth = truth.view(-1)"
   ]
  },
  {
   "cell_type": "code",
   "execution_count": 44,
   "metadata": {
    "ExecuteTime": {
     "end_time": "2019-08-01T09:15:47.360877Z",
     "start_time": "2019-08-01T09:15:47.358339Z"
    },
    "hidden": true
   },
   "outputs": [
    {
     "data": {
      "text/plain": [
       "(torch.Size([10000]), torch.Size([10000]))"
      ]
     },
     "execution_count": 44,
     "metadata": {},
     "output_type": "execute_result"
    }
   ],
   "source": [
    "logit.shape, truth.shape"
   ]
  },
  {
   "cell_type": "code",
   "execution_count": 48,
   "metadata": {
    "ExecuteTime": {
     "end_time": "2019-08-01T09:16:39.120028Z",
     "start_time": "2019-08-01T09:16:39.115209Z"
    },
    "hidden": true
   },
   "outputs": [
    {
     "data": {
      "text/plain": [
       "(tensor([0.1000, 0.1000, 0.1000, 0.1000, 0.1000, 0.1000, 0.1000, 0.1000, 0.1000,\n",
       "         0.1000, 0.1000, 0.1000, 0.1000, 0.1000, 0.1000, 0.1000, 0.1000, 0.1000,\n",
       "         0.1000, 0.1000, 0.1000, 0.1000, 0.1000, 0.1000, 0.1000, 0.1000, 0.1000,\n",
       "         0.1000, 0.1000, 0.1000, 0.1000, 0.1000, 0.1000, 0.1000, 0.1000, 0.1000,\n",
       "         0.1000, 0.1000, 0.1000, 0.1000, 0.1000, 0.1000, 0.1000, 0.1000, 0.1000,\n",
       "         0.1000, 0.1000, 0.1000, 0.1000, 0.1000, 0.1000, 0.1000, 0.1000, 0.1000,\n",
       "         0.1000, 0.1000, 0.1000, 0.1000, 0.1000, 0.1000, 0.1000, 0.1000, 0.1000,\n",
       "         0.1000, 0.1000, 0.1000, 0.1000, 0.1000, 0.1000, 0.1000, 0.1000, 0.1000,\n",
       "         0.1000, 0.1000, 0.1000, 0.1000, 0.1000, 0.1000, 0.1000, 0.1000, 0.1000,\n",
       "         0.1000, 0.1000, 0.1000, 0.1000, 0.1000, 0.1000, 0.1000, 0.1000, 0.1000,\n",
       "         0.1000, 0.1000, 0.1000, 0.1000, 0.1000, 0.1000, 0.1000, 0.1000, 0.1000,\n",
       "         0.1000]),\n",
       " tensor([0., 0., 0., 0., 0., 0., 0., 0., 0., 0., 0., 0., 0., 0., 0., 0., 0., 0., 0., 0., 0., 0., 0., 0.,\n",
       "         0., 0., 0., 0., 0., 0., 0., 0., 0., 0., 0., 0., 0., 0., 0., 0., 0., 0., 0., 0., 0., 0., 0., 0.,\n",
       "         0., 0., 0., 0., 0., 0., 0., 0., 0., 0., 0., 0., 0., 0., 0., 0., 0., 0., 0., 0., 0., 0., 0., 0.,\n",
       "         0., 0., 0., 0., 0., 0., 0., 0., 0., 0., 0., 0., 0., 0., 0., 0., 0., 0., 0., 0., 0., 0., 0., 0.,\n",
       "         0., 0., 0., 0.]))"
      ]
     },
     "execution_count": 48,
     "metadata": {},
     "output_type": "execute_result"
    }
   ],
   "source": [
    "logit[:100], truth[:100]"
   ]
  },
  {
   "cell_type": "code",
   "execution_count": 65,
   "metadata": {
    "ExecuteTime": {
     "end_time": "2019-08-01T11:17:17.207142Z",
     "start_time": "2019-08-01T11:17:17.202285Z"
    },
    "hidden": true
   },
   "outputs": [
    {
     "data": {
      "text/plain": [
       "(tensor([0.7444, 0.7444, 0.7444,  ..., 0.7444, 0.7444, 0.7444]),\n",
       " torch.Size([10000]),\n",
       " array([0.34115392, 0.64439666, 0.7443967 , 1.241154  ], dtype=float32),\n",
       " tensor(0.7523))"
      ]
     },
     "execution_count": 65,
     "metadata": {},
     "output_type": "execute_result"
    }
   ],
   "source": [
    "loss = F.binary_cross_entropy_with_logits(logit, truth, reduction='none')\n",
    "loss, loss.shape, np.unique(loss), loss.mean()"
   ]
  },
  {
   "cell_type": "code",
   "execution_count": 50,
   "metadata": {
    "ExecuteTime": {
     "end_time": "2019-08-01T09:20:44.429340Z",
     "start_time": "2019-08-01T09:20:44.425979Z"
    },
    "hidden": true
   },
   "outputs": [],
   "source": [
    "pos = (truth > 0.5).float()\n",
    "neg = (truth < 0.5).float()\n",
    "pos_weight = pos.sum().item() + 1e-12\n",
    "neg_weight = neg.sum().item() + 1e-12\n"
   ]
  },
  {
   "cell_type": "code",
   "execution_count": 58,
   "metadata": {
    "ExecuteTime": {
     "end_time": "2019-08-01T11:14:38.254266Z",
     "start_time": "2019-08-01T11:14:38.247894Z"
    },
    "hidden": true
   },
   "outputs": [
    {
     "data": {
      "text/plain": [
       "(torch.Size([10000]), 400.000000000001, 9600.000000000002)"
      ]
     },
     "execution_count": 58,
     "metadata": {},
     "output_type": "execute_result"
    }
   ],
   "source": [
    "pos.shape, pos_weight, neg_weight # positive and negative count"
   ]
  },
  {
   "cell_type": "code",
   "execution_count": 67,
   "metadata": {
    "ExecuteTime": {
     "end_time": "2019-08-01T11:18:06.163300Z",
     "start_time": "2019-08-01T11:18:06.159734Z"
    },
    "hidden": true
   },
   "outputs": [
    {
     "data": {
      "text/plain": [
       "(360.0000000000009, 960.0000000000002)"
      ]
     },
     "execution_count": 67,
     "metadata": {},
     "output_type": "execute_result"
    }
   ],
   "source": [
    "0.9*pos_weight, 0.1*neg_weight # weight to positive class and negative class"
   ]
  },
  {
   "cell_type": "code",
   "execution_count": 66,
   "metadata": {
    "ExecuteTime": {
     "end_time": "2019-08-01T11:17:30.553237Z",
     "start_time": "2019-08-01T11:17:30.548157Z"
    },
    "hidden": true
   },
   "outputs": [
    {
     "data": {
      "text/plain": [
       "tensor(0.5877)"
      ]
     },
     "execution_count": 66,
     "metadata": {},
     "output_type": "execute_result"
    }
   ],
   "source": [
    "loss = (0.9*pos*loss/pos_weight + 0.1*neg*loss/neg_weight).sum()\n",
    "loss"
   ]
  },
  {
   "cell_type": "markdown",
   "metadata": {
    "hidden": true
   },
   "source": [
    "testing metric, re initialize truth and logits"
   ]
  },
  {
   "cell_type": "code",
   "execution_count": 98,
   "metadata": {
    "ExecuteTime": {
     "end_time": "2019-08-01T11:45:01.174323Z",
     "start_time": "2019-08-01T11:45:01.170254Z"
    },
    "hidden": true
   },
   "outputs": [
    {
     "data": {
      "text/plain": [
       "array([0.5249792, 0.7109495], dtype=float32)"
      ]
     },
     "execution_count": 98,
     "metadata": {},
     "output_type": "execute_result"
    }
   ],
   "source": [
    "np.unique(torch.sigmoid(torch.Tensor(pred)))"
   ]
  },
  {
   "cell_type": "code",
   "execution_count": 113,
   "metadata": {
    "ExecuteTime": {
     "end_time": "2019-08-01T14:17:07.201796Z",
     "start_time": "2019-08-01T14:17:07.194231Z"
    },
    "hidden": true
   },
   "outputs": [],
   "source": [
    "threshold=0.6 # sigmoid(0) = 0.5\n",
    "reduction='none'\n",
    "batch_size = len(truth)\n",
    "logit = torch.Tensor([pred, pred, pred])\n",
    "truth = torch.Tensor([label, label, label])\n",
    "logit = logit.view(batch_size, -1)\n",
    "truth = truth.view(batch_size, -1)\n",
    "assert(logit.shape == truth.shape)\n"
   ]
  },
  {
   "cell_type": "code",
   "execution_count": 114,
   "metadata": {
    "ExecuteTime": {
     "end_time": "2019-08-01T14:17:08.805225Z",
     "start_time": "2019-08-01T14:17:08.800831Z"
    },
    "hidden": true
   },
   "outputs": [],
   "source": [
    "probability = torch.sigmoid(logit)\n",
    "p = (probability > threshold).float()\n",
    "t = (truth > 0.5).float()\n"
   ]
  },
  {
   "cell_type": "code",
   "execution_count": 115,
   "metadata": {
    "ExecuteTime": {
     "end_time": "2019-08-01T14:17:09.023566Z",
     "start_time": "2019-08-01T14:17:09.020791Z"
    },
    "hidden": true
   },
   "outputs": [
    {
     "data": {
      "text/plain": [
       "(torch.Size([1, 30000]), torch.Size([1, 30000]))"
      ]
     },
     "execution_count": 115,
     "metadata": {},
     "output_type": "execute_result"
    }
   ],
   "source": [
    "p.shape, t.shape, "
   ]
  },
  {
   "cell_type": "code",
   "execution_count": 109,
   "metadata": {
    "ExecuteTime": {
     "end_time": "2019-08-01T14:16:37.412014Z",
     "start_time": "2019-08-01T14:16:37.391171Z"
    },
    "hidden": true
   },
   "outputs": [
    {
     "data": {
      "text/plain": [
       "(tensor([[0., 0., 0.,  ..., 0., 0., 0.]]),\n",
       " tensor([[0., 0., 0.,  ..., 0., 0., 0.]]),\n",
       " array([0., 1.], dtype=float32),\n",
       " array([0., 1.], dtype=float32))"
      ]
     },
     "execution_count": 109,
     "metadata": {},
     "output_type": "execute_result"
    }
   ],
   "source": [
    "p, t, np.unique(t), np.unique(p)"
   ]
  },
  {
   "cell_type": "code",
   "execution_count": 116,
   "metadata": {
    "ExecuteTime": {
     "end_time": "2019-08-01T14:49:32.433672Z",
     "start_time": "2019-08-01T14:49:32.417547Z"
    },
    "hidden": true
   },
   "outputs": [
    {
     "name": "stdout",
     "output_type": "stream",
     "text": [
      "0 1\n"
     ]
    }
   ],
   "source": [
    "t_sum = t.sum(-1)\n",
    "p_sum = p.sum(-1)\n",
    "neg_index = torch.nonzero(t_sum == 0) # negative images in the batch\n",
    "pos_index = torch.nonzero(t_sum >= 1) # positive images in the batch\n",
    "print(len(neg_index), len(pos_index))"
   ]
  },
  {
   "cell_type": "code",
   "execution_count": null,
   "metadata": {
    "hidden": true
   },
   "outputs": [],
   "source": [
    "dice_neg = (p_sum == 0).float() # comp metric: dice for empty image with zero pred is 1\n",
    "dice_pos = 2 * (p*t).sum(-1)/((p+t).sum(-1))\n",
    "\n",
    "dice_neg = dice_neg[neg_index]\n",
    "dice_pos = dice_pos[pos_index]\n",
    "dice = torch.cat([dice_pos, dice_neg])\n",
    "\n",
    "dice_neg = np.nan_to_num(dice_neg.mean().item(), 0)\n",
    "dice_pos = np.nan_to_num(dice_pos.mean().item(), 0)\n",
    "dice = dice.mean().item()\n",
    "\n",
    "num_neg = len(neg_index)\n",
    "num_pos = len(pos_index)\n",
    "\n",
    " dice, dice_neg, dice_pos, num_neg, num_pos"
   ]
  },
  {
   "cell_type": "code",
   "execution_count": null,
   "metadata": {
    "hidden": true
   },
   "outputs": [],
   "source": []
  },
  {
   "cell_type": "code",
   "execution_count": null,
   "metadata": {
    "hidden": true
   },
   "outputs": [],
   "source": []
  },
  {
   "cell_type": "code",
   "execution_count": null,
   "metadata": {
    "hidden": true
   },
   "outputs": [],
   "source": []
  },
  {
   "cell_type": "code",
   "execution_count": null,
   "metadata": {
    "hidden": true
   },
   "outputs": [],
   "source": []
  },
  {
   "cell_type": "markdown",
   "metadata": {
    "heading_collapsed": true
   },
   "source": [
    "#### Dice score testing"
   ]
  },
  {
   "cell_type": "code",
   "execution_count": 10,
   "metadata": {
    "ExecuteTime": {
     "end_time": "2019-08-04T10:55:21.454754Z",
     "start_time": "2019-08-04T10:55:21.449128Z"
    },
    "hidden": true
   },
   "outputs": [],
   "source": [
    "\n",
    "def compute_dice(outputs, target):\n",
    "    eps = 0.0001\n",
    "    inter = np.sum(outputs * target)\n",
    "    union = np.sum(outputs) + np.sum(target) + eps\n",
    "    t = (2 * inter + eps) / union\n",
    "    return t\n",
    "\n",
    "\n",
    "def compute_dice_batch(outputs, labels):\n",
    "    dices = []\n",
    "    preds = outputs.clone() # copy is imp\n",
    "    for pred, label in zip(preds, labels):\n",
    "        dices.append(compute_dice(pred, label))\n",
    "    dice = np.nanmean(dices)\n",
    "    return dice\n",
    "\n",
    "def dice_loss(pred, target):\n",
    "    \"\"\"This definition generalize to real valued pred and target vector. This should be differentiable.\n",
    "    pred: tensor with first dimension as batch\n",
    "    target: tensor with first dimension as batch\n",
    "    \"\"\"\n",
    "\n",
    "    smooth = 0.0001\n",
    "\n",
    "    # have to use contiguous since they may from a torch.view op\n",
    "    iflat = pred.contiguous().view(-1)\n",
    "    tflat = target.contiguous().view(-1)\n",
    "    intersection = (iflat * tflat).sum()\n",
    "\n",
    "    A_sum = torch.sum(iflat)\n",
    "    B_sum = torch.sum(tflat)\n",
    "    \n",
    "    return ((2. * intersection + smooth) / (A_sum + B_sum + smooth) )"
   ]
  },
  {
   "cell_type": "code",
   "execution_count": 8,
   "metadata": {
    "ExecuteTime": {
     "end_time": "2019-08-04T16:28:21.416297Z",
     "start_time": "2019-08-04T16:28:21.233255Z"
    },
    "hidden": true
   },
   "outputs": [
    {
     "data": {
      "image/png": "[encoded data removed]",
      "text/plain": [
       "<Figure size 432x288 with 2 Axes>"
      ]
     },
     "metadata": {
      "needs_background": "light"
     },
     "output_type": "display_data"
    }
   ],
   "source": [
    "pred = np.zeros([100, 100])\n",
    "pred1 = np.zeros([100, 100])\n",
    "pred2 = np.zeros([100, 100])\n",
    "label = np.zeros([100, 100])\n",
    "pred[20:40, 20:40] = np.ones([20, 20])\n",
    "pred1[25:45, 30:50] = np.ones([20, 20])\n",
    "pred2[35:55, 40:60] = np.ones([20, 20])\n",
    "label[30:50, 30:50] = np.ones([20, 20])\n",
    "plt.subplot(1, 2, 1)\n",
    "plt.imshow(pred)\n",
    "plt.subplot(1, 2, 2)\n",
    "plt.imshow(label)\n",
    "plt.show()"
   ]
  },
  {
   "cell_type": "code",
   "execution_count": 12,
   "metadata": {
    "ExecuteTime": {
     "end_time": "2019-08-04T10:55:26.213686Z",
     "start_time": "2019-08-04T10:55:26.209958Z"
    },
    "hidden": true
   },
   "outputs": [],
   "source": [
    "preds = np.array([pred, pred1, pred2, pred, pred1, pred2, pred, pred1, pred2, ])\n",
    "labels = np.array([label, label, label, pred1, pred2, pred, pred1, pred2, pred, ])\n",
    "# preds = torch.FloatTensor(preds)\n",
    "# labels = torch.FloatTensor(labels)"
   ]
  },
  {
   "cell_type": "code",
   "execution_count": 13,
   "metadata": {
    "ExecuteTime": {
     "end_time": "2019-08-04T10:55:26.952636Z",
     "start_time": "2019-08-04T10:55:26.949940Z"
    },
    "hidden": true
   },
   "outputs": [
    {
     "data": {
      "text/plain": [
       "0.2916666765046295"
      ]
     },
     "execution_count": 13,
     "metadata": {},
     "output_type": "execute_result"
    }
   ],
   "source": [
    "#compute_dice_batch(preds, labels),  \n",
    "compute_dice(preds, labels)"
   ]
  },
  {
   "cell_type": "code",
   "execution_count": 15,
   "metadata": {
    "ExecuteTime": {
     "end_time": "2019-08-04T10:55:38.831372Z",
     "start_time": "2019-08-04T10:55:38.828947Z"
    },
    "hidden": true
   },
   "outputs": [
    {
     "data": {
      "text/plain": [
       "((9, 100, 100), (9, 100, 100))"
      ]
     },
     "execution_count": 15,
     "metadata": {},
     "output_type": "execute_result"
    }
   ],
   "source": [
    "preds.shape, labels.shape"
   ]
  },
  {
   "cell_type": "code",
   "execution_count": 28,
   "metadata": {
    "ExecuteTime": {
     "end_time": "2019-08-04T10:57:14.379536Z",
     "start_time": "2019-08-04T10:57:14.376423Z"
    },
    "hidden": true
   },
   "outputs": [],
   "source": [
    "#dice for threshold selection\n",
    "def dice_overall(preds, targs):\n",
    "    n = preds.shape[0]\n",
    "    preds = preds.reshape(n, -1)\n",
    "    targs = targs.reshape(n, -1)\n",
    "    intersect = (preds * targs).sum(-1)#.float()\n",
    "    print(intersect.dtype)\n",
    "    union = (preds+targs).sum(-1)#.float()\n",
    "    print(union.dtype)\n",
    "    u0 = union==0\n",
    "    intersect[u0] = 1\n",
    "    union[u0] = 2\n",
    "    return np.mean(2. * intersect / union)"
   ]
  },
  {
   "cell_type": "code",
   "execution_count": 29,
   "metadata": {
    "ExecuteTime": {
     "end_time": "2019-08-04T10:57:15.198294Z",
     "start_time": "2019-08-04T10:57:15.194138Z"
    },
    "hidden": true
   },
   "outputs": [
    {
     "name": "stdout",
     "output_type": "stream",
     "text": [
      "float64\n",
      "float64\n"
     ]
    },
    {
     "data": {
      "text/plain": [
       "0.2916666666666667"
      ]
     },
     "execution_count": 29,
     "metadata": {},
     "output_type": "execute_result"
    }
   ],
   "source": [
    "dice_overall(preds, labels)"
   ]
  },
  {
   "cell_type": "code",
   "execution_count": 34,
   "metadata": {
    "ExecuteTime": {
     "end_time": "2019-08-04T11:12:14.902784Z",
     "start_time": "2019-08-04T11:12:14.870885Z"
    },
    "hidden": true
   },
   "outputs": [
    {
     "data": {
      "text/plain": [
       "(1024, 1024, 3)"
      ]
     },
     "execution_count": 34,
     "metadata": {},
     "output_type": "execute_result"
    }
   ],
   "source": [
    "path = '../data/test_png/1.2.276.0.7230010.3.1.4.8323329.5797.1517875190.762694.png'\n",
    "img = cv2.imread(path)\n",
    "image = cv2.imread(path, cv2.IMREAD_GRAYSCALE) # (512, 512)\n",
    "image = np.expand_dims(image, -1)\n",
    "image = np.repeat(image, 3, axis=-1)\n",
    "image.shape"
   ]
  },
  {
   "cell_type": "code",
   "execution_count": 33,
   "metadata": {
    "ExecuteTime": {
     "end_time": "2019-08-04T11:11:55.980773Z",
     "start_time": "2019-08-04T11:11:55.976501Z"
    },
    "hidden": true
   },
   "outputs": [
    {
     "data": {
      "text/plain": [
       "True"
      ]
     },
     "execution_count": 33,
     "metadata": {},
     "output_type": "execute_result"
    }
   ],
   "source": [
    "np.equal(img, image).all()"
   ]
  },
  {
   "cell_type": "markdown",
   "metadata": {
    "heading_collapsed": true
   },
   "source": [
    "#### train df, groups, testing"
   ]
  },
  {
   "cell_type": "code",
   "execution_count": null,
   "metadata": {
    "ExecuteTime": {
     "end_time": "2019-07-31T14:08:45.561150Z",
     "start_time": "2019-07-31T14:08:43.761Z"
    },
    "hidden": true
   },
   "outputs": [],
   "source": [
    "img1 = cv2.imread('../data/train_png/1.2.276.0.7230010.3.1.4.8323329.10130.1517875222.282238.png')\n",
    "img2 = cv2.imread('../data/train_png/1.2.276.0.7230010.3.1.4.8323329.10130.1517875222.282238.png',cv2.IMREAD_GRAYSCALE)\n"
   ]
  },
  {
   "cell_type": "code",
   "execution_count": null,
   "metadata": {
    "ExecuteTime": {
     "end_time": "2019-07-31T14:08:45.561795Z",
     "start_time": "2019-07-31T14:08:43.858Z"
    },
    "hidden": true
   },
   "outputs": [],
   "source": [
    "img1.shape, img2.shape"
   ]
  },
  {
   "cell_type": "code",
   "execution_count": null,
   "metadata": {
    "ExecuteTime": {
     "end_time": "2019-07-31T14:08:45.562447Z",
     "start_time": "2019-07-31T14:08:44.190Z"
    },
    "hidden": true
   },
   "outputs": [],
   "source": [
    "plt.imshow(img1); plt.show()\n",
    "plt.imshow(img2); plt.show()"
   ]
  },
  {
   "cell_type": "code",
   "execution_count": 14,
   "metadata": {
    "ExecuteTime": {
     "end_time": "2019-08-01T08:17:39.491726Z",
     "start_time": "2019-08-01T08:17:39.421923Z"
    },
    "hidden": true
   },
   "outputs": [],
   "source": [
    "df = pd.read_csv('../data/train.csv')"
   ]
  },
  {
   "cell_type": "code",
   "execution_count": 15,
   "metadata": {
    "ExecuteTime": {
     "end_time": "2019-08-01T08:17:43.169720Z",
     "start_time": "2019-08-01T08:17:43.161660Z"
    },
    "hidden": true
   },
   "outputs": [
    {
     "data": {
      "text/html": [
       "<div>\n",
       "<style scoped>\n",
       "    .dataframe tbody tr th:only-of-type {\n",
       "        vertical-align: middle;\n",
       "    }\n",
       "\n",
       "    .dataframe tbody tr th {\n",
       "        vertical-align: top;\n",
       "    }\n",
       "\n",
       "    .dataframe thead th {\n",
       "        text-align: right;\n",
       "    }\n",
       "</style>\n",
       "<table border=\"1\" class=\"dataframe\">\n",
       "  <thead>\n",
       "    <tr style=\"text-align: right;\">\n",
       "      <th></th>\n",
       "      <th>ImageId</th>\n",
       "      <th>EncodedPixels</th>\n",
       "      <th>has_mask</th>\n",
       "    </tr>\n",
       "  </thead>\n",
       "  <tbody>\n",
       "    <tr>\n",
       "      <th>0</th>\n",
       "      <td>1.2.276.0.7230010.3.1.4.8323329.5597.151787518...</td>\n",
       "      <td>-1</td>\n",
       "      <td>0</td>\n",
       "    </tr>\n",
       "    <tr>\n",
       "      <th>1</th>\n",
       "      <td>1.2.276.0.7230010.3.1.4.8323329.12515.15178752...</td>\n",
       "      <td>-1</td>\n",
       "      <td>0</td>\n",
       "    </tr>\n",
       "    <tr>\n",
       "      <th>2</th>\n",
       "      <td>1.2.276.0.7230010.3.1.4.8323329.4904.151787518...</td>\n",
       "      <td>175349 7 1013 12 1009 17 1005 19 1003 20 1002 ...</td>\n",
       "      <td>1</td>\n",
       "    </tr>\n",
       "    <tr>\n",
       "      <th>3</th>\n",
       "      <td>1.2.276.0.7230010.3.1.4.8323329.32579.15178751...</td>\n",
       "      <td>407576 2 1021 7 1015 10 1013 12 1011 14 1008 1...</td>\n",
       "      <td>1</td>\n",
       "    </tr>\n",
       "    <tr>\n",
       "      <th>4</th>\n",
       "      <td>1.2.276.0.7230010.3.1.4.8323329.32579.15178751...</td>\n",
       "      <td>252069 1 1021 3 1020 4 1018 5 1018 6 1016 7 10...</td>\n",
       "      <td>1</td>\n",
       "    </tr>\n",
       "  </tbody>\n",
       "</table>\n",
       "</div>"
      ],
      "text/plain": [
       "                                             ImageId  \\\n",
       "0  1.2.276.0.7230010.3.1.4.8323329.5597.151787518...   \n",
       "1  1.2.276.0.7230010.3.1.4.8323329.12515.15178752...   \n",
       "2  1.2.276.0.7230010.3.1.4.8323329.4904.151787518...   \n",
       "3  1.2.276.0.7230010.3.1.4.8323329.32579.15178751...   \n",
       "4  1.2.276.0.7230010.3.1.4.8323329.32579.15178751...   \n",
       "\n",
       "                                       EncodedPixels  has_mask  \n",
       "0                                                 -1         0  \n",
       "1                                                 -1         0  \n",
       "2  175349 7 1013 12 1009 17 1005 19 1003 20 1002 ...         1  \n",
       "3  407576 2 1021 7 1015 10 1013 12 1011 14 1008 1...         1  \n",
       "4  252069 1 1021 3 1020 4 1018 5 1018 6 1016 7 10...         1  "
      ]
     },
     "execution_count": 15,
     "metadata": {},
     "output_type": "execute_result"
    }
   ],
   "source": [
    "df.head()"
   ]
  },
  {
   "cell_type": "code",
   "execution_count": 18,
   "metadata": {
    "ExecuteTime": {
     "end_time": "2019-08-01T08:18:11.980127Z",
     "start_time": "2019-08-01T08:18:11.975010Z"
    },
    "hidden": true
   },
   "outputs": [],
   "source": [
    "df_with_mask = df.query('has_mask == 1')"
   ]
  },
  {
   "cell_type": "code",
   "execution_count": 19,
   "metadata": {
    "ExecuteTime": {
     "end_time": "2019-08-01T08:18:17.816113Z",
     "start_time": "2019-08-01T08:18:17.813480Z"
    },
    "hidden": true
   },
   "outputs": [
    {
     "data": {
      "text/plain": [
       "(3286, 3)"
      ]
     },
     "execution_count": 19,
     "metadata": {},
     "output_type": "execute_result"
    }
   ],
   "source": [
    "df_with_mask.shape"
   ]
  },
  {
   "cell_type": "code",
   "execution_count": 20,
   "metadata": {
    "ExecuteTime": {
     "end_time": "2019-08-01T08:18:52.853818Z",
     "start_time": "2019-08-01T08:18:52.846308Z"
    },
    "hidden": true
   },
   "outputs": [],
   "source": [
    "df_without_mask = df.query('has_mask==0')"
   ]
  },
  {
   "cell_type": "code",
   "execution_count": 26,
   "metadata": {
    "ExecuteTime": {
     "end_time": "2019-08-01T08:20:06.408472Z",
     "start_time": "2019-08-01T08:20:06.405281Z"
    },
    "hidden": true
   },
   "outputs": [
    {
     "data": {
      "text/plain": [
       "(8296, 3)"
      ]
     },
     "execution_count": 26,
     "metadata": {},
     "output_type": "execute_result"
    }
   ],
   "source": [
    "df_without_mask.shape"
   ]
  },
  {
   "cell_type": "code",
   "execution_count": 34,
   "metadata": {
    "ExecuteTime": {
     "end_time": "2019-08-01T08:20:58.982625Z",
     "start_time": "2019-08-01T08:20:58.979221Z"
    },
    "hidden": true
   },
   "outputs": [],
   "source": [
    "df_wom_sampled = df_without_mask.sample(len(df_with_mask))"
   ]
  },
  {
   "cell_type": "code",
   "execution_count": 31,
   "metadata": {
    "ExecuteTime": {
     "end_time": "2019-08-01T08:20:44.785734Z",
     "start_time": "2019-08-01T08:20:44.782705Z"
    },
    "hidden": true
   },
   "outputs": [
    {
     "data": {
      "text/plain": [
       "(3286, 3)"
      ]
     },
     "execution_count": 31,
     "metadata": {},
     "output_type": "execute_result"
    }
   ],
   "source": [
    "df_wom_sampled.shape"
   ]
  },
  {
   "cell_type": "code",
   "execution_count": 36,
   "metadata": {
    "ExecuteTime": {
     "end_time": "2019-08-01T08:22:06.873929Z",
     "start_time": "2019-08-01T08:22:06.870685Z"
    },
    "hidden": true
   },
   "outputs": [],
   "source": [
    "equal_df = pd.concat([df_with_mask, df_wom_sampled])"
   ]
  },
  {
   "cell_type": "code",
   "execution_count": 38,
   "metadata": {
    "ExecuteTime": {
     "end_time": "2019-08-01T08:22:12.559116Z",
     "start_time": "2019-08-01T08:22:12.547270Z"
    },
    "hidden": true
   },
   "outputs": [
    {
     "data": {
      "text/html": [
       "<div>\n",
       "<style scoped>\n",
       "    .dataframe tbody tr th:only-of-type {\n",
       "        vertical-align: middle;\n",
       "    }\n",
       "\n",
       "    .dataframe tbody tr th {\n",
       "        vertical-align: top;\n",
       "    }\n",
       "\n",
       "    .dataframe thead th {\n",
       "        text-align: right;\n",
       "    }\n",
       "</style>\n",
       "<table border=\"1\" class=\"dataframe\">\n",
       "  <thead>\n",
       "    <tr style=\"text-align: right;\">\n",
       "      <th></th>\n",
       "      <th>has_mask</th>\n",
       "    </tr>\n",
       "  </thead>\n",
       "  <tbody>\n",
       "    <tr>\n",
       "      <th>count</th>\n",
       "      <td>6572.000000</td>\n",
       "    </tr>\n",
       "    <tr>\n",
       "      <th>mean</th>\n",
       "      <td>0.500000</td>\n",
       "    </tr>\n",
       "    <tr>\n",
       "      <th>std</th>\n",
       "      <td>0.500038</td>\n",
       "    </tr>\n",
       "    <tr>\n",
       "      <th>min</th>\n",
       "      <td>0.000000</td>\n",
       "    </tr>\n",
       "    <tr>\n",
       "      <th>25%</th>\n",
       "      <td>0.000000</td>\n",
       "    </tr>\n",
       "    <tr>\n",
       "      <th>50%</th>\n",
       "      <td>0.500000</td>\n",
       "    </tr>\n",
       "    <tr>\n",
       "      <th>75%</th>\n",
       "      <td>1.000000</td>\n",
       "    </tr>\n",
       "    <tr>\n",
       "      <th>max</th>\n",
       "      <td>1.000000</td>\n",
       "    </tr>\n",
       "  </tbody>\n",
       "</table>\n",
       "</div>"
      ],
      "text/plain": [
       "          has_mask\n",
       "count  6572.000000\n",
       "mean      0.500000\n",
       "std       0.500038\n",
       "min       0.000000\n",
       "25%       0.000000\n",
       "50%       0.500000\n",
       "75%       1.000000\n",
       "max       1.000000"
      ]
     },
     "execution_count": 38,
     "metadata": {},
     "output_type": "execute_result"
    }
   ],
   "source": [
    "equal_df.describe()"
   ]
  },
  {
   "cell_type": "code",
   "execution_count": null,
   "metadata": {
    "hidden": true
   },
   "outputs": [],
   "source": []
  },
  {
   "cell_type": "code",
   "execution_count": null,
   "metadata": {
    "ExecuteTime": {
     "end_time": "2019-07-31T14:08:49.231596Z",
     "start_time": "2019-07-31T14:08:49.227636Z"
    },
    "hidden": true
   },
   "outputs": [],
   "source": [
    "df.iloc[2]['ImageId']"
   ]
  },
  {
   "cell_type": "code",
   "execution_count": null,
   "metadata": {
    "hidden": true
   },
   "outputs": [],
   "source": []
  },
  {
   "cell_type": "code",
   "execution_count": null,
   "metadata": {
    "ExecuteTime": {
     "end_time": "2019-07-31T14:29:18.775342Z",
     "start_time": "2019-07-31T14:29:18.773377Z"
    },
    "hidden": true
   },
   "outputs": [],
   "source": [
    "gb = df.groupby('ImageId')"
   ]
  },
  {
   "cell_type": "code",
   "execution_count": null,
   "metadata": {
    "ExecuteTime": {
     "end_time": "2019-07-31T14:08:49.856532Z",
     "start_time": "2019-07-31T14:08:49.584717Z"
    },
    "hidden": true
   },
   "outputs": [],
   "source": [
    "uid = list(gb.groups.keys())\n",
    "len(uid)"
   ]
  },
  {
   "cell_type": "code",
   "execution_count": null,
   "metadata": {
    "ExecuteTime": {
     "end_time": "2019-07-31T14:10:47.515909Z",
     "start_time": "2019-07-31T14:10:47.512139Z"
    },
    "hidden": true
   },
   "outputs": [],
   "source": [
    "gb.get_group(uid[3])['EncodedPixels'].tolist()"
   ]
  },
  {
   "cell_type": "code",
   "execution_count": null,
   "metadata": {
    "hidden": true
   },
   "outputs": [],
   "source": []
  },
  {
   "cell_type": "code",
   "execution_count": null,
   "metadata": {
    "ExecuteTime": {
     "end_time": "2019-07-31T14:07:01.336229Z",
     "start_time": "2019-07-31T14:07:01.328565Z"
    },
    "hidden": true
   },
   "outputs": [],
   "source": [
    "df['ImageId'].nunique(), df.shape"
   ]
  },
  {
   "cell_type": "code",
   "execution_count": null,
   "metadata": {
    "ExecuteTime": {
     "end_time": "2019-07-31T13:27:00.938310Z",
     "start_time": "2019-07-31T13:27:00.934323Z"
    },
    "hidden": true
   },
   "outputs": [],
   "source": [
    "image_id = '1.2.276.0.7230010.3.1.4.8323329.4904.1517875185.355709' \n",
    "arr = df.loc[df['ImageId'] == image_id, 'EncodedPixels'].values"
   ]
  },
  {
   "cell_type": "code",
   "execution_count": null,
   "metadata": {
    "ExecuteTime": {
     "end_time": "2019-07-31T13:27:14.010586Z",
     "start_time": "2019-07-31T13:27:14.007085Z"
    },
    "hidden": true
   },
   "outputs": [],
   "source": [
    "arr"
   ]
  },
  {
   "cell_type": "code",
   "execution_count": null,
   "metadata": {
    "ExecuteTime": {
     "end_time": "2019-07-31T13:10:22.796821Z",
     "start_time": "2019-07-31T13:10:22.793754Z"
    },
    "hidden": true
   },
   "outputs": [],
   "source": [
    "df['EncodedPixels'][0]"
   ]
  },
  {
   "cell_type": "code",
   "execution_count": null,
   "metadata": {
    "ExecuteTime": {
     "end_time": "2019-07-31T13:10:02.651848Z",
     "start_time": "2019-07-31T13:10:02.640493Z"
    },
    "hidden": true
   },
   "outputs": [],
   "source": [
    "#df['EncodedPixels'] = df['EncodedPixels'].str.lstrip(to_strip=None)"
   ]
  },
  {
   "cell_type": "code",
   "execution_count": 13,
   "metadata": {
    "ExecuteTime": {
     "end_time": "2019-08-01T08:17:30.737353Z",
     "start_time": "2019-08-01T08:17:30.727839Z"
    },
    "hidden": true
   },
   "outputs": [
    {
     "ename": "NameError",
     "evalue": "name 'df' is not defined",
     "output_type": "error",
     "traceback": [
      "\u001b[0;31m---------------------------------------------------------------------------\u001b[0m",
      "\u001b[0;31mNameError\u001b[0m                                 Traceback (most recent call last)",
      "\u001b[0;32m<ipython-input-13-03844bcb2bbd>\u001b[0m in \u001b[0;36m<module>\u001b[0;34m\u001b[0m\n\u001b[0;32m----> 1\u001b[0;31m \u001b[0mdf\u001b[0m\u001b[0;34m.\u001b[0m\u001b[0mto_csv\u001b[0m\u001b[0;34m(\u001b[0m\u001b[0;34m'../data/train.csv'\u001b[0m\u001b[0;34m,\u001b[0m \u001b[0mindex\u001b[0m\u001b[0;34m=\u001b[0m\u001b[0;32mFalse\u001b[0m\u001b[0;34m)\u001b[0m\u001b[0;34m\u001b[0m\u001b[0;34m\u001b[0m\u001b[0m\n\u001b[0m",
      "\u001b[0;31mNameError\u001b[0m: name 'df' is not defined"
     ]
    }
   ],
   "source": [
    "#df.to_csv('../data/train.csv', index=False)"
   ]
  },
  {
   "cell_type": "markdown",
   "metadata": {
    "heading_collapsed": true
   },
   "source": [
    "### IoUs testing"
   ]
  },
  {
   "cell_type": "code",
   "execution_count": 2,
   "metadata": {
    "ExecuteTime": {
     "end_time": "2019-08-04T16:27:48.614518Z",
     "start_time": "2019-08-04T16:27:48.609648Z"
    },
    "hidden": true
   },
   "outputs": [],
   "source": [
    "def compute_ious(pred, label, classes, ignore_index=255, only_present=True):\n",
    "    '''`classes` is a list of class labels, ignore background class i.e., 0, foregrounds: 1, 2.. example classes=[1, 2]'''\n",
    "    pred[label == ignore_index] = 0\n",
    "    ious = []\n",
    "    for c in classes:\n",
    "        label_c = label == c\n",
    "        if only_present and np.sum(label_c) == 0:\n",
    "            ious.append(np.nan)\n",
    "            continue\n",
    "        pred_c = pred == c\n",
    "        intersection = np.logical_and(pred_c, label_c).sum()\n",
    "        union = np.logical_or(pred_c, label_c).sum()\n",
    "        if union != 0:\n",
    "            ious.append(intersection / union)\n",
    "    return ious if ious else [1]\n",
    "\n",
    "\n",
    "def compute_iou_batch(preds, labels, classes=None):\n",
    "    iou = np.nanmean([compute_ious(pred, label, classes)[0] for pred, label in zip(preds, labels)])\n",
    "    return iou\n"
   ]
  },
  {
   "cell_type": "code",
   "execution_count": 3,
   "metadata": {
    "ExecuteTime": {
     "end_time": "2019-08-04T16:27:49.010189Z",
     "start_time": "2019-08-04T16:27:48.811694Z"
    },
    "hidden": true
   },
   "outputs": [
    {
     "data": {
      "image/png": "[encoded data removed]",
      "text/plain": [
       "<Figure size 432x288 with 2 Axes>"
      ]
     },
     "metadata": {
      "needs_background": "light"
     },
     "output_type": "display_data"
    }
   ],
   "source": [
    "pred = np.zeros([100, 100])\n",
    "label = np.zeros([100, 100])\n",
    "pred[20:40, 20:40] = np.ones([20, 20])\n",
    "label[30:50, 30:50] = np.ones([20, 20])\n",
    "plt.subplot(1, 2, 1)\n",
    "plt.imshow(pred)\n",
    "plt.subplot(1, 2, 2)\n",
    "plt.imshow(label)\n",
    "plt.show()"
   ]
  },
  {
   "cell_type": "code",
   "execution_count": 4,
   "metadata": {
    "ExecuteTime": {
     "end_time": "2019-08-04T16:27:49.022375Z",
     "start_time": "2019-08-04T16:27:49.018621Z"
    },
    "hidden": true
   },
   "outputs": [
    {
     "name": "stdout",
     "output_type": "stream",
     "text": [
      "[0.14285714285714285]\n",
      "[0.14285714285714285]\n"
     ]
    },
    {
     "data": {
      "text/plain": [
       "(dtype('float64'), dtype('float64'))"
      ]
     },
     "execution_count": 4,
     "metadata": {},
     "output_type": "execute_result"
    }
   ],
   "source": [
    "iou = compute_ious(pred, label, [1])\n",
    "print(iou)\n",
    "iou = compute_ious(pred.flatten(), label.flatten(), [1])\n",
    "print(iou)\n",
    "pred.dtype, label.dtype"
   ]
  },
  {
   "cell_type": "code",
   "execution_count": 5,
   "metadata": {
    "ExecuteTime": {
     "end_time": "2019-08-04T16:27:49.344007Z",
     "start_time": "2019-08-04T16:27:49.340386Z"
    },
    "hidden": true
   },
   "outputs": [
    {
     "data": {
      "text/plain": [
       "0.14285714285714285"
      ]
     },
     "execution_count": 5,
     "metadata": {},
     "output_type": "execute_result"
    }
   ],
   "source": [
    "preds = np.array([pred, pred, pred])\n",
    "labels = np.array([label, label, label])\n",
    "compute_iou_batch(preds, labels, classes=[1])"
   ]
  },
  {
   "cell_type": "code",
   "execution_count": 6,
   "metadata": {
    "ExecuteTime": {
     "end_time": "2019-08-04T16:27:50.118355Z",
     "start_time": "2019-08-04T16:27:50.115371Z"
    },
    "hidden": true
   },
   "outputs": [
    {
     "data": {
      "text/plain": [
       "((3, 100, 100), (3, 100, 100))"
      ]
     },
     "execution_count": 6,
     "metadata": {},
     "output_type": "execute_result"
    }
   ],
   "source": [
    "preds.shape, labels.shape"
   ]
  },
  {
   "cell_type": "code",
   "execution_count": 33,
   "metadata": {
    "ExecuteTime": {
     "end_time": "2019-08-04T17:27:26.884958Z",
     "start_time": "2019-08-04T17:27:26.880896Z"
    },
    "hidden": true
   },
   "outputs": [],
   "source": [
    "# https://www.kaggle.com/cpmpml/fast-iou-metric-in-numpy-and-tensorflow\n",
    "def get_iou_vector(A, B):\n",
    "    # Numpy version    \n",
    "    batch_size = A.shape[0]\n",
    "    metric = 0.0\n",
    "    for batch in range(batch_size):\n",
    "        t, p = A[batch], B[batch]\n",
    "        true = np.sum(t)\n",
    "        pred = np.sum(p)\n",
    "        \n",
    "        # deal with empty mask first\n",
    "        if true == 0:\n",
    "            metric += (pred == 0)\n",
    "            continue\n",
    "        \n",
    "        # non empty mask case.  Union is never empty \n",
    "        # hence it is safe to divide by its number of pixels\n",
    "        intersection = np.sum(t * p)\n",
    "        union = true + pred - intersection\n",
    "        iou = intersection / union \n",
    "        \n",
    "        # iou metrric is a stepwise approximation of the real iou over 0.5\n",
    "        print(iou)\n",
    "        iou = np.floor(max(0, (iou - 0.45)*20)) / 10\n",
    "        print('l', iou)\n",
    "        \n",
    "        metric += iou\n",
    "        \n",
    "    # teake the average over all images in batch\n",
    "        print('metric', metric)\n",
    "    metric /= batch_size\n",
    "    return metric"
   ]
  },
  {
   "cell_type": "code",
   "execution_count": 34,
   "metadata": {
    "ExecuteTime": {
     "end_time": "2019-08-04T17:27:27.646868Z",
     "start_time": "2019-08-04T17:27:27.643605Z"
    },
    "hidden": true
   },
   "outputs": [],
   "source": [
    "preds = np.array([pred, pred1, pred2, pred, pred1, pred2, pred, pred1, pred2, ])\n",
    "labels = np.array([label, label, label, pred1, pred2, pred, pred1, pred2, pred ])"
   ]
  },
  {
   "cell_type": "code",
   "execution_count": 30,
   "metadata": {
    "ExecuteTime": {
     "end_time": "2019-08-04T17:27:09.256779Z",
     "start_time": "2019-08-04T17:27:09.254355Z"
    },
    "hidden": true
   },
   "outputs": [
    {
     "data": {
      "text/plain": [
       "((9, 100, 100), (9, 100, 100))"
      ]
     },
     "execution_count": 30,
     "metadata": {},
     "output_type": "execute_result"
    }
   ],
   "source": [
    "preds.shape, labels.shape"
   ]
  },
  {
   "cell_type": "code",
   "execution_count": 31,
   "metadata": {
    "ExecuteTime": {
     "end_time": "2019-08-04T17:27:10.227484Z",
     "start_time": "2019-08-04T17:27:09.434701Z"
    },
    "hidden": true
   },
   "outputs": [
    {
     "data": {
      "image/png": "[encoded data removed]",
      "text/plain": [
       "<Figure size 432x288 with 1 Axes>"
      ]
     },
     "metadata": {
      "needs_background": "light"
     },
     "output_type": "display_data"
    },
    {
     "data": {
      "image/png": "[encoded data removed]",
      "text/plain": [
       "<Figure size 432x288 with 1 Axes>"
      ]
     },
     "metadata": {
      "needs_background": "light"
     },
     "output_type": "display_data"
    },
    {
     "data": {
      "image/png": "[encoded data removed]",
      "text/plain": [
       "<Figure size 432x288 with 1 Axes>"
      ]
     },
     "metadata": {
      "needs_background": "light"
     },
     "output_type": "display_data"
    },
    {
     "data": {
      "image/png": "[encoded data removed]",
      "text/plain": [
       "<Figure size 432x288 with 1 Axes>"
      ]
     },
     "metadata": {
      "needs_background": "light"
     },
     "output_type": "display_data"
    },
    {
     "data": {
      "image/png": "[encoded data removed]",
      "text/plain": [
       "<Figure size 432x288 with 1 Axes>"
      ]
     },
     "metadata": {
      "needs_background": "light"
     },
     "output_type": "display_data"
    },
    {
     "data": {
      "image/png": "[encoded data removed]",
      "text/plain": [
       "<Figure size 432x288 with 1 Axes>"
      ]
     },
     "metadata": {
      "needs_background": "light"
     },
     "output_type": "display_data"
    },
    {
     "data": {
      "image/png": "[encoded data removed]",
      "text/plain": [
       "<Figure size 432x288 with 1 Axes>"
      ]
     },
     "metadata": {
      "needs_background": "light"
     },
     "output_type": "display_data"
    },
    {
     "data": {
      "image/png": "[encoded data removed]",
      "text/plain": [
       "<Figure size 432x288 with 1 Axes>"
      ]
     },
     "metadata": {
      "needs_background": "light"
     },
     "output_type": "display_data"
    },
    {
     "data": {
      "image/png": "[encoded data removed]",
      "text/plain": [
       "<Figure size 432x288 with 1 Axes>"
      ]
     },
     "metadata": {
      "needs_background": "light"
     },
     "output_type": "display_data"
    }
   ],
   "source": [
    "for i in range(len(preds)):\n",
    "    plt.imshow(preds[i])\n",
    "    plt.imshow(labels[i], alpha=0.3)\n",
    "    plt.show()"
   ]
  },
  {
   "cell_type": "code",
   "execution_count": 35,
   "metadata": {
    "ExecuteTime": {
     "end_time": "2019-08-04T17:27:30.217628Z",
     "start_time": "2019-08-04T17:27:30.212173Z"
    },
    "hidden": true
   },
   "outputs": [
    {
     "name": "stdout",
     "output_type": "stream",
     "text": [
      "0.14285714285714285\n",
      "l 0.0\n",
      "metric 0.0\n",
      "0.6\n",
      "l 0.2\n",
      "metric 0.2\n",
      "0.23076923076923078\n",
      "l 0.0\n",
      "metric 0.2\n",
      "0.23076923076923078\n",
      "l 0.0\n",
      "metric 0.2\n",
      "0.14285714285714285\n",
      "l 0.0\n",
      "metric 0.2\n",
      "0.0\n",
      "l 0.0\n",
      "metric 0.2\n",
      "0.23076923076923078\n",
      "l 0.0\n",
      "metric 0.2\n",
      "0.14285714285714285\n",
      "l 0.0\n",
      "metric 0.2\n",
      "0.0\n",
      "l 0.0\n",
      "metric 0.2\n"
     ]
    },
    {
     "data": {
      "text/plain": [
       "0.022222222222222223"
      ]
     },
     "execution_count": 35,
     "metadata": {},
     "output_type": "execute_result"
    }
   ],
   "source": [
    "get_iou_vector(labels, preds)"
   ]
  },
  {
   "cell_type": "code",
   "execution_count": null,
   "metadata": {
    "hidden": true
   },
   "outputs": [],
   "source": []
  },
  {
   "cell_type": "markdown",
   "metadata": {
    "heading_collapsed": true
   },
   "source": [
    "### Val set optimization"
   ]
  },
  {
   "cell_type": "code",
   "execution_count": null,
   "metadata": {
    "hidden": true
   },
   "outputs": [],
   "source": []
  },
  {
   "cell_type": "code",
   "execution_count": 3,
   "metadata": {
    "ExecuteTime": {
     "end_time": "2019-08-04T05:27:00.123642Z",
     "start_time": "2019-08-04T05:27:00.021841Z"
    },
    "hidden": true
   },
   "outputs": [
    {
     "name": "stdout",
     "output_type": "stream",
     "text": [
      "(4758, 3)\n"
     ]
    }
   ],
   "source": [
    "fold = 1\n",
    "total_folds = 5\n",
    "df_path = '../data/train.csv'\n",
    "df = pd.read_csv(df_path)\n",
    "df = df.drop_duplicates('ImageId')\n",
    "df_with_mask = df.query('has_mask == 1')\n",
    "#df = df_with_mask.copy()\n",
    "df_without_mask = df.query('has_mask==0')\n",
    "df_wom_sampled = df_without_mask.sample(len(df_with_mask))\n",
    "df = pd.concat([df_with_mask, df_wom_sampled])\n",
    "print(df.shape)\n",
    "kfold = StratifiedKFold(total_folds, shuffle=True, random_state=69)\n",
    "train_idx, val_idx = list(kfold.split(\n",
    "    df[\"ImageId\"], df[\"has_mask\"]))[fold]\n",
    "train_df, val_df = df.iloc[train_idx], df.iloc[val_idx]"
   ]
  },
  {
   "cell_type": "code",
   "execution_count": 16,
   "metadata": {
    "ExecuteTime": {
     "end_time": "2019-08-04T05:30:46.665776Z",
     "start_time": "2019-08-04T05:30:42.349007Z"
    },
    "hidden": true
   },
   "outputs": [],
   "source": [
    "val_preds1 = np.load('../weights/38_UNet_f1_512/ckpt23val1.npy')\n",
    "val_preds2 = np.load('../weights/38_UNet_f1_512/ckpt23val2.npy')\n",
    "val_preds1 = val_preds1[:, 0, :, :]\n",
    "val_preds2 = val_preds2[:, 0, :, :]"
   ]
  },
  {
   "cell_type": "code",
   "execution_count": 19,
   "metadata": {
    "ExecuteTime": {
     "end_time": "2019-08-04T05:31:52.115287Z",
     "start_time": "2019-08-04T05:31:52.112655Z"
    },
    "hidden": true
   },
   "outputs": [
    {
     "ename": "SyntaxError",
     "evalue": "invalid syntax (<ipython-input-19-a9906ac5ea5b>, line 2)",
     "output_type": "error",
     "traceback": [
      "\u001b[0;36m  File \u001b[0;32m\"<ipython-input-19-a9906ac5ea5b>\"\u001b[0;36m, line \u001b[0;32m2\u001b[0m\n\u001b[0;31m    del val_preds1 val_preds2\u001b[0m\n\u001b[0m                            ^\u001b[0m\n\u001b[0;31mSyntaxError\u001b[0m\u001b[0;31m:\u001b[0m invalid syntax\n"
     ]
    }
   ],
   "source": [
    "val_preds = np.concatenate([val_preds1, val_preds2], axis=0)\n",
    "del val_preds1, val_preds2\n",
    "val_preds.shape"
   ]
  },
  {
   "cell_type": "code",
   "execution_count": 18,
   "metadata": {
    "ExecuteTime": {
     "end_time": "2019-08-04T05:31:33.020182Z",
     "start_time": "2019-08-04T05:31:26.170572Z"
    },
    "hidden": true
   },
   "outputs": [
    {
     "name": "stderr",
     "output_type": "stream",
     "text": [
      "100%|██████████| 952/952 [00:06<00:00, 146.84it/s] \n"
     ]
    }
   ],
   "source": [
    "val_actual = []\n",
    "val_ids = val_df['ImageId'].values\n",
    "root = '../data/'\n",
    "for idx, image_id in enumerate(tqdm(val_ids)):\n",
    "    mask_path = os.path.join(root, \"npy_masks_512\", image_id + '.npy')\n",
    "    mask = np.load(mask_path)\n",
    "    #mask = cv2.resize(mask, (256, 256))\n",
    "    val_actual.append(mask)\n",
    "    #if (idx + 1) == len(val_preds): break\n",
    "val_actual = np.array(val_actual)"
   ]
  },
  {
   "cell_type": "code",
   "execution_count": 21,
   "metadata": {
    "ExecuteTime": {
     "end_time": "2019-08-04T05:32:13.110179Z",
     "start_time": "2019-08-04T05:32:13.106658Z"
    },
    "hidden": true
   },
   "outputs": [
    {
     "data": {
      "text/plain": [
       "((952, 512, 512), (952, 512, 512))"
      ]
     },
     "execution_count": 21,
     "metadata": {},
     "output_type": "execute_result"
    }
   ],
   "source": [
    "val_actual.shape, val_preds.shape"
   ]
  },
  {
   "cell_type": "code",
   "execution_count": 22,
   "metadata": {
    "ExecuteTime": {
     "end_time": "2019-08-04T05:32:55.493507Z",
     "start_time": "2019-08-04T05:32:17.855651Z"
    },
    "hidden": true
   },
   "outputs": [
    {
     "name": "stdout",
     "output_type": "stream",
     "text": [
      "Best threshold: 0.40224609374999987\n"
     ]
    }
   ],
   "source": [
    "base_threshold = 0.5\n",
    "targets = np.array(val_actual)\n",
    "probabilities = np.array(val_preds)\n",
    "simplex = scipy.optimize.minimize(\n",
    "    compute_score_inv,\n",
    "    base_threshold,\n",
    "    args=(probabilities, targets),\n",
    "    method=\"nelder-mead\",\n",
    ")\n",
    "best_threshold = simplex[\"x\"][0]\n",
    "print(\"Best threshold: %s\" % best_threshold)"
   ]
  },
  {
   "cell_type": "code",
   "execution_count": 15,
   "metadata": {
    "ExecuteTime": {
     "end_time": "2019-08-04T05:29:57.201760Z",
     "start_time": "2019-08-04T05:29:56.448681Z"
    },
    "hidden": true
   },
   "outputs": [
    {
     "data": {
      "text/plain": [
       "0.6275551013914173"
      ]
     },
     "execution_count": 15,
     "metadata": {},
     "output_type": "execute_result"
    }
   ],
   "source": [
    "best_preds = predict(probabilities, best_threshold)\n",
    "best_dice = compute_dice(best_preds, targets)\n",
    "best_dice"
   ]
  },
  {
   "cell_type": "code",
   "execution_count": 23,
   "metadata": {
    "ExecuteTime": {
     "end_time": "2019-08-04T05:33:30.278635Z",
     "start_time": "2019-08-04T05:33:30.273484Z"
    },
    "hidden": true
   },
   "outputs": [],
   "source": [
    "del val_preds, val_actual"
   ]
  },
  {
   "cell_type": "code",
   "execution_count": null,
   "metadata": {
    "hidden": true
   },
   "outputs": [],
   "source": []
  },
  {
   "cell_type": "code",
   "execution_count": null,
   "metadata": {
    "hidden": true
   },
   "outputs": [],
   "source": []
  },
  {
   "cell_type": "code",
   "execution_count": null,
   "metadata": {
    "hidden": true
   },
   "outputs": [],
   "source": []
  },
  {
   "cell_type": "code",
   "execution_count": null,
   "metadata": {
    "hidden": true
   },
   "outputs": [],
   "source": []
  },
  {
   "cell_type": "code",
   "execution_count": null,
   "metadata": {
    "hidden": true
   },
   "outputs": [],
   "source": []
  },
  {
   "cell_type": "code",
   "execution_count": null,
   "metadata": {
    "hidden": true
   },
   "outputs": [],
   "source": []
  },
  {
   "cell_type": "code",
   "execution_count": null,
   "metadata": {
    "hidden": true
   },
   "outputs": [],
   "source": []
  },
  {
   "cell_type": "markdown",
   "metadata": {
    "heading_collapsed": true,
    "hidden": true
   },
   "source": [
    "#### PyCM testing"
   ]
  },
  {
   "cell_type": "code",
   "execution_count": null,
   "metadata": {
    "ExecuteTime": {
     "end_time": "2019-07-23T05:46:24.581015Z",
     "start_time": "2019-07-23T05:46:24.578456Z"
    },
    "hidden": true
   },
   "outputs": [],
   "source": [
    "y_actual = [1, 2, 3, 4]\n",
    "y_pred = [1, 1, 3, 2]\n",
    "cm = ConfusionMatrix(y_actual, y_pred)"
   ]
  },
  {
   "cell_type": "code",
   "execution_count": null,
   "metadata": {
    "ExecuteTime": {
     "end_time": "2019-07-23T05:46:32.991169Z",
     "start_time": "2019-07-23T05:46:32.988634Z"
    },
    "hidden": true
   },
   "outputs": [],
   "source": [
    "cm.qwk  = 1"
   ]
  },
  {
   "cell_type": "code",
   "execution_count": null,
   "metadata": {
    "ExecuteTime": {
     "end_time": "2019-07-23T05:48:04.290933Z",
     "start_time": "2019-07-23T05:48:04.285474Z"
    },
    "hidden": true
   },
   "outputs": [],
   "source": [
    "cm.save_obj('test.obj', save_stat=True, save_vector=True)"
   ]
  },
  {
   "cell_type": "code",
   "execution_count": null,
   "metadata": {
    "ExecuteTime": {
     "end_time": "2019-07-23T05:48:25.882802Z",
     "start_time": "2019-07-23T05:48:25.880209Z"
    },
    "hidden": true
   },
   "outputs": [],
   "source": [
    "cm_loaded = ConfusionMatrix(file=open(\"test.obj.obj\"))"
   ]
  },
  {
   "cell_type": "code",
   "execution_count": null,
   "metadata": {
    "ExecuteTime": {
     "end_time": "2019-07-23T05:51:54.771212Z",
     "start_time": "2019-07-23T05:51:54.758618Z"
    },
    "hidden": true
   },
   "outputs": [],
   "source": [
    "cm_loaded.qwk\n"
   ]
  },
  {
   "cell_type": "code",
   "execution_count": null,
   "metadata": {
    "ExecuteTime": {
     "end_time": "2019-07-23T05:52:35.244493Z",
     "start_time": "2019-07-23T05:52:35.241601Z"
    },
    "hidden": true
   },
   "outputs": [],
   "source": [
    "test = open('test.obj.obj')\n",
    "red = test.read()"
   ]
  },
  {
   "cell_type": "code",
   "execution_count": null,
   "metadata": {
    "ExecuteTime": {
     "end_time": "2019-07-23T05:53:02.997017Z",
     "start_time": "2019-07-23T05:53:02.994605Z"
    },
    "hidden": true
   },
   "outputs": [],
   "source": [
    "import json\n",
    "red = json.loads(red)"
   ]
  },
  {
   "cell_type": "code",
   "execution_count": null,
   "metadata": {
    "ExecuteTime": {
     "end_time": "2019-07-23T05:53:15.528030Z",
     "start_time": "2019-07-23T05:53:15.520601Z"
    },
    "hidden": true
   },
   "outputs": [],
   "source": [
    "red['qwk']"
   ]
  },
  {
   "cell_type": "markdown",
   "metadata": {
    "hidden": true
   },
   "source": [
    "ConfusionMatrix is not saving additional attributes, let's modify those which are already present"
   ]
  },
  {
   "cell_type": "code",
   "execution_count": null,
   "metadata": {
    "ExecuteTime": {
     "end_time": "2019-07-23T06:28:42.889735Z",
     "start_time": "2019-07-23T06:28:42.886059Z"
    },
    "hidden": true
   },
   "outputs": [],
   "source": [
    "\n",
    "class CM(ConfusionMatrix):\n",
    "\n",
    "    def __init__(\n",
    "            self,\n",
    "            *args):\n",
    "        ConfusionMatrix.__init__(self,\n",
    "            *args)\n",
    "        \n",
    "    def save(self,\n",
    "             name,\n",
    "             qwk=None,\n",
    "             loss=None, \n",
    "             **kwargs):\n",
    "        status = self.save_obj(name, **kwargs)\n",
    "        obj_full_path = status['Message']\n",
    "        print(obj_full_path)\n",
    "        with open(obj_full_path, 'r') as f:\n",
    "            dump_dict = json.load(f)\n",
    "            dump_dict['Overall-Stat']['qwk'] = qwk\n",
    "            dump_dict['Overall-Stat']['loss'] = loss\n",
    "        json.dump(dump_dict, open(obj_full_path, 'w'))\n",
    " "
   ]
  },
  {
   "cell_type": "code",
   "execution_count": null,
   "metadata": {
    "ExecuteTime": {
     "end_time": "2019-07-23T06:28:43.740155Z",
     "start_time": "2019-07-23T06:28:43.737612Z"
    },
    "hidden": true
   },
   "outputs": [],
   "source": [
    "y_actual = [1, 2, 3, 4]\n",
    "y_pred = [1, 1, 3, 2]\n",
    "cm = CM(y_actual, y_pred)"
   ]
  },
  {
   "cell_type": "code",
   "execution_count": null,
   "metadata": {
    "ExecuteTime": {
     "end_time": "2019-07-23T06:28:44.305132Z",
     "start_time": "2019-07-23T06:28:44.298518Z"
    },
    "hidden": true
   },
   "outputs": [],
   "source": [
    "cm.save('test', qwk=1, loss=1, save_stat=True, save_vector=True)"
   ]
  },
  {
   "cell_type": "code",
   "execution_count": null,
   "metadata": {
    "ExecuteTime": {
     "end_time": "2019-07-23T06:29:02.116578Z",
     "start_time": "2019-07-23T06:29:02.113778Z"
    },
    "hidden": true
   },
   "outputs": [],
   "source": [
    "f = open('test.obj', 'r')\n",
    "data = json.load(f)"
   ]
  },
  {
   "cell_type": "code",
   "execution_count": null,
   "metadata": {
    "ExecuteTime": {
     "end_time": "2019-07-23T06:29:02.301753Z",
     "start_time": "2019-07-23T06:29:02.294743Z"
    },
    "hidden": true
   },
   "outputs": [],
   "source": [
    "data"
   ]
  },
  {
   "cell_type": "code",
   "execution_count": null,
   "metadata": {
    "ExecuteTime": {
     "end_time": "2019-07-23T06:22:58.899294Z",
     "start_time": "2019-07-23T06:22:58.896076Z"
    },
    "hidden": true
   },
   "outputs": [],
   "source": [
    "data['qwk']"
   ]
  },
  {
   "cell_type": "code",
   "execution_count": null,
   "metadata": {
    "ExecuteTime": {
     "end_time": "2019-07-23T06:29:09.832793Z",
     "start_time": "2019-07-23T06:29:09.830245Z"
    },
    "hidden": true
   },
   "outputs": [],
   "source": [
    "\n",
    "cm_loaded = ConfusionMatrix(file=open(\"test.obj\"))"
   ]
  },
  {
   "cell_type": "code",
   "execution_count": null,
   "metadata": {
    "ExecuteTime": {
     "end_time": "2019-07-23T06:29:15.500211Z",
     "start_time": "2019-07-23T06:29:15.493257Z"
    },
    "hidden": true
   },
   "outputs": [],
   "source": [
    "cm_loaded.overall_stat"
   ]
  },
  {
   "cell_type": "markdown",
   "metadata": {
    "hidden": true
   },
   "source": [
    "It's has got some internal function which needs to be overwritten"
   ]
  },
  {
   "cell_type": "code",
   "execution_count": null,
   "metadata": {
    "ExecuteTime": {
     "end_time": "2019-07-23T06:10:04.024798Z",
     "start_time": "2019-07-23T06:10:04.022411Z"
    },
    "hidden": true
   },
   "outputs": [],
   "source": [
    "cm.ERR  = 0"
   ]
  },
  {
   "cell_type": "code",
   "execution_count": null,
   "metadata": {
    "ExecuteTime": {
     "end_time": "2019-07-23T06:10:14.606822Z",
     "start_time": "2019-07-23T06:10:14.602491Z"
    },
    "hidden": true
   },
   "outputs": [],
   "source": [
    "\n",
    "cm.save_obj('test', save_stat=True, save_vector=True)"
   ]
  },
  {
   "cell_type": "code",
   "execution_count": null,
   "metadata": {
    "ExecuteTime": {
     "end_time": "2019-07-23T06:10:25.461907Z",
     "start_time": "2019-07-23T06:10:25.458077Z"
    },
    "hidden": true
   },
   "outputs": [],
   "source": [
    "cm_loaded = ConfusionMatrix(file=open(\"test.obj\"))"
   ]
  },
  {
   "cell_type": "code",
   "execution_count": null,
   "metadata": {
    "ExecuteTime": {
     "end_time": "2019-07-23T06:10:28.796289Z",
     "start_time": "2019-07-23T06:10:28.792070Z"
    },
    "hidden": true
   },
   "outputs": [],
   "source": [
    "cm_loaded.ERR"
   ]
  },
  {
   "cell_type": "markdown",
   "metadata": {
    "hidden": true
   },
   "source": [
    "Can't modify the values like this, it recalculates before saving"
   ]
  },
  {
   "cell_type": "code",
   "execution_count": null,
   "metadata": {
    "hidden": true
   },
   "outputs": [],
   "source": []
  },
  {
   "cell_type": "markdown",
   "metadata": {
    "heading_collapsed": true,
    "hidden": true
   },
   "source": [
    "#### Rank averaging"
   ]
  },
  {
   "cell_type": "code",
   "execution_count": null,
   "metadata": {
    "ExecuteTime": {
     "end_time": "2019-07-19T12:49:29.134498Z",
     "start_time": "2019-07-19T12:49:29.120196Z"
    },
    "hidden": true
   },
   "outputs": [],
   "source": [
    "# START\n",
    "files = {}\n",
    "files['file1'] = '../weights/submission785.csv'\n",
    "files['file2'] = '../weights/submission796.csv'\n",
    "files['file3'] = '../weights/submission77.csv'\n",
    "# END\n",
    "\n",
    "\n",
    "dfs = []\n",
    "for key, _file in files.items():\n",
    "    df = pd.read_csv(_file)\n",
    "    df.rename(columns = {'diagnosis': key}, inplace=True)\n",
    "    dfs.append(df)\n",
    "\n",
    "\n",
    "\n",
    "_submission = pd.concat(dfs, axis=1)\n",
    "\n"
   ]
  },
  {
   "cell_type": "code",
   "execution_count": null,
   "metadata": {
    "ExecuteTime": {
     "end_time": "2019-07-19T12:49:29.406820Z",
     "start_time": "2019-07-19T12:49:29.398170Z"
    },
    "hidden": true
   },
   "outputs": [],
   "source": [
    "_submission.head()"
   ]
  },
  {
   "cell_type": "code",
   "execution_count": null,
   "metadata": {
    "ExecuteTime": {
     "end_time": "2019-07-19T12:49:29.733183Z",
     "start_time": "2019-07-19T12:49:29.726775Z"
    },
    "hidden": true
   },
   "outputs": [],
   "source": [
    "a = _submission['file1']\n",
    "a.rank?"
   ]
  },
  {
   "cell_type": "code",
   "execution_count": null,
   "metadata": {
    "ExecuteTime": {
     "end_time": "2019-07-19T12:49:34.532820Z",
     "start_time": "2019-07-19T12:49:34.528095Z"
    },
    "hidden": true
   },
   "outputs": [],
   "source": [
    "\n",
    "for key in files.keys():\n",
    "    _submission[key + '_rank'] = _submission[key].rank()\n",
    "\n"
   ]
  },
  {
   "cell_type": "code",
   "execution_count": null,
   "metadata": {
    "ExecuteTime": {
     "end_time": "2019-07-19T12:49:34.795540Z",
     "start_time": "2019-07-19T12:49:34.777997Z"
    },
    "hidden": true
   },
   "outputs": [],
   "source": [
    "_submission.head()"
   ]
  },
  {
   "cell_type": "code",
   "execution_count": null,
   "metadata": {
    "ExecuteTime": {
     "end_time": "2019-07-19T14:15:22.384554Z",
     "start_time": "2019-07-19T14:15:22.316913Z"
    },
    "hidden": true
   },
   "outputs": [],
   "source": [
    "\n",
    "_submission['rank_sum'] = np.sum(\n",
    "        _submission[col] for col in _submission.columns if '_rank' in col)\n",
    "_submission['target'] = _submission['rank_sum']/(len(files) *\n",
    "        _submission.shape[0])\n",
    "\n",
    "# take the first (id) and last column (target)\n",
    "submission = _submission.iloc[:, [0, -1]]"
   ]
  },
  {
   "cell_type": "code",
   "execution_count": null,
   "metadata": {
    "ExecuteTime": {
     "end_time": "2019-07-19T14:15:28.983192Z",
     "start_time": "2019-07-19T14:15:28.961516Z"
    },
    "hidden": true
   },
   "outputs": [],
   "source": [
    "_submission.head()"
   ]
  },
  {
   "cell_type": "markdown",
   "metadata": {
    "heading_collapsed": true
   },
   "source": [
    "### Testing Segmentation models\n"
   ]
  },
  {
   "cell_type": "code",
   "execution_count": 2,
   "metadata": {
    "ExecuteTime": {
     "end_time": "2019-08-03T12:54:35.901991Z",
     "start_time": "2019-08-03T12:54:35.900076Z"
    },
    "hidden": true
   },
   "outputs": [],
   "source": [
    "import segmentation_models_pytorch as smp\n",
    "#https://github.com/qubvel/segmentation_models.pytorch"
   ]
  },
  {
   "cell_type": "code",
   "execution_count": 8,
   "metadata": {
    "ExecuteTime": {
     "end_time": "2019-08-03T13:06:56.686455Z",
     "start_time": "2019-08-03T13:06:56.683182Z"
    },
    "hidden": true
   },
   "outputs": [],
   "source": [
    "smp.Unet?"
   ]
  },
  {
   "cell_type": "code",
   "execution_count": 9,
   "metadata": {
    "ExecuteTime": {
     "end_time": "2019-08-03T13:10:50.435579Z",
     "start_time": "2019-08-03T13:10:49.897498Z"
    },
    "hidden": true
   },
   "outputs": [],
   "source": [
    "model = smp.Unet('resnet34', encoder_weights='imagenet', activation=None)"
   ]
  },
  {
   "cell_type": "code",
   "execution_count": 4,
   "metadata": {
    "ExecuteTime": {
     "end_time": "2019-08-03T12:54:39.329478Z",
     "start_time": "2019-08-03T12:54:39.318818Z"
    },
    "hidden": true
   },
   "outputs": [
    {
     "data": {
      "text/plain": [
       "Unet(\n",
       "  (encoder): ResNetEncoder(\n",
       "    (conv1): Conv2d(3, 64, kernel_size=(7, 7), stride=(2, 2), padding=(3, 3), bias=False)\n",
       "    (bn1): BatchNorm2d(64, eps=1e-05, momentum=0.1, affine=True, track_running_stats=True)\n",
       "    (relu): ReLU(inplace)\n",
       "    (maxpool): MaxPool2d(kernel_size=3, stride=2, padding=1, dilation=1, ceil_mode=False)\n",
       "    (layer1): Sequential(\n",
       "      (0): BasicBlock(\n",
       "        (conv1): Conv2d(64, 64, kernel_size=(3, 3), stride=(1, 1), padding=(1, 1), bias=False)\n",
       "        (bn1): BatchNorm2d(64, eps=1e-05, momentum=0.1, affine=True, track_running_stats=True)\n",
       "        (relu): ReLU(inplace)\n",
       "        (conv2): Conv2d(64, 64, kernel_size=(3, 3), stride=(1, 1), padding=(1, 1), bias=False)\n",
       "        (bn2): BatchNorm2d(64, eps=1e-05, momentum=0.1, affine=True, track_running_stats=True)\n",
       "      )\n",
       "      (1): BasicBlock(\n",
       "        (conv1): Conv2d(64, 64, kernel_size=(3, 3), stride=(1, 1), padding=(1, 1), bias=False)\n",
       "        (bn1): BatchNorm2d(64, eps=1e-05, momentum=0.1, affine=True, track_running_stats=True)\n",
       "        (relu): ReLU(inplace)\n",
       "        (conv2): Conv2d(64, 64, kernel_size=(3, 3), stride=(1, 1), padding=(1, 1), bias=False)\n",
       "        (bn2): BatchNorm2d(64, eps=1e-05, momentum=0.1, affine=True, track_running_stats=True)\n",
       "      )\n",
       "      (2): BasicBlock(\n",
       "        (conv1): Conv2d(64, 64, kernel_size=(3, 3), stride=(1, 1), padding=(1, 1), bias=False)\n",
       "        (bn1): BatchNorm2d(64, eps=1e-05, momentum=0.1, affine=True, track_running_stats=True)\n",
       "        (relu): ReLU(inplace)\n",
       "        (conv2): Conv2d(64, 64, kernel_size=(3, 3), stride=(1, 1), padding=(1, 1), bias=False)\n",
       "        (bn2): BatchNorm2d(64, eps=1e-05, momentum=0.1, affine=True, track_running_stats=True)\n",
       "      )\n",
       "    )\n",
       "    (layer2): Sequential(\n",
       "      (0): BasicBlock(\n",
       "        (conv1): Conv2d(64, 128, kernel_size=(3, 3), stride=(2, 2), padding=(1, 1), bias=False)\n",
       "        (bn1): BatchNorm2d(128, eps=1e-05, momentum=0.1, affine=True, track_running_stats=True)\n",
       "        (relu): ReLU(inplace)\n",
       "        (conv2): Conv2d(128, 128, kernel_size=(3, 3), stride=(1, 1), padding=(1, 1), bias=False)\n",
       "        (bn2): BatchNorm2d(128, eps=1e-05, momentum=0.1, affine=True, track_running_stats=True)\n",
       "        (downsample): Sequential(\n",
       "          (0): Conv2d(64, 128, kernel_size=(1, 1), stride=(2, 2), bias=False)\n",
       "          (1): BatchNorm2d(128, eps=1e-05, momentum=0.1, affine=True, track_running_stats=True)\n",
       "        )\n",
       "      )\n",
       "      (1): BasicBlock(\n",
       "        (conv1): Conv2d(128, 128, kernel_size=(3, 3), stride=(1, 1), padding=(1, 1), bias=False)\n",
       "        (bn1): BatchNorm2d(128, eps=1e-05, momentum=0.1, affine=True, track_running_stats=True)\n",
       "        (relu): ReLU(inplace)\n",
       "        (conv2): Conv2d(128, 128, kernel_size=(3, 3), stride=(1, 1), padding=(1, 1), bias=False)\n",
       "        (bn2): BatchNorm2d(128, eps=1e-05, momentum=0.1, affine=True, track_running_stats=True)\n",
       "      )\n",
       "      (2): BasicBlock(\n",
       "        (conv1): Conv2d(128, 128, kernel_size=(3, 3), stride=(1, 1), padding=(1, 1), bias=False)\n",
       "        (bn1): BatchNorm2d(128, eps=1e-05, momentum=0.1, affine=True, track_running_stats=True)\n",
       "        (relu): ReLU(inplace)\n",
       "        (conv2): Conv2d(128, 128, kernel_size=(3, 3), stride=(1, 1), padding=(1, 1), bias=False)\n",
       "        (bn2): BatchNorm2d(128, eps=1e-05, momentum=0.1, affine=True, track_running_stats=True)\n",
       "      )\n",
       "      (3): BasicBlock(\n",
       "        (conv1): Conv2d(128, 128, kernel_size=(3, 3), stride=(1, 1), padding=(1, 1), bias=False)\n",
       "        (bn1): BatchNorm2d(128, eps=1e-05, momentum=0.1, affine=True, track_running_stats=True)\n",
       "        (relu): ReLU(inplace)\n",
       "        (conv2): Conv2d(128, 128, kernel_size=(3, 3), stride=(1, 1), padding=(1, 1), bias=False)\n",
       "        (bn2): BatchNorm2d(128, eps=1e-05, momentum=0.1, affine=True, track_running_stats=True)\n",
       "      )\n",
       "    )\n",
       "    (layer3): Sequential(\n",
       "      (0): BasicBlock(\n",
       "        (conv1): Conv2d(128, 256, kernel_size=(3, 3), stride=(2, 2), padding=(1, 1), bias=False)\n",
       "        (bn1): BatchNorm2d(256, eps=1e-05, momentum=0.1, affine=True, track_running_stats=True)\n",
       "        (relu): ReLU(inplace)\n",
       "        (conv2): Conv2d(256, 256, kernel_size=(3, 3), stride=(1, 1), padding=(1, 1), bias=False)\n",
       "        (bn2): BatchNorm2d(256, eps=1e-05, momentum=0.1, affine=True, track_running_stats=True)\n",
       "        (downsample): Sequential(\n",
       "          (0): Conv2d(128, 256, kernel_size=(1, 1), stride=(2, 2), bias=False)\n",
       "          (1): BatchNorm2d(256, eps=1e-05, momentum=0.1, affine=True, track_running_stats=True)\n",
       "        )\n",
       "      )\n",
       "      (1): BasicBlock(\n",
       "        (conv1): Conv2d(256, 256, kernel_size=(3, 3), stride=(1, 1), padding=(1, 1), bias=False)\n",
       "        (bn1): BatchNorm2d(256, eps=1e-05, momentum=0.1, affine=True, track_running_stats=True)\n",
       "        (relu): ReLU(inplace)\n",
       "        (conv2): Conv2d(256, 256, kernel_size=(3, 3), stride=(1, 1), padding=(1, 1), bias=False)\n",
       "        (bn2): BatchNorm2d(256, eps=1e-05, momentum=0.1, affine=True, track_running_stats=True)\n",
       "      )\n",
       "      (2): BasicBlock(\n",
       "        (conv1): Conv2d(256, 256, kernel_size=(3, 3), stride=(1, 1), padding=(1, 1), bias=False)\n",
       "        (bn1): BatchNorm2d(256, eps=1e-05, momentum=0.1, affine=True, track_running_stats=True)\n",
       "        (relu): ReLU(inplace)\n",
       "        (conv2): Conv2d(256, 256, kernel_size=(3, 3), stride=(1, 1), padding=(1, 1), bias=False)\n",
       "        (bn2): BatchNorm2d(256, eps=1e-05, momentum=0.1, affine=True, track_running_stats=True)\n",
       "      )\n",
       "      (3): BasicBlock(\n",
       "        (conv1): Conv2d(256, 256, kernel_size=(3, 3), stride=(1, 1), padding=(1, 1), bias=False)\n",
       "        (bn1): BatchNorm2d(256, eps=1e-05, momentum=0.1, affine=True, track_running_stats=True)\n",
       "        (relu): ReLU(inplace)\n",
       "        (conv2): Conv2d(256, 256, kernel_size=(3, 3), stride=(1, 1), padding=(1, 1), bias=False)\n",
       "        (bn2): BatchNorm2d(256, eps=1e-05, momentum=0.1, affine=True, track_running_stats=True)\n",
       "      )\n",
       "      (4): BasicBlock(\n",
       "        (conv1): Conv2d(256, 256, kernel_size=(3, 3), stride=(1, 1), padding=(1, 1), bias=False)\n",
       "        (bn1): BatchNorm2d(256, eps=1e-05, momentum=0.1, affine=True, track_running_stats=True)\n",
       "        (relu): ReLU(inplace)\n",
       "        (conv2): Conv2d(256, 256, kernel_size=(3, 3), stride=(1, 1), padding=(1, 1), bias=False)\n",
       "        (bn2): BatchNorm2d(256, eps=1e-05, momentum=0.1, affine=True, track_running_stats=True)\n",
       "      )\n",
       "      (5): BasicBlock(\n",
       "        (conv1): Conv2d(256, 256, kernel_size=(3, 3), stride=(1, 1), padding=(1, 1), bias=False)\n",
       "        (bn1): BatchNorm2d(256, eps=1e-05, momentum=0.1, affine=True, track_running_stats=True)\n",
       "        (relu): ReLU(inplace)\n",
       "        (conv2): Conv2d(256, 256, kernel_size=(3, 3), stride=(1, 1), padding=(1, 1), bias=False)\n",
       "        (bn2): BatchNorm2d(256, eps=1e-05, momentum=0.1, affine=True, track_running_stats=True)\n",
       "      )\n",
       "    )\n",
       "    (layer4): Sequential(\n",
       "      (0): BasicBlock(\n",
       "        (conv1): Conv2d(256, 512, kernel_size=(3, 3), stride=(2, 2), padding=(1, 1), bias=False)\n",
       "        (bn1): BatchNorm2d(512, eps=1e-05, momentum=0.1, affine=True, track_running_stats=True)\n",
       "        (relu): ReLU(inplace)\n",
       "        (conv2): Conv2d(512, 512, kernel_size=(3, 3), stride=(1, 1), padding=(1, 1), bias=False)\n",
       "        (bn2): BatchNorm2d(512, eps=1e-05, momentum=0.1, affine=True, track_running_stats=True)\n",
       "        (downsample): Sequential(\n",
       "          (0): Conv2d(256, 512, kernel_size=(1, 1), stride=(2, 2), bias=False)\n",
       "          (1): BatchNorm2d(512, eps=1e-05, momentum=0.1, affine=True, track_running_stats=True)\n",
       "        )\n",
       "      )\n",
       "      (1): BasicBlock(\n",
       "        (conv1): Conv2d(512, 512, kernel_size=(3, 3), stride=(1, 1), padding=(1, 1), bias=False)\n",
       "        (bn1): BatchNorm2d(512, eps=1e-05, momentum=0.1, affine=True, track_running_stats=True)\n",
       "        (relu): ReLU(inplace)\n",
       "        (conv2): Conv2d(512, 512, kernel_size=(3, 3), stride=(1, 1), padding=(1, 1), bias=False)\n",
       "        (bn2): BatchNorm2d(512, eps=1e-05, momentum=0.1, affine=True, track_running_stats=True)\n",
       "      )\n",
       "      (2): BasicBlock(\n",
       "        (conv1): Conv2d(512, 512, kernel_size=(3, 3), stride=(1, 1), padding=(1, 1), bias=False)\n",
       "        (bn1): BatchNorm2d(512, eps=1e-05, momentum=0.1, affine=True, track_running_stats=True)\n",
       "        (relu): ReLU(inplace)\n",
       "        (conv2): Conv2d(512, 512, kernel_size=(3, 3), stride=(1, 1), padding=(1, 1), bias=False)\n",
       "        (bn2): BatchNorm2d(512, eps=1e-05, momentum=0.1, affine=True, track_running_stats=True)\n",
       "      )\n",
       "    )\n",
       "    (avgpool): AdaptiveAvgPool2d(output_size=(1, 1))\n",
       "  )\n",
       "  (decoder): UnetDecoder(\n",
       "    (layer1): DecoderBlock(\n",
       "      (block): Sequential(\n",
       "        (0): Conv2dReLU(\n",
       "          (block): Sequential(\n",
       "            (0): Conv2d(768, 256, kernel_size=(3, 3), stride=(1, 1), padding=(1, 1), bias=False)\n",
       "            (1): BatchNorm2d(256, eps=1e-05, momentum=0.1, affine=True, track_running_stats=True)\n",
       "            (2): ReLU(inplace)\n",
       "          )\n",
       "        )\n",
       "        (1): Conv2dReLU(\n",
       "          (block): Sequential(\n",
       "            (0): Conv2d(256, 256, kernel_size=(3, 3), stride=(1, 1), padding=(1, 1), bias=False)\n",
       "            (1): BatchNorm2d(256, eps=1e-05, momentum=0.1, affine=True, track_running_stats=True)\n",
       "            (2): ReLU(inplace)\n",
       "          )\n",
       "        )\n",
       "      )\n",
       "    )\n",
       "    (layer2): DecoderBlock(\n",
       "      (block): Sequential(\n",
       "        (0): Conv2dReLU(\n",
       "          (block): Sequential(\n",
       "            (0): Conv2d(384, 128, kernel_size=(3, 3), stride=(1, 1), padding=(1, 1), bias=False)\n",
       "            (1): BatchNorm2d(128, eps=1e-05, momentum=0.1, affine=True, track_running_stats=True)\n",
       "            (2): ReLU(inplace)\n",
       "          )\n",
       "        )\n",
       "        (1): Conv2dReLU(\n",
       "          (block): Sequential(\n",
       "            (0): Conv2d(128, 128, kernel_size=(3, 3), stride=(1, 1), padding=(1, 1), bias=False)\n",
       "            (1): BatchNorm2d(128, eps=1e-05, momentum=0.1, affine=True, track_running_stats=True)\n",
       "            (2): ReLU(inplace)\n",
       "          )\n",
       "        )\n",
       "      )\n",
       "    )\n",
       "    (layer3): DecoderBlock(\n",
       "      (block): Sequential(\n",
       "        (0): Conv2dReLU(\n",
       "          (block): Sequential(\n",
       "            (0): Conv2d(192, 64, kernel_size=(3, 3), stride=(1, 1), padding=(1, 1), bias=False)\n",
       "            (1): BatchNorm2d(64, eps=1e-05, momentum=0.1, affine=True, track_running_stats=True)\n",
       "            (2): ReLU(inplace)\n",
       "          )\n",
       "        )\n",
       "        (1): Conv2dReLU(\n",
       "          (block): Sequential(\n",
       "            (0): Conv2d(64, 64, kernel_size=(3, 3), stride=(1, 1), padding=(1, 1), bias=False)\n",
       "            (1): BatchNorm2d(64, eps=1e-05, momentum=0.1, affine=True, track_running_stats=True)\n",
       "            (2): ReLU(inplace)\n",
       "          )\n",
       "        )\n",
       "      )\n",
       "    )\n",
       "    (layer4): DecoderBlock(\n",
       "      (block): Sequential(\n",
       "        (0): Conv2dReLU(\n",
       "          (block): Sequential(\n",
       "            (0): Conv2d(128, 32, kernel_size=(3, 3), stride=(1, 1), padding=(1, 1), bias=False)\n",
       "            (1): BatchNorm2d(32, eps=1e-05, momentum=0.1, affine=True, track_running_stats=True)\n",
       "            (2): ReLU(inplace)\n",
       "          )\n",
       "        )\n",
       "        (1): Conv2dReLU(\n",
       "          (block): Sequential(\n",
       "            (0): Conv2d(32, 32, kernel_size=(3, 3), stride=(1, 1), padding=(1, 1), bias=False)\n",
       "            (1): BatchNorm2d(32, eps=1e-05, momentum=0.1, affine=True, track_running_stats=True)\n",
       "            (2): ReLU(inplace)\n",
       "          )\n",
       "        )\n",
       "      )\n",
       "    )\n",
       "    (layer5): DecoderBlock(\n",
       "      (block): Sequential(\n",
       "        (0): Conv2dReLU(\n",
       "          (block): Sequential(\n",
       "            (0): Conv2d(32, 16, kernel_size=(3, 3), stride=(1, 1), padding=(1, 1), bias=False)\n",
       "            (1): BatchNorm2d(16, eps=1e-05, momentum=0.1, affine=True, track_running_stats=True)\n",
       "            (2): ReLU(inplace)\n",
       "          )\n",
       "        )\n",
       "        (1): Conv2dReLU(\n",
       "          (block): Sequential(\n",
       "            (0): Conv2d(16, 16, kernel_size=(3, 3), stride=(1, 1), padding=(1, 1), bias=False)\n",
       "            (1): BatchNorm2d(16, eps=1e-05, momentum=0.1, affine=True, track_running_stats=True)\n",
       "            (2): ReLU(inplace)\n",
       "          )\n",
       "        )\n",
       "      )\n",
       "    )\n",
       "    (final_conv): Conv2d(16, 1, kernel_size=(1, 1), stride=(1, 1))\n",
       "  )\n",
       ")"
      ]
     },
     "execution_count": 4,
     "metadata": {},
     "output_type": "execute_result"
    }
   ],
   "source": [
    "model"
   ]
  },
  {
   "cell_type": "code",
   "execution_count": null,
   "metadata": {
    "hidden": true
   },
   "outputs": [],
   "source": []
  },
  {
   "cell_type": "code",
   "execution_count": null,
   "metadata": {
    "hidden": true
   },
   "outputs": [],
   "source": []
  },
  {
   "cell_type": "code",
   "execution_count": null,
   "metadata": {
    "hidden": true
   },
   "outputs": [],
   "source": []
  },
  {
   "cell_type": "code",
   "execution_count": null,
   "metadata": {
    "hidden": true
   },
   "outputs": [],
   "source": []
  },
  {
   "cell_type": "code",
   "execution_count": null,
   "metadata": {
    "ExecuteTime": {
     "end_time": "2019-07-19T06:32:08.404495Z",
     "start_time": "2019-07-19T06:32:08.401951Z"
    },
    "hidden": true
   },
   "outputs": [],
   "source": [
    "def pytorch_count_params(model):\n",
    "    from functools import reduce    \n",
    "    \"count number trainable parameters in a pytorch model\"\n",
    "    total_params = sum(reduce( lambda a, b: a*b, x.size()) for x in model.parameters())\n",
    "    return total_params"
   ]
  },
  {
   "cell_type": "code",
   "execution_count": null,
   "metadata": {
    "ExecuteTime": {
     "end_time": "2019-07-19T06:32:09.674952Z",
     "start_time": "2019-07-19T06:32:09.668719Z"
    },
    "hidden": true
   },
   "outputs": [],
   "source": [
    "pytorch_count_params(model)"
   ]
  },
  {
   "cell_type": "markdown",
   "metadata": {
    "heading_collapsed": true
   },
   "source": [
    "### test"
   ]
  },
  {
   "cell_type": "code",
   "execution_count": 2,
   "metadata": {
    "ExecuteTime": {
     "end_time": "2019-08-03T07:30:07.196525Z",
     "start_time": "2019-08-03T07:30:07.053498Z"
    },
    "hidden": true
   },
   "outputs": [
    {
     "data": {
      "text/plain": [
       "<matplotlib.image.AxesImage at 0x7f1edbd309e8>"
      ]
     },
     "execution_count": 2,
     "metadata": {},
     "output_type": "execute_result"
    },
    {
     "data": {
      "image/png": "[encoded data removed]",
      "text/plain": [
       "<Figure size 432x288 with 1 Axes>"
      ]
     },
     "metadata": {
      "needs_background": "light"
     },
     "output_type": "display_data"
    }
   ],
   "source": [
    "rle = '387620 23 996 33 986 43 977 51 968 58 962 65 956 70 952 74 949 76 946 79'\n",
    "mask = run_length_decode(rle)\n",
    "plt.imshow(mask)"
   ]
  },
  {
   "cell_type": "markdown",
   "metadata": {
    "heading_collapsed": true
   },
   "source": [
    "### Activation maps, heatmaps, forward hooks, base model features"
   ]
  },
  {
   "cell_type": "code",
   "execution_count": null,
   "metadata": {
    "ExecuteTime": {
     "end_time": "2019-07-10T08:55:07.236419Z",
     "start_time": "2019-07-10T08:54:26.184825Z"
    },
    "hidden": true
   },
   "outputs": [],
   "source": [
    "import torch\n",
    "import torch.nn as nn\n",
    "import torch.optim as optim\n",
    "import torch.nn.functional as F\n",
    "from torch.utils.data import DataLoader\n",
    "\n",
    "import torchvision.transforms as transforms\n",
    "import torchvision.datasets as datasets\n",
    "\n",
    "import matplotlib.pyplot as plt\n",
    "\n",
    "\n",
    "class MyModel(nn.Module):\n",
    "    def __init__(self):\n",
    "        super(MyModel, self).__init__()\n",
    "        self.conv1 = nn.Conv2d(1, 3, 3, 1, 1)\n",
    "        self.pool1 = nn.MaxPool2d(2)\n",
    "        self.conv2 = nn.Conv2d(3, 6, 3, 1, 1)\n",
    "        self.pool2 = nn.MaxPool2d(2)\n",
    "        \n",
    "        self.conv_trans1 = nn.ConvTranspose2d(6, 3, 4, 2, 1)\n",
    "        self.conv_trans2 = nn.ConvTranspose2d(3, 1, 4, 2, 1)\n",
    "        \n",
    "    def forward(self, x):\n",
    "        x = F.relu(self.pool1(self.conv1(x)))\n",
    "        x = F.relu(self.pool2(self.conv2(x)))        \n",
    "        x = F.relu(self.conv_trans1(x))\n",
    "        x = self.conv_trans2(x)\n",
    "        return x\n",
    "\n",
    "dataset = datasets.MNIST(\n",
    "    root='PATH',\n",
    "    transform=transforms.ToTensor(),\n",
    "    download=True\n",
    ")\n",
    "loader = DataLoader(\n",
    "    dataset,\n",
    "    num_workers=2,\n",
    "    batch_size=8,\n",
    "    shuffle=True\n",
    ")\n",
    "\n",
    "model = MyModel()\n",
    "criterion = nn.BCEWithLogitsLoss()\n",
    "optimizer = optim.Adam(model.parameters(), lr=1e-3)\n",
    "\n",
    "epochs = 1\n",
    "for epoch in range(epochs):\n",
    "    for batch_idx, (data, target) in enumerate(loader):\n",
    "        optimizer.zero_grad()\n",
    "        output = model(data)\n",
    "        loss = criterion(output, data)\n",
    "        loss.backward()\n",
    "        optimizer.step()\n",
    "        \n",
    "        print('Epoch {}, Batch idx {}, loss {}'.format(\n",
    "            epoch, batch_idx, loss.item()))\n",
    "\n",
    "\n",
    "def normalize_output(img):\n",
    "    img = img - img.min()\n",
    "    img = img / img.max()\n",
    "    return img\n",
    "\n"
   ]
  },
  {
   "cell_type": "code",
   "execution_count": null,
   "metadata": {
    "ExecuteTime": {
     "end_time": "2019-07-10T08:58:10.461601Z",
     "start_time": "2019-07-10T08:58:10.457653Z"
    },
    "hidden": true
   },
   "outputs": [],
   "source": [
    "output.shape, pred.shape"
   ]
  },
  {
   "cell_type": "code",
   "execution_count": null,
   "metadata": {
    "ExecuteTime": {
     "end_time": "2019-07-10T09:03:26.578695Z",
     "start_time": "2019-07-10T09:03:26.397765Z"
    },
    "hidden": true
   },
   "outputs": [],
   "source": [
    "# Plot some images\n",
    "idx = torch.randint(0, output.size(0), ())\n",
    "pred = normalize_output(output[idx, 0])\n",
    "img = data[idx, 0]\n",
    "\n",
    "fig, axarr = plt.subplots(1, 2)\n",
    "axarr[0].imshow(img.detach().numpy())\n",
    "axarr[1].imshow(pred.detach().numpy())\n"
   ]
  },
  {
   "cell_type": "code",
   "execution_count": null,
   "metadata": {
    "ExecuteTime": {
     "end_time": "2019-07-10T09:04:20.041885Z",
     "start_time": "2019-07-10T09:04:20.036451Z"
    },
    "hidden": true
   },
   "outputs": [],
   "source": [
    "\n",
    "# Visualize feature maps\n",
    "activation = {}\n",
    "def get_activation(name):\n",
    "    def hook(model, input, output):\n",
    "        activation[name] = output.detach()\n",
    "    return hook\n",
    "\n",
    "model.conv1.register_forward_hook(get_activation('conv1'))\n"
   ]
  },
  {
   "cell_type": "code",
   "execution_count": null,
   "metadata": {
    "ExecuteTime": {
     "end_time": "2019-07-10T09:04:36.444273Z",
     "start_time": "2019-07-10T09:04:36.437211Z"
    },
    "hidden": true
   },
   "outputs": [],
   "source": [
    "\n",
    "data, _ = dataset[0]\n",
    "data.unsqueeze_(0)\n",
    "output = model(data)\n",
    "\n",
    "act = activation['conv1'].squeeze()\n"
   ]
  },
  {
   "cell_type": "code",
   "execution_count": null,
   "metadata": {
    "ExecuteTime": {
     "end_time": "2019-07-10T09:05:01.618750Z",
     "start_time": "2019-07-10T09:05:01.615612Z"
    },
    "hidden": true
   },
   "outputs": [],
   "source": [
    "data.shape, output.shape, act.shape"
   ]
  },
  {
   "cell_type": "code",
   "execution_count": null,
   "metadata": {
    "ExecuteTime": {
     "end_time": "2019-07-10T09:05:10.328097Z",
     "start_time": "2019-07-10T09:05:10.029337Z"
    },
    "hidden": true
   },
   "outputs": [],
   "source": [
    "fig, axarr = plt.subplots(act.size(0))\n",
    "for idx in range(act.size(0)):\n",
    "    axarr[idx].imshow(act[idx])"
   ]
  },
  {
   "cell_type": "code",
   "execution_count": null,
   "metadata": {
    "ExecuteTime": {
     "end_time": "2019-07-10T09:19:22.241325Z",
     "start_time": "2019-07-10T09:19:22.046794Z"
    },
    "hidden": true
   },
   "outputs": [],
   "source": [
    "model_name = \"densenet121\"\n",
    "model = Model(model_name, 5)"
   ]
  },
  {
   "cell_type": "code",
   "execution_count": null,
   "metadata": {
    "ExecuteTime": {
     "end_time": "2019-07-10T09:23:06.689532Z",
     "start_time": "2019-07-10T09:23:06.686006Z"
    },
    "hidden": true
   },
   "outputs": [],
   "source": [
    "model.model.features.norm5.register_forward_hook(get_activation('norm5'))"
   ]
  },
  {
   "cell_type": "code",
   "execution_count": null,
   "metadata": {
    "ExecuteTime": {
     "end_time": "2019-07-10T09:23:22.136129Z",
     "start_time": "2019-07-10T09:23:22.133372Z"
    },
    "hidden": true
   },
   "outputs": [],
   "source": [
    "#model.model.features.register_forward_hook()"
   ]
  },
  {
   "cell_type": "code",
   "execution_count": null,
   "metadata": {
    "ExecuteTime": {
     "end_time": "2019-07-10T09:25:24.214158Z",
     "start_time": "2019-07-10T09:25:24.080844Z"
    },
    "hidden": true
   },
   "outputs": [],
   "source": [
    "img = torch.rand(1, 3, 224, 224)\n",
    "output = model(img)\n",
    "img.shape, output.shape"
   ]
  },
  {
   "cell_type": "code",
   "execution_count": null,
   "metadata": {
    "ExecuteTime": {
     "end_time": "2019-07-10T09:25:49.447707Z",
     "start_time": "2019-07-10T09:25:49.444929Z"
    },
    "hidden": true
   },
   "outputs": [],
   "source": [
    "act = activation['norm5'].squeeze()"
   ]
  },
  {
   "cell_type": "code",
   "execution_count": null,
   "metadata": {
    "ExecuteTime": {
     "end_time": "2019-07-10T09:25:54.921847Z",
     "start_time": "2019-07-10T09:25:54.918157Z"
    },
    "hidden": true
   },
   "outputs": [],
   "source": [
    "act.shape"
   ]
  },
  {
   "cell_type": "code",
   "execution_count": null,
   "metadata": {
    "ExecuteTime": {
     "end_time": "2019-07-10T09:26:53.022392Z",
     "start_time": "2019-07-10T09:26:53.019645Z"
    },
    "hidden": true
   },
   "outputs": [],
   "source": [
    "avg_act = torch.mean(act, 0)"
   ]
  },
  {
   "cell_type": "code",
   "execution_count": null,
   "metadata": {
    "ExecuteTime": {
     "end_time": "2019-07-10T09:27:23.191509Z",
     "start_time": "2019-07-10T09:27:23.072761Z"
    },
    "hidden": true
   },
   "outputs": [],
   "source": [
    "\n",
    "plt.imshow(avg_act)"
   ]
  },
  {
   "cell_type": "code",
   "execution_count": null,
   "metadata": {
    "ExecuteTime": {
     "end_time": "2019-07-09T09:03:34.619692Z",
     "start_time": "2019-07-09T09:03:34.605111Z"
    },
    "hidden": true
   },
   "outputs": [],
   "source": [
    "scipy.optimize.minimize?"
   ]
  },
  {
   "cell_type": "code",
   "execution_count": null,
   "metadata": {
    "hidden": true
   },
   "outputs": [],
   "source": []
  },
  {
   "cell_type": "code",
   "execution_count": null,
   "metadata": {
    "hidden": true
   },
   "outputs": [],
   "source": []
  },
  {
   "cell_type": "code",
   "execution_count": null,
   "metadata": {
    "ExecuteTime": {
     "end_time": "2019-07-08T11:38:41.989850Z",
     "start_time": "2019-07-08T11:38:41.985288Z"
    },
    "hidden": true
   },
   "outputs": [],
   "source": []
  },
  {
   "cell_type": "code",
   "execution_count": null,
   "metadata": {
    "ExecuteTime": {
     "end_time": "2019-07-08T12:35:01.532754Z",
     "start_time": "2019-07-08T12:35:01.528783Z"
    },
    "hidden": true
   },
   "outputs": [],
   "source": [
    "arr = np.array([[1, 1, 1, 1, 1], [1, 1, 0, 0, 0], [1, 0, 1, 1, 0], [0, 0, 0, 0, 0]])\n",
    "mask = arr == 0\n",
    "np.clip(np.where(mask.any(1), mask.argmax(1), 5) - 1, 0, 4)"
   ]
  },
  {
   "cell_type": "code",
   "execution_count": null,
   "metadata": {
    "ExecuteTime": {
     "end_time": "2019-07-08T12:24:04.496151Z",
     "start_time": "2019-07-08T12:24:04.493900Z"
    },
    "hidden": true
   },
   "outputs": [],
   "source": [
    "mask"
   ]
  },
  {
   "cell_type": "code",
   "execution_count": null,
   "metadata": {
    "ExecuteTime": {
     "end_time": "2019-07-08T12:26:42.590196Z",
     "start_time": "2019-07-08T12:26:42.585288Z"
    },
    "hidden": true
   },
   "outputs": [],
   "source": [
    "mask.any(1), mask.argmax(1) "
   ]
  },
  {
   "cell_type": "code",
   "execution_count": null,
   "metadata": {
    "ExecuteTime": {
     "end_time": "2019-07-08T12:28:11.515384Z",
     "start_time": "2019-07-08T12:28:11.512611Z"
    },
    "hidden": true
   },
   "outputs": [],
   "source": [
    "np.where(mask.any(1), mask.argmax(1), 5)"
   ]
  },
  {
   "cell_type": "code",
   "execution_count": null,
   "metadata": {
    "ExecuteTime": {
     "end_time": "2019-07-08T12:20:06.062046Z",
     "start_time": "2019-07-08T12:20:06.058338Z"
    },
    "hidden": true
   },
   "outputs": [],
   "source": [
    "np.where?"
   ]
  },
  {
   "cell_type": "code",
   "execution_count": null,
   "metadata": {
    "ExecuteTime": {
     "end_time": "2019-07-08T10:58:31.781399Z",
     "start_time": "2019-07-08T10:58:31.777605Z"
    },
    "hidden": true
   },
   "outputs": [],
   "source": [
    "target = [1, 2, 3, 4, 0, 1, 2, 3, 4]\n",
    "NUM_CLASSES = 5\n",
    "to_multi_label(target)"
   ]
  },
  {
   "cell_type": "markdown",
   "metadata": {
    "heading_collapsed": true
   },
   "source": [
    "###  pycm analysis"
   ]
  },
  {
   "cell_type": "code",
   "execution_count": null,
   "metadata": {
    "ExecuteTime": {
     "end_time": "2019-07-06T12:18:49.565948Z",
     "start_time": "2019-07-06T12:18:49.562859Z"
    },
    "hidden": true
   },
   "outputs": [],
   "source": [
    "from pycm import *\n",
    "y_actu = [2, 0, 2, 2, 0, 1, 1, 2, 2, 0, 1, 2] # or y_actu = numpy.array([2, 0, 2, 2, 0, 1, 1, 2, 2, 0, 1, 2])\n",
    "y_pred = [0, 0, 2, 1, 0, 2, 1, 0, 2, 0, 2, 2] # or y_pred = numpy.array([0, 0, 2, 1, 0, 2, 1, 0, 2, 0, 2, 2])\n",
    "cm = ConfusionMatrix(actual_vector=y_actu, predict_vector=y_pred) # Create CM From Data"
   ]
  },
  {
   "cell_type": "code",
   "execution_count": null,
   "metadata": {
    "ExecuteTime": {
     "end_time": "2019-07-06T12:18:50.421121Z",
     "start_time": "2019-07-06T12:18:50.417856Z"
    },
    "hidden": true
   },
   "outputs": [],
   "source": [
    "cm.ACC"
   ]
  },
  {
   "cell_type": "code",
   "execution_count": null,
   "metadata": {
    "ExecuteTime": {
     "end_time": "2019-07-06T12:18:50.665623Z",
     "start_time": "2019-07-06T12:18:50.659328Z"
    },
    "hidden": true
   },
   "outputs": [],
   "source": [
    "cm.stat()"
   ]
  },
  {
   "cell_type": "code",
   "execution_count": null,
   "metadata": {
    "ExecuteTime": {
     "end_time": "2019-07-06T12:18:53.050944Z",
     "start_time": "2019-07-06T12:18:52.919080Z"
    },
    "hidden": true
   },
   "outputs": [],
   "source": [
    "!ls"
   ]
  },
  {
   "cell_type": "code",
   "execution_count": null,
   "metadata": {
    "ExecuteTime": {
     "end_time": "2019-07-06T12:21:23.393249Z",
     "start_time": "2019-07-06T12:21:23.175551Z"
    },
    "hidden": true
   },
   "outputs": [],
   "source": [
    "cms = {}\n",
    "cmfiles = glob('weights/5Jul_resnext101_32x4d_fold1/logs/*val*.obj')\n",
    "for i in range(len(cmfiles)):\n",
    "    cms[f\"cm{i}\"] = ConfusionMatrix(file=open(f\"weights/5Jul_resnext101_32x4d_fold1/logs/cmval_{i}.obj\",\"r\"))"
   ]
  },
  {
   "cell_type": "code",
   "execution_count": null,
   "metadata": {
    "ExecuteTime": {
     "end_time": "2019-07-06T12:21:46.554525Z",
     "start_time": "2019-07-06T12:21:46.551516Z"
    },
    "hidden": true
   },
   "outputs": [],
   "source": [
    "cp = Compare(cms)"
   ]
  },
  {
   "cell_type": "code",
   "execution_count": null,
   "metadata": {
    "ExecuteTime": {
     "end_time": "2019-07-06T12:21:50.251809Z",
     "start_time": "2019-07-06T12:21:50.248001Z"
    },
    "hidden": true
   },
   "outputs": [],
   "source": [
    "print(cp)"
   ]
  },
  {
   "cell_type": "code",
   "execution_count": null,
   "metadata": {
    "ExecuteTime": {
     "end_time": "2019-07-05T15:17:44.701082Z",
     "start_time": "2019-07-05T15:17:44.693202Z"
    },
    "hidden": true
   },
   "outputs": [],
   "source": [
    "cms['cm0'].overall_stat"
   ]
  },
  {
   "cell_type": "code",
   "execution_count": null,
   "metadata": {
    "ExecuteTime": {
     "end_time": "2019-07-06T12:50:33.021510Z",
     "start_time": "2019-07-06T12:50:33.016862Z"
    },
    "hidden": true,
    "scrolled": true
   },
   "outputs": [],
   "source": [
    "save_folder = \"weights\"\n",
    "phase = \"val\"\n",
    "val_logger = Logger(os.path.join(save_folder, \"logs/val\"),)\n",
    "train_logger = Logger(os.path.join(save_folder, \"logs/train\"))\n",
    "#configure( flush_secs=5)"
   ]
  },
  {
   "cell_type": "code",
   "execution_count": null,
   "metadata": {
    "ExecuteTime": {
     "end_time": "2019-07-06T12:50:36.183102Z",
     "start_time": "2019-07-06T12:50:36.180113Z"
    },
    "hidden": true
   },
   "outputs": [],
   "source": [
    "metrics = [\"Overall ACC\", \"Kappa\", \"TPR Micro\", \"PPV Micro\", \"F1 Micro\", \"Cross Entropy\", ]\n",
    "overall_stats = {x:[] for x in metrics}\n",
    "for i in range(len(cmfiles)):\n",
    "    for j in overall_stats.keys():\n",
    "        overall_stats[j].append(cms[\"cm%d\" % i].overall_stat[j])"
   ]
  },
  {
   "cell_type": "code",
   "execution_count": null,
   "metadata": {
    "ExecuteTime": {
     "end_time": "2019-07-06T12:50:50.091901Z",
     "start_time": "2019-07-06T12:50:50.088155Z"
    },
    "hidden": true
   },
   "outputs": [],
   "source": [
    "def log_all(name, data_list, logger):\n",
    "    for idx, val in enumerate(data_list):\n",
    "        logger.log_value(name, val, idx)"
   ]
  },
  {
   "cell_type": "code",
   "execution_count": null,
   "metadata": {
    "ExecuteTime": {
     "end_time": "2019-07-06T12:51:34.836988Z",
     "start_time": "2019-07-06T12:51:34.824788Z"
    },
    "hidden": true
   },
   "outputs": [],
   "source": [
    "for metric in metrics:\n",
    "    log_all(metric, overall_stats[metric], val_logger)"
   ]
  },
  {
   "cell_type": "code",
   "execution_count": null,
   "metadata": {
    "hidden": true
   },
   "outputs": [],
   "source": []
  },
  {
   "cell_type": "code",
   "execution_count": null,
   "metadata": {
    "hidden": true
   },
   "outputs": [],
   "source": []
  },
  {
   "cell_type": "code",
   "execution_count": null,
   "metadata": {
    "hidden": true
   },
   "outputs": [],
   "source": []
  },
  {
   "cell_type": "code",
   "execution_count": null,
   "metadata": {
    "hidden": true
   },
   "outputs": [],
   "source": []
  },
  {
   "cell_type": "code",
   "execution_count": null,
   "metadata": {
    "ExecuteTime": {
     "end_time": "2019-07-05T13:56:37.571313Z",
     "start_time": "2019-07-05T13:56:37.565919Z"
    },
    "hidden": true
   },
   "outputs": [],
   "source": [
    "a = torch.Tensor([[0, 0, 1], [1, 0, 0]])"
   ]
  },
  {
   "cell_type": "code",
   "execution_count": null,
   "metadata": {
    "ExecuteTime": {
     "end_time": "2019-07-05T13:57:13.125678Z",
     "start_time": "2019-07-05T13:57:13.120449Z"
    },
    "hidden": true
   },
   "outputs": [],
   "source": [
    "torch.argmax(a, dim=1)"
   ]
  },
  {
   "cell_type": "code",
   "execution_count": null,
   "metadata": {
    "ExecuteTime": {
     "end_time": "2019-07-05T13:57:00.755656Z",
     "start_time": "2019-07-05T13:57:00.749133Z"
    },
    "hidden": true
   },
   "outputs": [],
   "source": [
    "torch.argmax?"
   ]
  },
  {
   "cell_type": "code",
   "execution_count": null,
   "metadata": {
    "ExecuteTime": {
     "end_time": "2019-07-05T11:59:45.519358Z",
     "start_time": "2019-07-05T11:59:45.513981Z"
    },
    "hidden": true
   },
   "outputs": [],
   "source": [
    "labels = [1, 0, 2, 3, 2, 3, 3, 3]\n",
    "#np.eye(len(labels), 4)\n",
    "#np.eye(4)[1]\n",
    "len(np.unique(labels))kk"
   ]
  },
  {
   "cell_type": "code",
   "execution_count": null,
   "metadata": {
    "ExecuteTime": {
     "end_time": "2019-03-10T07:37:34.823215Z",
     "start_time": "2019-03-10T07:37:34.694235Z"
    },
    "hidden": true
   },
   "outputs": [],
   "source": [
    "!ls data"
   ]
  },
  {
   "cell_type": "code",
   "execution_count": null,
   "metadata": {
    "ExecuteTime": {
     "end_time": "2019-03-10T07:37:35.040492Z",
     "start_time": "2019-03-10T07:37:34.824387Z"
    },
    "hidden": true
   },
   "outputs": [],
   "source": [
    "train_df = pd.read_csv('data/train_labels.csv')\n",
    "test_df = pd.read_csv('data/sample_submission.csv')"
   ]
  },
  {
   "cell_type": "code",
   "execution_count": null,
   "metadata": {
    "ExecuteTime": {
     "end_time": "2019-03-10T07:37:35.045887Z",
     "start_time": "2019-03-10T07:37:35.041858Z"
    },
    "hidden": true
   },
   "outputs": [],
   "source": [
    "test_df.shape"
   ]
  },
  {
   "cell_type": "code",
   "execution_count": null,
   "metadata": {
    "ExecuteTime": {
     "end_time": "2019-03-10T07:37:35.066250Z",
     "start_time": "2019-03-10T07:37:35.047455Z"
    },
    "hidden": true
   },
   "outputs": [],
   "source": [
    "train_df.head()"
   ]
  },
  {
   "cell_type": "code",
   "execution_count": null,
   "metadata": {
    "ExecuteTime": {
     "end_time": "2019-03-10T07:37:35.092505Z",
     "start_time": "2019-03-10T07:37:35.067475Z"
    },
    "hidden": true
   },
   "outputs": [],
   "source": [
    "train_df.at[0, 'label'] = 1"
   ]
  },
  {
   "cell_type": "code",
   "execution_count": null,
   "metadata": {
    "ExecuteTime": {
     "end_time": "2019-03-10T07:37:35.568774Z",
     "start_time": "2019-03-10T07:37:35.566916Z"
    },
    "hidden": true
   },
   "outputs": [],
   "source": [
    "kfold = StratifiedKFold(20, shuffle=True, random_state=69)"
   ]
  },
  {
   "cell_type": "code",
   "execution_count": null,
   "metadata": {
    "ExecuteTime": {
     "end_time": "2019-03-10T07:37:36.231318Z",
     "start_time": "2019-03-10T07:37:36.228385Z"
    },
    "hidden": true
   },
   "outputs": [],
   "source": [
    "kfold.split(train_df['id'], train_df['label'])"
   ]
  },
  {
   "cell_type": "code",
   "execution_count": null,
   "metadata": {
    "ExecuteTime": {
     "end_time": "2019-03-10T07:37:37.386995Z",
     "start_time": "2019-03-10T07:37:37.290942Z"
    },
    "hidden": true
   },
   "outputs": [],
   "source": [
    "train_df.iloc[test]"
   ]
  },
  {
   "cell_type": "code",
   "execution_count": null,
   "metadata": {
    "ExecuteTime": {
     "end_time": "2019-03-10T07:37:37.832366Z",
     "start_time": "2019-03-10T07:37:37.826287Z"
    },
    "hidden": true
   },
   "outputs": [],
   "source": [
    "train_df.head()"
   ]
  },
  {
   "cell_type": "code",
   "execution_count": null,
   "metadata": {
    "ExecuteTime": {
     "end_time": "2019-03-10T07:37:38.925097Z",
     "start_time": "2019-03-10T07:37:38.890891Z"
    },
    "hidden": true
   },
   "outputs": [],
   "source": [
    "train_df.info(), test_df.info()"
   ]
  },
  {
   "cell_type": "code",
   "execution_count": null,
   "metadata": {
    "ExecuteTime": {
     "end_time": "2019-03-10T07:37:39.821810Z",
     "start_time": "2019-03-10T07:37:39.801762Z"
    },
    "hidden": true
   },
   "outputs": [],
   "source": [
    "%%time\n",
    "img = mpimg.imread('data/train/00001b2b5609af42ab0ab276dd4cd41c3e7745b5.tif')"
   ]
  },
  {
   "cell_type": "code",
   "execution_count": null,
   "metadata": {
    "ExecuteTime": {
     "end_time": "2019-03-10T07:37:55.077161Z",
     "start_time": "2019-03-10T07:37:40.249308Z"
    },
    "hidden": true
   },
   "outputs": [],
   "source": [
    "timeit mpimg.imread('data/train/00001b2b5609af42ab0ab276dd4cd41c3e7745b5.tif')"
   ]
  },
  {
   "cell_type": "code",
   "execution_count": null,
   "metadata": {
    "ExecuteTime": {
     "end_time": "2019-03-07T16:27:58.535990Z",
     "start_time": "2019-03-07T16:27:46.299666Z"
    },
    "hidden": true
   },
   "outputs": [],
   "source": [
    "timeit pil_loader('data/train/00001b2b5609af42ab0ab276dd4cd41c3e7745b5.tif')"
   ]
  },
  {
   "cell_type": "code",
   "execution_count": null,
   "metadata": {
    "ExecuteTime": {
     "end_time": "2019-03-06T15:12:50.961133Z",
     "start_time": "2019-03-06T15:12:47.191514Z"
    },
    "hidden": true
   },
   "outputs": [],
   "source": [
    "timeit cv2.imread('data/train/00001b2b5609af42ab0ab276dd4cd41c3e7745b5.tif', flags=cv2.IMREAD_COLOR)"
   ]
  },
  {
   "cell_type": "code",
   "execution_count": null,
   "metadata": {
    "ExecuteTime": {
     "end_time": "2019-03-06T15:18:21.212233Z",
     "start_time": "2019-03-06T15:18:19.341059Z"
    },
    "hidden": true
   },
   "outputs": [],
   "source": [
    "timeit io.imread(\"data/train/00001b2b5609af42ab0ab276dd4cd41c3e7745b5.tif\")"
   ]
  },
  {
   "cell_type": "code",
   "execution_count": null,
   "metadata": {
    "ExecuteTime": {
     "end_time": "2019-03-10T07:38:05.189234Z",
     "start_time": "2019-03-10T07:38:05.187374Z"
    },
    "hidden": true
   },
   "outputs": [],
   "source": [
    "img = torch.Tensor(img)"
   ]
  },
  {
   "cell_type": "code",
   "execution_count": null,
   "metadata": {
    "ExecuteTime": {
     "end_time": "2019-03-10T07:38:17.317412Z",
     "start_time": "2019-03-10T07:38:17.314828Z"
    },
    "hidden": true
   },
   "outputs": [],
   "source": [
    "img.flip?"
   ]
  },
  {
   "cell_type": "code",
   "execution_count": null,
   "metadata": {
    "ExecuteTime": {
     "end_time": "2019-03-10T07:38:28.007592Z",
     "start_time": "2019-03-10T07:38:28.005511Z"
    },
    "hidden": true
   },
   "outputs": [],
   "source": [
    "torch.flip?"
   ]
  },
  {
   "cell_type": "code",
   "execution_count": null,
   "metadata": {
    "hidden": true
   },
   "outputs": [],
   "source": []
  },
  {
   "cell_type": "markdown",
   "metadata": {
    "heading_collapsed": true,
    "hidden": true
   },
   "source": [
    "##### use cv2.imread for reading images "
   ]
  },
  {
   "cell_type": "code",
   "execution_count": null,
   "metadata": {
    "ExecuteTime": {
     "end_time": "2019-03-04T14:35:01.494063Z",
     "start_time": "2019-03-04T14:35:01.490754Z"
    },
    "hidden": true
   },
   "outputs": [],
   "source": [
    "img.shape\n"
   ]
  },
  {
   "cell_type": "code",
   "execution_count": null,
   "metadata": {
    "ExecuteTime": {
     "end_time": "2019-03-06T15:03:55.009058Z",
     "start_time": "2019-03-06T15:03:54.893133Z"
    },
    "hidden": true
   },
   "outputs": [],
   "source": [
    "plt.imshow(img)"
   ]
  },
  {
   "cell_type": "code",
   "execution_count": null,
   "metadata": {
    "ExecuteTime": {
     "end_time": "2019-03-04T14:35:02.359686Z",
     "start_time": "2019-03-04T14:35:02.264286Z"
    },
    "hidden": true
   },
   "outputs": [],
   "source": [
    "# plot some random training images with their ground truth labels\n",
    "i = random.choice(range(train_df.shape[0]))\n",
    "img = mpimg.imread('data/train/' + train_df.iloc[i]['id'] + '.tif')\n",
    "plt.imshow(img)\n",
    "plt.title(train_df.iloc[i]['label'])\n",
    "plt.show()"
   ]
  },
  {
   "cell_type": "code",
   "execution_count": null,
   "metadata": {
    "ExecuteTime": {
     "end_time": "2019-03-04T14:35:02.474089Z",
     "start_time": "2019-03-04T14:35:02.468284Z"
    },
    "hidden": true
   },
   "outputs": [],
   "source": [
    "train_df['label'].value_counts()"
   ]
  },
  {
   "cell_type": "code",
   "execution_count": null,
   "metadata": {
    "ExecuteTime": {
     "end_time": "2019-03-04T14:35:02.723464Z",
     "start_time": "2019-03-04T14:35:02.718236Z"
    },
    "hidden": true
   },
   "outputs": [],
   "source": [
    "train_df['label'].hist"
   ]
  },
  {
   "cell_type": "code",
   "execution_count": null,
   "metadata": {
    "ExecuteTime": {
     "end_time": "2019-03-06T19:56:24.770069Z",
     "start_time": "2019-03-06T19:56:24.574486Z"
    },
    "hidden": true
   },
   "outputs": [],
   "source": [
    "img = mpimg.imread('data/train/dd6dfed324f9fcb6f93f46f32fc800f2ec196be2.tif')\n",
    "plt.imshow(img)\n",
    "plt.show();\n",
    "aug_img = train_aug(image=img)\n",
    "plt.imshow(aug_img['image'])\n",
    "plt.show();"
   ]
  },
  {
   "cell_type": "markdown",
   "metadata": {},
   "source": [
    "### Dataloader analysis\n"
   ]
  },
  {
   "cell_type": "code",
   "execution_count": 18,
   "metadata": {
    "ExecuteTime": {
     "end_time": "2019-08-27T11:18:39.177560Z",
     "start_time": "2019-08-27T11:18:38.869869Z"
    }
   },
   "outputs": [
    {
     "name": "stdout",
     "output_type": "stream",
     "text": [
      "(10675, 3)\n",
      "(10675, 3)\n"
     ]
    }
   ],
   "source": [
    "import yaml\n",
    "filepath = '../configs/278_unetresnet34_f1_test.yaml'\n",
    "with open(filepath, 'r') as stream:\n",
    "    try:\n",
    "        cfg = yaml.safe_load(stream)\n",
    "    except yaml.YAMLError as exc:\n",
    "        print(exc)\n",
    "\n",
    "cfg[\"num_workers\"] = 0\n",
    "cfg[\"batch_size\"][\"train\"] = 1\n",
    "cfg[\"batch_size\"][\"val\"] = 1\n",
    "\n",
    "dataloaders = {phase: provider(phase, cfg) for phase in [\"train\", \"val\"]}"
   ]
  },
  {
   "cell_type": "markdown",
   "metadata": {},
   "source": [
    "### analyse augmentations "
   ]
  },
  {
   "cell_type": "code",
   "execution_count": 63,
   "metadata": {
    "ExecuteTime": {
     "end_time": "2019-08-27T11:25:36.277170Z",
     "start_time": "2019-08-27T11:25:36.271887Z"
    }
   },
   "outputs": [],
   "source": [
    "def get_transforms(phase, cfg):\n",
    "    size = cfg[\"size\"]\n",
    "    mean = eval(cfg[\"mean\"])\n",
    "    std = eval(cfg[\"std\"])\n",
    "    list_transforms = [\n",
    "    ]\n",
    "    if phase == \"train\":\n",
    "        list_transforms.extend(\n",
    "            [\n",
    "                ShiftScaleRotate(\n",
    "                    shift_limit=0.1,\n",
    "                    scale_limit=0.1,\n",
    "                    rotate_limit=10,\n",
    "                    p=0.5,\n",
    "                    border_mode=1 #cv2.BORDER_CONSTANT\n",
    "                ),\n",
    " \n",
    "            ]\n",
    "        )\n",
    "\n",
    "    list_transforms.extend(\n",
    "        [\n",
    "        albumentations.Normalize(mean=mean, std=std, p=1),\n",
    "            AT.ToTensor(),\n",
    "        ]\n",
    "    )\n",
    "    return albumentations.Compose(list_transforms)"
   ]
  },
  {
   "cell_type": "code",
   "execution_count": 64,
   "metadata": {
    "ExecuteTime": {
     "end_time": "2019-08-27T11:25:36.629101Z",
     "start_time": "2019-08-27T11:25:36.627026Z"
    }
   },
   "outputs": [],
   "source": [
    "phase = \"train\"\n",
    "dataloader = dataloaders[phase]\n",
    "dataloader.dataset.transforms = get_transforms(phase, cfg)"
   ]
  },
  {
   "cell_type": "code",
   "execution_count": 65,
   "metadata": {
    "ExecuteTime": {
     "end_time": "2019-08-27T11:25:36.969106Z",
     "start_time": "2019-08-27T11:25:36.965355Z"
    }
   },
   "outputs": [
    {
     "data": {
      "text/plain": [
       "[ShiftScaleRotate(always_apply=False, p=0.5, shift_limit=(-0.1, 0.1), scale_limit=(-0.09999999999999998, 0.10000000000000009), rotate_limit=(-10, 10), interpolation=1, border_mode=1, value=None, mask_value=None),\n",
       " Normalize(always_apply=False, p=1, mean=(0.485, 0.456, 0.406), std=(0.229, 0.224, 0.225), max_pixel_value=255.0),\n",
       " ToTensor(always_apply=True, p=1.0, num_classes=1, sigmoid=True, normalize=None)]"
      ]
     },
     "execution_count": 65,
     "metadata": {},
     "output_type": "execute_result"
    }
   ],
   "source": [
    "dataloader.dataset.transforms.transforms.transforms"
   ]
  },
  {
   "cell_type": "code",
   "execution_count": 103,
   "metadata": {
    "ExecuteTime": {
     "end_time": "2019-08-27T16:06:22.211536Z",
     "start_time": "2019-08-27T16:06:21.699655Z"
    }
   },
   "outputs": [
    {
     "data": {
      "image/png": "[encoded data removed]",
      "text/plain": [
       "<Figure size 1080x1080 with 2 Axes>"
      ]
     },
     "metadata": {
      "needs_background": "light"
     },
     "output_type": "display_data"
    }
   ],
   "source": [
    "# plot some random training images with their ground truth labels\n",
    "size = cfg['size']\n",
    "# batch = next(iter(dataloaders['train']))\n",
    "images, targets = batch\n",
    "fnames = targets['image_id']\n",
    "masks = targets['masks']\n",
    "labels = targets['labels']\n",
    "plt.figure(figsize=(15, 15))\n",
    "#i = random.choice(range(len(images)))\n",
    "i = 0 # as the batch size is 1\n",
    "img = images[i].clone()[0, :, :]\n",
    "mask = masks[i].clone()[0, :, :]\n",
    "label = labels[i]\n",
    "plt.subplot(1, 2, 1)\n",
    "#img = targets['img'][0]\n",
    "plt.imshow(img * 255, cmap='bone');\n",
    "# if label.item() == 1:\n",
    "plt.imshow(mask, alpha=0.2, cmap='Reds')\n",
    "plt.title(str(label.item()))\n",
    "plt.subplot(1, 2, 2)\n",
    "#org_img = mpimg.imread(f'../data/train_png/{fnames[i]}.png')\n",
    "#org_img = Image.open(f'../data/train_png/{fnames[i]}.png').convert('RGB')\n",
    "org_img = cv2.imread(f'../data/train_png/{fnames[i]}.png', cv2.IMREAD_GRAYSCALE)\n",
    "org_img = albumentations.Resize(size, size)(image=org_img)['image']\n",
    "plt.imshow(org_img, cmap='bone'); # original image\n",
    "# plt.imshow(mask, alpha=0.2, cmap='Reds')\n",
    "plt.show(); "
   ]
  },
  {
   "cell_type": "code",
   "execution_count": 114,
   "metadata": {
    "ExecuteTime": {
     "end_time": "2019-08-27T16:08:53.004110Z",
     "start_time": "2019-08-27T16:08:52.996973Z"
    }
   },
   "outputs": [
    {
     "data": {
      "text/plain": [
       "array([0., 1.], dtype=float32)"
      ]
     },
     "execution_count": 114,
     "metadata": {},
     "output_type": "execute_result"
    }
   ],
   "source": [
    "np.unique(mask * 255)"
   ]
  },
  {
   "cell_type": "code",
   "execution_count": 110,
   "metadata": {
    "ExecuteTime": {
     "end_time": "2019-08-27T16:08:24.292377Z",
     "start_time": "2019-08-27T16:08:24.287117Z"
    }
   },
   "outputs": [],
   "source": [
    "np.load?"
   ]
  },
  {
   "cell_type": "code",
   "execution_count": 113,
   "metadata": {
    "ExecuteTime": {
     "end_time": "2019-08-27T16:08:47.597914Z",
     "start_time": "2019-08-27T16:08:47.589712Z"
    }
   },
   "outputs": [
    {
     "data": {
      "text/plain": [
       "array([0.], dtype=float32)"
      ]
     },
     "execution_count": 113,
     "metadata": {},
     "output_type": "execute_result"
    }
   ],
   "source": [
    "m = np.load('../data/npy_files/npy_masks_512/1.2.276.0.7230010.3.1.4.8323329.1000.1517875165.878027.npy').astype('float32')\n",
    "m.dtype\n",
    "np.unique(m)"
   ]
  },
  {
   "cell_type": "code",
   "execution_count": 104,
   "metadata": {
    "ExecuteTime": {
     "end_time": "2019-08-27T16:06:26.438649Z",
     "start_time": "2019-08-27T16:06:26.421014Z"
    }
   },
   "outputs": [
    {
     "data": {
      "text/plain": [
       "(tensor(1.8550), tensor(-2.1179), tensor(0.0039), tensor(0.), 255)"
      ]
     },
     "execution_count": 104,
     "metadata": {},
     "output_type": "execute_result"
    }
   ],
   "source": [
    "torch.max(img), torch.min(img), torch.max(mask), torch.min(mask), np.max(org_img)"
   ]
  },
  {
   "cell_type": "code",
   "execution_count": 11,
   "metadata": {
    "ExecuteTime": {
     "end_time": "2019-08-01T19:22:27.462112Z",
     "start_time": "2019-08-01T19:22:27.458319Z"
    }
   },
   "outputs": [
    {
     "data": {
      "text/plain": [
       "(array([0., 1.], dtype=float32), array([62765,  2771]))"
      ]
     },
     "execution_count": 11,
     "metadata": {},
     "output_type": "execute_result"
    }
   ],
   "source": [
    "np.unique(mask, return_counts=True)"
   ]
  },
  {
   "cell_type": "code",
   "execution_count": 81,
   "metadata": {
    "ExecuteTime": {
     "end_time": "2019-08-27T11:44:42.792086Z",
     "start_time": "2019-08-27T11:44:42.787946Z"
    }
   },
   "outputs": [
    {
     "name": "stdout",
     "output_type": "stream",
     "text": [
      "RAM usage: 0.8279800415039062 GB\n"
     ]
    }
   ],
   "source": [
    "import psutil\n",
    "def show_ram_usage():\n",
    "    py = psutil.Process(os.getpid())\n",
    "    print('RAM usage: {} GB'.format(py.memory_info()[0]/2. ** 30))\n",
    "\n",
    "show_ram_usage()"
   ]
  },
  {
   "cell_type": "code",
   "execution_count": 97,
   "metadata": {
    "ExecuteTime": {
     "end_time": "2019-08-27T15:06:44.141587Z",
     "start_time": "2019-08-27T15:06:44.091302Z"
    }
   },
   "outputs": [],
   "source": [
    "df_path = os.path.join(cfg['home'], cfg['df_path'])\n",
    "df = pd.read_csv(df_path)\n",
    "df = df.drop_duplicates('ImageId')\n",
    "df_with_mask = df.query('has_mask == 1')\n",
    "#df = df_with_mask.copy()\n",
    "df_without_mask = df.query('has_mask==0')\n",
    "df_wom_sampled = df_without_mask.sample(len(df_with_mask))\n",
    "df = pd.concat([df_with_mask, df_wom_sampled])\n"
   ]
  },
  {
   "cell_type": "code",
   "execution_count": 98,
   "metadata": {
    "ExecuteTime": {
     "end_time": "2019-08-27T15:06:44.476012Z",
     "start_time": "2019-08-27T15:06:44.470767Z"
    }
   },
   "outputs": [
    {
     "data": {
      "text/plain": [
       "((4758, 3), (4758, 3))"
      ]
     },
     "execution_count": 98,
     "metadata": {},
     "output_type": "execute_result"
    }
   ],
   "source": [
    "df.shape, df.drop_duplicates('ImageId').shape"
   ]
  },
  {
   "cell_type": "code",
   "execution_count": 99,
   "metadata": {
    "ExecuteTime": {
     "end_time": "2019-08-27T15:06:45.028288Z",
     "start_time": "2019-08-27T15:06:44.878164Z"
    }
   },
   "outputs": [
    {
     "data": {
      "text/plain": [
       "[]"
      ]
     },
     "execution_count": 99,
     "metadata": {},
     "output_type": "execute_result"
    }
   ],
   "source": [
    "[x for x in df_with_mask.ImageId.tolist() if x in df_wom_sampled.ImageId.tolist()]"
   ]
  },
  {
   "cell_type": "code",
   "execution_count": 100,
   "metadata": {
    "ExecuteTime": {
     "end_time": "2019-08-27T15:06:50.328450Z",
     "start_time": "2019-08-27T15:06:50.322238Z"
    }
   },
   "outputs": [],
   "source": [
    "fold = cfg['fold']\n",
    "total_folds = cfg['total_folds']\n",
    "kfold = StratifiedKFold(total_folds, shuffle=True, random_state=69)\n",
    "train_idx, val_idx = list(kfold.split(df[\"ImageId\"], df[\"has_mask\"]))[fold]\n",
    "train_df, val_df = df.iloc[train_idx], df.iloc[val_idx]\n"
   ]
  },
  {
   "cell_type": "code",
   "execution_count": 101,
   "metadata": {
    "ExecuteTime": {
     "end_time": "2019-08-27T15:06:50.864934Z",
     "start_time": "2019-08-27T15:06:50.750563Z"
    }
   },
   "outputs": [
    {
     "data": {
      "text/plain": [
       "[]"
      ]
     },
     "execution_count": 101,
     "metadata": {},
     "output_type": "execute_result"
    }
   ],
   "source": [
    "[x for x in train_df.ImageId.tolist() if x in val_df.ImageId.tolist()]"
   ]
  },
  {
   "cell_type": "code",
   "execution_count": 102,
   "metadata": {
    "ExecuteTime": {
     "end_time": "2019-08-27T15:06:51.229229Z",
     "start_time": "2019-08-27T15:06:51.226575Z"
    }
   },
   "outputs": [],
   "source": [
    "df = train_df.copy() if phase == \"train\" else val_df.copy()"
   ]
  },
  {
   "cell_type": "code",
   "execution_count": 96,
   "metadata": {
    "ExecuteTime": {
     "end_time": "2019-08-27T14:58:32.564257Z",
     "start_time": "2019-08-27T14:58:32.551238Z"
    }
   },
   "outputs": [],
   "source": [
    "df.sample?"
   ]
  },
  {
   "cell_type": "code",
   "execution_count": null,
   "metadata": {},
   "outputs": [],
   "source": []
  },
  {
   "cell_type": "markdown",
   "metadata": {},
   "source": [
    "#### rle mask kaggle function test"
   ]
  },
  {
   "cell_type": "code",
   "execution_count": 31,
   "metadata": {
    "ExecuteTime": {
     "end_time": "2019-08-01T19:38:35.578207Z",
     "start_time": "2019-08-01T19:38:35.457974Z"
    }
   },
   "outputs": [],
   "source": [
    "df = pd.read_csv('../data/train.csv')"
   ]
  },
  {
   "cell_type": "code",
   "execution_count": 36,
   "metadata": {
    "ExecuteTime": {
     "end_time": "2019-08-01T19:40:14.354593Z",
     "start_time": "2019-08-01T19:40:14.343648Z"
    }
   },
   "outputs": [],
   "source": [
    "org_rle = df.iloc[2]['EncodedPixels']\n",
    "iid = df.iloc[2]['ImageId']\n",
    "img = cv2.imread(f'../data/train_png/{iid}.png')\n"
   ]
  },
  {
   "cell_type": "code",
   "execution_count": 40,
   "metadata": {
    "ExecuteTime": {
     "end_time": "2019-08-01T19:41:19.771582Z",
     "start_time": "2019-08-01T19:41:19.368093Z"
    }
   },
   "outputs": [
    {
     "data": {
      "text/plain": [
       "<matplotlib.image.AxesImage at 0x7fd4040d65f8>"
      ]
     },
     "execution_count": 40,
     "metadata": {},
     "output_type": "execute_result"
    },
    {
     "data": {
      "image/png": "[encoded data removed]",
      "text/plain": [
       "<Figure size 432x288 with 1 Axes>"
      ]
     },
     "metadata": {
      "needs_background": "light"
     },
     "output_type": "display_data"
    }
   ],
   "source": [
    "plt.imshow(img)\n",
    "plt.imshow(rle2mask(org_rle, 1024, 1024), alpha=0.5)"
   ]
  },
  {
   "cell_type": "markdown",
   "metadata": {
    "ExecuteTime": {
     "end_time": "2019-08-01T19:42:26.890468Z",
     "start_time": "2019-08-01T19:42:26.888340Z"
    }
   },
   "source": [
    "rle2mask returns transposed mask"
   ]
  },
  {
   "cell_type": "code",
   "execution_count": 42,
   "metadata": {
    "ExecuteTime": {
     "end_time": "2019-08-01T19:41:49.571649Z",
     "start_time": "2019-08-01T19:41:49.193888Z"
    }
   },
   "outputs": [
    {
     "data": {
      "text/plain": [
       "<matplotlib.image.AxesImage at 0x7fd3e90e4240>"
      ]
     },
     "execution_count": 42,
     "metadata": {},
     "output_type": "execute_result"
    },
    {
     "data": {
      "image/png": "[encoded data removed]",
      "text/plain": [
       "<Figure size 432x288 with 1 Axes>"
      ]
     },
     "metadata": {
      "needs_background": "light"
     },
     "output_type": "display_data"
    }
   ],
   "source": [
    "plt.imshow(img)\n",
    "plt.imshow(run_length_decode(org_rle), alpha=0.5)"
   ]
  },
  {
   "cell_type": "code",
   "execution_count": 44,
   "metadata": {
    "ExecuteTime": {
     "end_time": "2019-08-01T19:47:26.495219Z",
     "start_time": "2019-08-01T19:47:26.218989Z"
    }
   },
   "outputs": [
    {
     "data": {
      "text/plain": [
       "<matplotlib.image.AxesImage at 0x7fd3e90462b0>"
      ]
     },
     "execution_count": 44,
     "metadata": {},
     "output_type": "execute_result"
    },
    {
     "data": {
      "image/png": "[encoded data removed]",
      "text/plain": [
       "<Figure size 432x288 with 1 Axes>"
      ]
     },
     "metadata": {
      "needs_background": "light"
     },
     "output_type": "display_data"
    }
   ],
   "source": [
    "#let pred mask\n",
    "pred = run_length_decode(org_rle)\n",
    "plt.imshow(pred)"
   ]
  },
  {
   "cell_type": "code",
   "execution_count": 52,
   "metadata": {
    "ExecuteTime": {
     "end_time": "2019-08-01T19:52:51.105949Z",
     "start_time": "2019-08-01T19:52:51.048212Z"
    }
   },
   "outputs": [
    {
     "data": {
      "text/plain": [
       "((1024, 1024), array([0., 1.], dtype=float32))"
      ]
     },
     "execution_count": 52,
     "metadata": {},
     "output_type": "execute_result"
    }
   ],
   "source": [
    "pred.shape, np.unique(pred)"
   ]
  },
  {
   "cell_type": "code",
   "execution_count": 53,
   "metadata": {
    "ExecuteTime": {
     "end_time": "2019-08-01T19:53:02.304395Z",
     "start_time": "2019-08-01T19:53:01.781880Z"
    }
   },
   "outputs": [],
   "source": [
    "rle1 = mask2rle(pred * 255, 1024, 1024)\n",
    "rle2 = run_length_encode(pred)"
   ]
  },
  {
   "cell_type": "code",
   "execution_count": 55,
   "metadata": {
    "ExecuteTime": {
     "end_time": "2019-08-01T19:53:08.637374Z",
     "start_time": "2019-08-01T19:53:08.523017Z"
    }
   },
   "outputs": [
    {
     "data": {
      "text/plain": [
       "<matplotlib.image.AxesImage at 0x7fd3e9037128>"
      ]
     },
     "execution_count": 55,
     "metadata": {},
     "output_type": "execute_result"
    },
    {
     "data": {
      "image/png": "[encoded data removed]",
      "text/plain": [
       "<Figure size 432x288 with 1 Axes>"
      ]
     },
     "metadata": {
      "needs_background": "light"
     },
     "output_type": "display_data"
    }
   ],
   "source": [
    "plt.imshow(rle2mask(rle1, 1024, 1024)) # mask2rle transposed output, rle2mask transposed input to correct output"
   ]
  },
  {
   "cell_type": "code",
   "execution_count": 57,
   "metadata": {
    "ExecuteTime": {
     "end_time": "2019-08-01T19:55:57.424710Z",
     "start_time": "2019-08-01T19:55:56.945270Z"
    }
   },
   "outputs": [
    {
     "data": {
      "image/png": "[encoded data removed]",
      "text/plain": [
       "<Figure size 432x288 with 1 Axes>"
      ]
     },
     "metadata": {
      "needs_background": "light"
     },
     "output_type": "display_data"
    },
    {
     "data": {
      "text/plain": [
       "<matplotlib.image.AxesImage at 0x7fd3e8e65048>"
      ]
     },
     "execution_count": 57,
     "metadata": {},
     "output_type": "execute_result"
    },
    {
     "data": {
      "image/png": "[encoded data removed]",
      "text/plain": [
       "<Figure size 432x288 with 1 Axes>"
      ]
     },
     "metadata": {
      "needs_background": "light"
     },
     "output_type": "display_data"
    }
   ],
   "source": [
    "plt.imshow(run_length_decode(rle1)); plt.show()\n",
    "plt.imshow(run_length_decode(rle2))"
   ]
  },
  {
   "cell_type": "code",
   "execution_count": 58,
   "metadata": {
    "ExecuteTime": {
     "end_time": "2019-08-01T19:56:12.815019Z",
     "start_time": "2019-08-01T19:56:12.812343Z"
    }
   },
   "outputs": [
    {
     "data": {
      "text/plain": [
       "('101749 22 992 37 977 51 968 57 963 62 960 65 956 68 951 74 935 90 929 96 924 100 921 104 918 107 915 110 912 112 910 115 907 117 905 120 903 121 901 124 898 127 895 129 894 131 891 133 890 135 888 137 885 140 883 141 881 144 879 145 877 148 874 150 872 153 870 154 868 157 866 158 865 159 863 162 861 164 859 166 856 69 12 87 855 67 20 83 853 66 27 78 851 67 30 77 849 65 36 74 848 63 44 69 846 62 49 68 844 61 53 66 843 59 58 65 840 58 64 62 839 55 73 57 838 54 77 56 835 54 81 54 834 52 86 52 833 50 92 49 831 48 98 47 830 47 103 45 828 46 107 43 826 45 112 41 825 44 116 39 824 44 120 36 823 43 127 31 822 43 130 29 821 41 135 27 820 40 142 22 819 40 145 19 819 39 150 15 819 39 983 40 983 39 984 39 985 38 985 37 986 37 986 37 986 36 987 36 987 36 987 35 988 35 988 33 991 31 992 31 992 30 994 29 994 29 995 28 995 28 996 27 996 27 996 27 997 26 997 26 997 26 997 26 998 25 998 25 998 25 999 24 999 24 1000 24 999 24 999 24 999 24 999 23 1000 23 1000 23 1001 21 1002 21 1002 21 1002 20 1004 19 1004 19 1004 18 1005 18 1006 17 1006 18 1005 18 1005 18 1006 17 1006 16 1007 16 1007 16 1008 16 1007 16 1007 16 1007 16 1008 16 1007 16 1007 16 1007 16 1008 16 1007 16 1007 16 1008 15 1008 16 1008 15 1008 15 1009 14 1009 15 1009 14 1010 13 1010 14 1010 13 1011 13 1011 12 1011 13 1011 12 1012 11 1013 11 1013 10 1014 9 1015 8 1017 6 1019 4 1020 2',\n",
       " '175349 7 1013 12 1009 17 1005 19 1003 20 1002 22 1001 22 1000 23 1000 23 1000 23 999 24 999 23 1000 23 999 23 1000 22 1001 21 1001 22 1001 21 1002 21 1001 22 1001 21 1002 21 1001 22 1001 21 1002 21 1001 22 1001 21 1002 21 1002 21 1002 20 1003 20 1002 21 1001 23 1000 23 999 24 999 24 999 23 999 24 999 24 998 26 996 27 995 28 995 28 994 30 993 30 993 30 993 30 993 31 992 31 992 31 992 31 992 32 990 33 990 33 990 33 991 31 992 31 992 31 992 31 992 31 992 31 992 31 992 31 992 31 992 31 992 31 993 30 993 30 993 30 993 30 994 29 994 29 994 30 993 30 994 29 994 30 993 30 993 31 993 31 992 31 992 31 992 32 992 31 992 31 992 31 992 32 992 31 992 31 992 31 992 32 992 31 992 31 992 31 992 32 992 31 992 31 992 31 992 32 992 31 992 31 992 32 992 31 992 32 992 32 991 32 992 31 992 32 991 32 992 31 992 32 991 32 992 32 991 33 990 33 990 34 990 33 990 34 989 34 990 34 989 35 989 35 988 35 989 35 988 36 987 36 988 36 987 37 987 36 987 37 987 36 987 37 987 36 987 37 987 37 986 38 986 37 986 38 986 38 986 37 986 38 986 38 986 37 987 37 986 37 987 37 987 37 987 36 988 36 987 37 987 36 988 36 988 36 988 35 989 34 990 34 990 33 991 33 991 33 991 32 992 32 992 32 992 32 992 32 991 33 991 33 991 33 991 33 991 33 990 34 990 34 990 35 988 36 988 36 987 37 987 37 987 38 986 38 985 39 985 39 985 39 985 40 984 40 983 42 982 42 982 42 982 43 981 43 981 43 981 43 981 43 981 44 980 44 979 46 978 46 978 47 977 47 977 48 976 48 976 48 976 49 975 49 975 49 974 50 974 50 974 51 973 51 973 52 972 52 972 53 971 53 971 54 970 54 970 54 970 55 969 55 969 56 968 56 968 56 968 57 967 57 967 58 966 58 966 59 965 59 966 59 965 59 965 59 965 60 964 60 965 59 965 59 965 59 965 60 965 59 966 59 966 58 968 57 968 56 969 55 971 53 972 52 973 52 974 50 976 49 977 47 978 46 980 45 981 43 982 42 983 41 985 39 987 37 989 35 991 33 994 30 995 29 996 28 998 26 1000 24 1003 21 1005 19 1008 15 1014 9')"
      ]
     },
     "execution_count": 58,
     "metadata": {},
     "output_type": "execute_result"
    }
   ],
   "source": [
    "rle1, rle2"
   ]
  },
  {
   "cell_type": "code",
   "execution_count": 16,
   "metadata": {
    "ExecuteTime": {
     "end_time": "2019-08-01T19:24:09.214035Z",
     "start_time": "2019-08-01T19:24:09.173005Z"
    }
   },
   "outputs": [
    {
     "data": {
      "text/plain": [
       "array([  0,   4,  12,  20,  28,  32,  36,  60,  84,  95,  96, 100, 115,\n",
       "       139, 155, 159, 171, 195, 219, 223, 227, 235, 243, 251, 255],\n",
       "      dtype=uint8)"
      ]
     },
     "execution_count": 16,
     "metadata": {},
     "output_type": "execute_result"
    }
   ],
   "source": [
    "np.unique(im)"
   ]
  },
  {
   "cell_type": "code",
   "execution_count": 16,
   "metadata": {
    "ExecuteTime": {
     "end_time": "2019-07-31T17:06:08.089118Z",
     "start_time": "2019-07-31T17:06:08.086289Z"
    }
   },
   "outputs": [
    {
     "data": {
      "text/plain": [
       "'1.2.276.0.7230010.3.1.4.8323329.1426.1517875167.704674'"
      ]
     },
     "execution_count": 16,
     "metadata": {},
     "output_type": "execute_result"
    }
   ],
   "source": [
    "fnames[0]"
   ]
  },
  {
   "cell_type": "code",
   "execution_count": null,
   "metadata": {
    "ExecuteTime": {
     "end_time": "2019-07-31T14:29:44.726464Z",
     "start_time": "2019-07-31T14:29:44.722704Z"
    }
   },
   "outputs": [],
   "source": [
    "rle = gb.get_group(fnames[0])['EncodedPixels'].tolist()\n",
    "rle"
   ]
  },
  {
   "cell_type": "code",
   "execution_count": null,
   "metadata": {
    "ExecuteTime": {
     "end_time": "2019-07-31T14:42:19.976307Z",
     "start_time": "2019-07-31T14:42:19.971668Z"
    }
   },
   "outputs": [],
   "source": [
    "\n",
    "def run_length_decode(rle, height=1024, width=1024, fill_value=1):\n",
    "\n",
    "    component = np.zeros((height, width), np.float32)\n",
    "    component = component.reshape(-1)\n",
    "    rle = np.array([int(s) for s in rle.split(' ')])\n",
    "    rle = rle.reshape(-1, 2)\n",
    "    start = 0\n",
    "    for index, length in rle:\n",
    "        start = start+index\n",
    "        end = start+length\n",
    "        component[start: end] = fill_value\n",
    "        start = end\n",
    "    component = component.reshape(width, height).T\n",
    "    return component\n",
    "\n"
   ]
  },
  {
   "cell_type": "code",
   "execution_count": null,
   "metadata": {
    "ExecuteTime": {
     "end_time": "2019-07-31T14:42:20.466013Z",
     "start_time": "2019-07-31T14:42:20.463189Z"
    }
   },
   "outputs": [],
   "source": [
    "m = run_length_decode(rle[0])"
   ]
  },
  {
   "cell_type": "code",
   "execution_count": null,
   "metadata": {
    "ExecuteTime": {
     "end_time": "2019-07-31T14:43:44.379678Z",
     "start_time": "2019-07-31T14:43:44.358396Z"
    }
   },
   "outputs": [],
   "source": [
    "np.unique(m, return_counts=True), m.shape"
   ]
  },
  {
   "cell_type": "code",
   "execution_count": null,
   "metadata": {
    "ExecuteTime": {
     "end_time": "2019-07-31T14:39:48.867363Z",
     "start_time": "2019-07-31T14:39:48.862923Z"
    }
   },
   "outputs": [],
   "source": [
    "comp = np.zeros([5, 5])\n",
    "comp = comp.flatten()\n",
    "print(comp)\n",
    "comp[2:5] = 1\n",
    "print(comp)"
   ]
  },
  {
   "cell_type": "code",
   "execution_count": null,
   "metadata": {
    "ExecuteTime": {
     "end_time": "2019-07-31T14:40:34.887886Z",
     "start_time": "2019-07-31T14:40:34.884849Z"
    }
   },
   "outputs": [],
   "source": [
    "comp.reshape(5, 5).T"
   ]
  },
  {
   "cell_type": "code",
   "execution_count": null,
   "metadata": {
    "ExecuteTime": {
     "end_time": "2019-07-31T14:39:03.583197Z",
     "start_time": "2019-07-31T14:39:03.579587Z"
    }
   },
   "outputs": [],
   "source": []
  },
  {
   "cell_type": "code",
   "execution_count": null,
   "metadata": {
    "ExecuteTime": {
     "end_time": "2019-07-31T14:39:15.315959Z",
     "start_time": "2019-07-31T14:39:15.313944Z"
    }
   },
   "outputs": [],
   "source": []
  },
  {
   "cell_type": "code",
   "execution_count": null,
   "metadata": {
    "ExecuteTime": {
     "end_time": "2019-07-31T14:39:17.596443Z",
     "start_time": "2019-07-31T14:39:17.593421Z"
    }
   },
   "outputs": [],
   "source": []
  },
  {
   "cell_type": "markdown",
   "metadata": {
    "ExecuteTime": {
     "end_time": "2019-07-10T11:23:33.457167Z",
     "start_time": "2019-07-10T11:23:33.447438Z"
    },
    "heading_collapsed": true
   },
   "source": [
    "### augmentations testing"
   ]
  },
  {
   "cell_type": "code",
   "execution_count": null,
   "metadata": {
    "ExecuteTime": {
     "end_time": "2019-07-21T16:50:36.433479Z",
     "start_time": "2019-07-21T16:50:36.372404Z"
    },
    "hidden": true
   },
   "outputs": [],
   "source": [
    "img = np.load('../data/train_images/npy_rgb/a00b4cb250a7.npy')"
   ]
  },
  {
   "cell_type": "code",
   "execution_count": null,
   "metadata": {
    "ExecuteTime": {
     "end_time": "2019-07-21T16:51:13.044208Z",
     "start_time": "2019-07-21T16:51:12.900705Z"
    },
    "hidden": true
   },
   "outputs": [],
   "source": [
    "plt.imshow(img)"
   ]
  },
  {
   "cell_type": "code",
   "execution_count": null,
   "metadata": {
    "ExecuteTime": {
     "end_time": "2019-07-17T18:27:15.187055Z",
     "start_time": "2019-07-17T18:27:15.182810Z"
    },
    "hidden": true
   },
   "outputs": [],
   "source": [
    "np.min(img), np.max(img)"
   ]
  },
  {
   "cell_type": "code",
   "execution_count": null,
   "metadata": {
    "ExecuteTime": {
     "end_time": "2019-07-17T18:31:08.298664Z",
     "start_time": "2019-07-17T18:31:08.295222Z"
    },
    "hidden": true
   },
   "outputs": [],
   "source": [
    "albumentations.Normalize # Divide pixel values by 255, subtract mean per channel and divide by std per channel"
   ]
  },
  {
   "cell_type": "code",
   "execution_count": null,
   "metadata": {
    "ExecuteTime": {
     "end_time": "2019-07-17T18:29:00.149075Z",
     "start_time": "2019-07-17T18:29:00.144041Z"
    },
    "hidden": true
   },
   "outputs": [],
   "source": [
    "mean = (0.485, 0.456, 0.406)\n",
    "std = (0.229, 0.224, 0.225)\n",
    "norm = albumentations.Normalize(mean=mean, std=std, p=1)\n",
    "norm_img = norm(image=img)['image']"
   ]
  },
  {
   "cell_type": "code",
   "execution_count": null,
   "metadata": {
    "ExecuteTime": {
     "end_time": "2019-07-17T18:29:39.466646Z",
     "start_time": "2019-07-17T18:29:39.463366Z"
    },
    "hidden": true
   },
   "outputs": [],
   "source": [
    "np.min(norm_img), np.max(norm_img), norm_img[0, 0, 0]"
   ]
  },
  {
   "cell_type": "code",
   "execution_count": null,
   "metadata": {
    "ExecuteTime": {
     "end_time": "2019-07-17T18:35:25.572489Z",
     "start_time": "2019-07-17T18:35:25.568111Z"
    },
    "hidden": true
   },
   "outputs": [],
   "source": [
    "norm_img.dtype"
   ]
  },
  {
   "cell_type": "code",
   "execution_count": null,
   "metadata": {
    "ExecuteTime": {
     "end_time": "2019-07-17T18:31:49.514675Z",
     "start_time": "2019-07-17T18:31:49.510075Z"
    },
    "hidden": true
   },
   "outputs": [],
   "source": [
    "albumentations.torch.ToTensor? # convert image and mask to torch.Tensor and divide by 255 if image or mask are `uint8` type, use with care look into sources"
   ]
  },
  {
   "cell_type": "code",
   "execution_count": null,
   "metadata": {
    "ExecuteTime": {
     "end_time": "2019-07-17T18:35:50.901598Z",
     "start_time": "2019-07-17T18:35:50.896313Z"
    },
    "hidden": true
   },
   "outputs": [],
   "source": [
    "albumentations.Normalize?"
   ]
  },
  {
   "cell_type": "code",
   "execution_count": null,
   "metadata": {
    "ExecuteTime": {
     "end_time": "2019-03-04T15:20:19.088630Z",
     "start_time": "2019-03-04T15:20:19.077897Z"
    },
    "hidden": true
   },
   "outputs": [],
   "source": [
    "mean = torch.as_tensor([0.485, 0.456, 0.406])\n",
    "std = torch.as_tensor([0.229, 0.224, 0.225])\n",
    "#return (img * std) + mean\n",
    "#return img.mul_(std).add_(mean)\n",
    "labels[i].item()"
   ]
  },
  {
   "cell_type": "code",
   "execution_count": null,
   "metadata": {
    "ExecuteTime": {
     "end_time": "2019-03-04T15:15:32.950081Z",
     "start_time": "2019-03-04T15:15:32.946752Z"
    },
    "hidden": true
   },
   "outputs": [],
   "source": [
    "mean, std, mean.shape, std.shape"
   ]
  },
  {
   "cell_type": "code",
   "execution_count": null,
   "metadata": {
    "ExecuteTime": {
     "end_time": "2019-03-04T15:15:40.550792Z",
     "start_time": "2019-03-04T15:15:40.545982Z"
    },
    "hidden": true
   },
   "outputs": [],
   "source": []
  },
  {
   "cell_type": "markdown",
   "metadata": {
    "heading_collapsed": true
   },
   "source": [
    "### pretrained models testing"
   ]
  },
  {
   "cell_type": "code",
   "execution_count": null,
   "metadata": {
    "ExecuteTime": {
     "end_time": "2019-07-16T06:05:01.448215Z",
     "start_time": "2019-07-16T06:05:01.443168Z"
    },
    "hidden": true
   },
   "outputs": [],
   "source": [
    "import pretrainedmodels\n",
    "pretrainedmodels.model_names"
   ]
  },
  {
   "cell_type": "code",
   "execution_count": null,
   "metadata": {
    "ExecuteTime": {
     "end_time": "2019-07-16T06:06:02.472524Z",
     "start_time": "2019-07-16T06:06:02.469009Z"
    },
    "hidden": true
   },
   "outputs": [],
   "source": [
    "pretrainedmodels.pretrained_settings['resnext101_32x4d']"
   ]
  },
  {
   "cell_type": "code",
   "execution_count": null,
   "metadata": {
    "ExecuteTime": {
     "end_time": "2019-07-16T07:51:48.186477Z",
     "start_time": "2019-07-16T07:51:47.377749Z"
    },
    "hidden": true
   },
   "outputs": [],
   "source": [
    "summary(model2, input_size=(3, 224, 224), device=\"cpu\")"
   ]
  },
  {
   "cell_type": "code",
   "execution_count": null,
   "metadata": {
    "ExecuteTime": {
     "end_time": "2019-07-17T15:47:26.446900Z",
     "start_time": "2019-07-17T15:47:22.332278Z"
    },
    "hidden": true
   },
   "outputs": [],
   "source": [
    "import torch\n",
    "model = torch.hub.load('facebookresearch/WSL-Images', 'resnext101_32x16d_wsl')"
   ]
  },
  {
   "cell_type": "code",
   "execution_count": null,
   "metadata": {
    "hidden": true
   },
   "outputs": [],
   "source": [
    "model.fc"
   ]
  },
  {
   "cell_type": "code",
   "execution_count": null,
   "metadata": {
    "ExecuteTime": {
     "end_time": "2019-07-17T16:01:18.248617Z",
     "start_time": "2019-07-17T16:01:18.245412Z"
    },
    "hidden": true
   },
   "outputs": [],
   "source": [
    "model.avgpool"
   ]
  },
  {
   "cell_type": "code",
   "execution_count": null,
   "metadata": {
    "ExecuteTime": {
     "end_time": "2019-07-16T09:02:42.556472Z",
     "start_time": "2019-07-16T09:02:42.553787Z"
    },
    "hidden": true
   },
   "outputs": [],
   "source": [
    "model.children()"
   ]
  },
  {
   "cell_type": "code",
   "execution_count": null,
   "metadata": {
    "ExecuteTime": {
     "end_time": "2019-07-17T15:48:14.261755Z",
     "start_time": "2019-07-17T15:48:14.258805Z"
    },
    "hidden": true
   },
   "outputs": [],
   "source": [
    "blocks = list(model.children())"
   ]
  },
  {
   "cell_type": "code",
   "execution_count": null,
   "metadata": {
    "ExecuteTime": {
     "end_time": "2019-07-17T15:48:46.192318Z",
     "start_time": "2019-07-17T15:48:46.190080Z"
    },
    "hidden": true
   },
   "outputs": [],
   "source": [
    "backbone = nn.Sequential(\n",
    "    *list(blocks[:-2])\n",
    ") # upto AdaptiveAvgPool2d"
   ]
  },
  {
   "cell_type": "code",
   "execution_count": null,
   "metadata": {
    "ExecuteTime": {
     "end_time": "2019-07-17T15:48:49.113114Z",
     "start_time": "2019-07-17T15:48:49.103140Z"
    },
    "hidden": true
   },
   "outputs": [],
   "source": [
    "backbone"
   ]
  },
  {
   "cell_type": "code",
   "execution_count": null,
   "metadata": {
    "ExecuteTime": {
     "end_time": "2019-07-10T07:52:54.633643Z",
     "start_time": "2019-07-10T07:52:54.617685Z"
    },
    "hidden": true
   },
   "outputs": [],
   "source": [
    "nn.AvgPool2d?"
   ]
  },
  {
   "cell_type": "code",
   "execution_count": null,
   "metadata": {
    "ExecuteTime": {
     "end_time": "2019-07-16T14:17:42.092692Z",
     "start_time": "2019-07-16T14:17:41.557248Z"
    },
    "hidden": true
   },
   "outputs": [],
   "source": [
    "# model_name='se_resnext50_32x4d'\n",
    "model_name= \"resnext101_32x4d\"#'nasnetamobile'\n",
    "model_name = \"resnet50\"\n",
    "#model_name = \"densenet121\"\n",
    "\n",
    "model = pretrainedmodels.__dict__[model_name](num_classes=1000)"
   ]
  },
  {
   "cell_type": "code",
   "execution_count": null,
   "metadata": {
    "ExecuteTime": {
     "end_time": "2019-07-16T14:24:00.286560Z",
     "start_time": "2019-07-16T14:24:00.281371Z"
    },
    "hidden": true
   },
   "outputs": [],
   "source": [
    "#list(model.children())\n",
    "model"
   ]
  },
  {
   "cell_type": "code",
   "execution_count": null,
   "metadata": {
    "ExecuteTime": {
     "end_time": "2019-07-06T16:57:55.363607Z",
     "start_time": "2019-07-06T16:57:55.361473Z"
    },
    "hidden": true
   },
   "outputs": [],
   "source": [
    "#model.features"
   ]
  },
  {
   "cell_type": "code",
   "execution_count": null,
   "metadata": {
    "ExecuteTime": {
     "end_time": "2019-07-10T07:53:27.566872Z",
     "start_time": "2019-07-10T07:53:27.565161Z"
    },
    "hidden": true,
    "scrolled": true
   },
   "outputs": [],
   "source": [
    "# blocks = list(model.children())\n",
    "# # blocks[:-3]\n",
    "# model"
   ]
  },
  {
   "cell_type": "code",
   "execution_count": null,
   "metadata": {
    "ExecuteTime": {
     "end_time": "2019-03-11T07:16:10.087047Z",
     "start_time": "2019-03-11T07:16:10.082661Z"
    },
    "hidden": true,
    "scrolled": false
   },
   "outputs": [],
   "source": [
    "blocks = list(model.children())\n",
    "head = torch.nn.Sequential(*list(model.children())[:-3])\n",
    "# model._modules['layer0'] = head\n",
    "#model._modules['avg_pool'] = torch.nn.AvgPool2d(kernel_size=5, stride=1, padding=0) \n",
    "#model._modules['avg_pool'] = torch.nn.Sequential(*[torch.nn.ConstantPad2d((0,1,0,1), 0), torch.nn.AvgPool2d(kernel_size=7, stride=1, padding=0)])\n",
    "# model._modules['avg_pool'] = torch.nn.Sequential(torch.nn.AdaptiveAvgPool2d((1, 1)))\n",
    "# model._modules['last_linear'] = torch.nn.Linear(in_features=2048, out_features=1, bias=True)\n",
    "# model._modules['last_layer'] = classifier"
   ]
  },
  {
   "cell_type": "code",
   "execution_count": null,
   "metadata": {
    "ExecuteTime": {
     "end_time": "2019-03-09T06:14:19.979600Z",
     "start_time": "2019-03-09T06:14:19.950807Z"
    },
    "hidden": true
   },
   "outputs": [],
   "source": [
    "torch.nn.AdaptiveAvgPool2d?"
   ]
  },
  {
   "cell_type": "code",
   "execution_count": null,
   "metadata": {
    "ExecuteTime": {
     "end_time": "2019-03-08T14:35:34.758872Z",
     "start_time": "2019-03-08T14:35:34.725552Z"
    },
    "hidden": true,
    "scrolled": true
   },
   "outputs": [],
   "source": [
    "#head.parameters()\n",
    "#for block in blocks:\n",
    "base = list(blocks[0].children())[:-1] + blocks[1:-2]\n",
    "torch.nn.Sequential(*base)\n",
    "torch.nn.Dropout?\n",
    "#    print(block)\n",
    "#    print('*'*100)"
   ]
  },
  {
   "cell_type": "code",
   "execution_count": null,
   "metadata": {
    "ExecuteTime": {
     "end_time": "2019-03-08T14:36:44.812582Z",
     "start_time": "2019-03-08T14:36:44.809699Z"
    },
    "hidden": true
   },
   "outputs": [],
   "source": [
    "\n",
    "torch.nn.Linear?"
   ]
  },
  {
   "cell_type": "code",
   "execution_count": null,
   "metadata": {
    "ExecuteTime": {
     "end_time": "2019-03-06T18:40:10.089244Z",
     "start_time": "2019-03-06T18:40:10.083820Z"
    },
    "hidden": true
   },
   "outputs": [],
   "source": [
    "#blocks[0] = head"
   ]
  },
  {
   "cell_type": "code",
   "execution_count": null,
   "metadata": {
    "ExecuteTime": {
     "end_time": "2019-03-06T18:40:11.163991Z",
     "start_time": "2019-03-06T18:40:11.156193Z"
    },
    "hidden": true
   },
   "outputs": [],
   "source": [
    "#blocks[-1] = torch.nn.Linear(in_features=2048, out_features=1, bias=True)"
   ]
  },
  {
   "cell_type": "code",
   "execution_count": null,
   "metadata": {
    "ExecuteTime": {
     "end_time": "2019-03-06T18:41:12.150285Z",
     "start_time": "2019-03-06T18:41:12.146092Z"
    },
    "hidden": true
   },
   "outputs": [],
   "source": [
    "#model = torch.nn.Sequential(*blocks)"
   ]
  },
  {
   "cell_type": "code",
   "execution_count": null,
   "metadata": {
    "ExecuteTime": {
     "end_time": "2019-03-08T09:57:42.790101Z",
     "start_time": "2019-03-08T09:57:42.788435Z"
    },
    "hidden": true,
    "scrolled": true
   },
   "outputs": [],
   "source": [
    "#model._modules"
   ]
  },
  {
   "cell_type": "code",
   "execution_count": null,
   "metadata": {
    "ExecuteTime": {
     "end_time": "2019-07-16T14:23:12.737048Z",
     "start_time": "2019-07-16T14:23:12.733734Z"
    },
    "hidden": true
   },
   "outputs": [],
   "source": [
    "img = torch.Tensor(1, 3, 224, 224)#.to('cuda')\n",
    "#img = torch.Tensor(1, 3, 112, 112)\n",
    "#img = torch.Tensor(1, 3, 96, 96)"
   ]
  },
  {
   "cell_type": "code",
   "execution_count": null,
   "metadata": {
    "ExecuteTime": {
     "end_time": "2019-07-16T14:23:19.348145Z",
     "start_time": "2019-07-16T14:23:19.164218Z"
    },
    "hidden": true
   },
   "outputs": [],
   "source": [
    "out = model(img)\n",
    "features = model.features(img)\n",
    "print(features.shape, out.shape)"
   ]
  },
  {
   "cell_type": "code",
   "execution_count": null,
   "metadata": {
    "ExecuteTime": {
     "end_time": "2019-07-10T07:55:22.459325Z",
     "start_time": "2019-07-10T07:55:22.456585Z"
    },
    "hidden": true
   },
   "outputs": [],
   "source": [
    "nn.AdaptiveAvgPool2d((1, 1))(features).shape"
   ]
  },
  {
   "cell_type": "code",
   "execution_count": null,
   "metadata": {
    "ExecuteTime": {
     "end_time": "2019-07-16T14:21:47.699120Z",
     "start_time": "2019-07-16T14:21:47.690327Z"
    },
    "hidden": true
   },
   "outputs": [],
   "source": [
    "x = None\n",
    "for param in model.features.children():\n",
    "    \n",
    "    print(param)\n",
    "    if x is None:\n",
    "        x = param(img)\n",
    "    else:\n",
    "        x = param(x)\n",
    "    print(x.shape)"
   ]
  },
  {
   "cell_type": "code",
   "execution_count": null,
   "metadata": {
    "ExecuteTime": {
     "end_time": "2019-03-08T11:35:18.787790Z",
     "start_time": "2019-03-08T11:35:18.785323Z"
    },
    "hidden": true
   },
   "outputs": [],
   "source": []
  },
  {
   "cell_type": "code",
   "execution_count": null,
   "metadata": {
    "ExecuteTime": {
     "end_time": "2019-07-16T14:16:24.194048Z",
     "start_time": "2019-07-16T14:16:24.180749Z"
    },
    "hidden": true
   },
   "outputs": [],
   "source": [
    "# summary(model, input_size=(3, 96, 96))\n",
    "# summary(model, input_size=(3, 112, 112))\n",
    "summary(model.features, input_size=(3, 224, 224))"
   ]
  },
  {
   "cell_type": "code",
   "execution_count": null,
   "metadata": {
    "ExecuteTime": {
     "end_time": "2019-07-06T17:04:20.713090Z",
     "start_time": "2019-07-06T17:04:20.693026Z"
    },
    "hidden": true
   },
   "outputs": [],
   "source": [
    "torch.nn.functional.max_pool2d\n",
    "torch.nn.functional.adaptive_avg_pool2d?"
   ]
  },
  {
   "cell_type": "code",
   "execution_count": null,
   "metadata": {
    "ExecuteTime": {
     "end_time": "2019-03-11T15:46:57.035580Z",
     "start_time": "2019-03-11T15:46:57.031531Z"
    },
    "hidden": true
   },
   "outputs": [],
   "source": [
    "# torch.nn.Dropout?\n",
    "\n",
    "class Flatten(nn.Module):\n",
    "    def forward(self, x):\n",
    "        return x.view(x.size()[0], -1)\n",
    "\n",
    "\n"
   ]
  },
  {
   "cell_type": "code",
   "execution_count": null,
   "metadata": {
    "ExecuteTime": {
     "end_time": "2019-03-11T15:47:18.366460Z",
     "start_time": "2019-03-11T15:47:18.118874Z"
    },
    "hidden": true
   },
   "outputs": [],
   "source": [
    "model = pretrainedmodels.__dict__[model_name](num_classes=1000, pretrained=\"imagenet\")\n",
    "backbone = model.features\n",
    "classifier = nn.Sequential(\n",
    "        nn.AdaptiveAvgPool2d((1, 1)),\n",
    "        Flatten(),\n",
    "        nn.Dropout(0.5),\n",
    "        nn.Linear(in_features=1056, out_features=1, bias=True)\n",
    "        )\n",
    "\n"
   ]
  },
  {
   "cell_type": "code",
   "execution_count": null,
   "metadata": {
    "ExecuteTime": {
     "end_time": "2019-03-11T15:48:04.010034Z",
     "start_time": "2019-03-11T15:48:03.895379Z"
    },
    "hidden": true
   },
   "outputs": [],
   "source": [
    "img = torch.Tensor(1, 3, 112, 112)\n",
    "features = backbone(img)\n"
   ]
  },
  {
   "cell_type": "code",
   "execution_count": null,
   "metadata": {
    "ExecuteTime": {
     "end_time": "2019-03-11T16:27:30.993565Z",
     "start_time": "2019-03-11T16:27:30.991372Z"
    },
    "hidden": true
   },
   "outputs": [],
   "source": [
    "model.parameters()"
   ]
  },
  {
   "cell_type": "code",
   "execution_count": null,
   "metadata": {
    "hidden": true
   },
   "outputs": [],
   "source": []
  },
  {
   "cell_type": "code",
   "execution_count": null,
   "metadata": {
    "hidden": true
   },
   "outputs": [],
   "source": []
  },
  {
   "cell_type": "code",
   "execution_count": null,
   "metadata": {
    "hidden": true
   },
   "outputs": [],
   "source": []
  },
  {
   "cell_type": "code",
   "execution_count": null,
   "metadata": {
    "ExecuteTime": {
     "end_time": "2019-03-10T08:10:07.164081Z",
     "start_time": "2019-03-10T08:10:07.162484Z"
    },
    "hidden": true
   },
   "outputs": [],
   "source": [
    " \n",
    "from albumentations import *"
   ]
  },
  {
   "cell_type": "code",
   "execution_count": null,
   "metadata": {
    "hidden": true
   },
   "outputs": [],
   "source": []
  },
  {
   "cell_type": "code",
   "execution_count": null,
   "metadata": {
    "ExecuteTime": {
     "end_time": "2019-03-10T08:10:07.620226Z",
     "start_time": "2019-03-10T08:10:07.616861Z"
    },
    "hidden": true
   },
   "outputs": [],
   "source": [
    "train_aug = Compose([\n",
    "    Resize(224, 224),\n",
    "    RandomRotate90(p=0.5),\n",
    "    Transpose(p=0.5),\n",
    "    Flip(p=0.5),\n",
    "    OneOf([CLAHE(clip_limit=2), IAASharpen(), IAAEmboss(), RandomBrightnessContrast(), JpegCompression(), Blur(), GaussNoise() ], p=0.5), \n",
    "    HueSaturationValue(p=0.5), \n",
    "    ShiftScaleRotate(shift_limit=0.15, scale_limit=0.15, rotate_limit=45, p=0.5),\n",
    "    Normalize(p=1)\n",
    "])\n",
    "val_aug = Compose([\n",
    "    Normalize(p=1)\n",
    "])\n"
   ]
  },
  {
   "cell_type": "code",
   "execution_count": null,
   "metadata": {
    "ExecuteTime": {
     "end_time": "2019-03-10T08:10:07.912008Z",
     "start_time": "2019-03-10T08:10:07.897516Z"
    },
    "hidden": true
   },
   "outputs": [],
   "source": [
    "ShiftScaleRotate?"
   ]
  },
  {
   "cell_type": "code",
   "execution_count": null,
   "metadata": {
    "ExecuteTime": {
     "end_time": "2019-03-10T08:10:08.282455Z",
     "start_time": "2019-03-10T08:10:08.277887Z"
    },
    "hidden": true
   },
   "outputs": [],
   "source": [
    "Normalize?"
   ]
  },
  {
   "cell_type": "code",
   "execution_count": null,
   "metadata": {
    "ExecuteTime": {
     "end_time": "2019-03-06T19:53:46.931709Z",
     "start_time": "2019-03-06T19:53:46.926445Z"
    },
    "hidden": true
   },
   "outputs": [],
   "source": [
    "train_aug?"
   ]
  },
  {
   "cell_type": "code",
   "execution_count": null,
   "metadata": {
    "ExecuteTime": {
     "end_time": "2019-03-10T08:10:23.270399Z",
     "start_time": "2019-03-10T08:10:23.268554Z"
    },
    "hidden": true
   },
   "outputs": [],
   "source": [
    "flip = Flip(p=1)"
   ]
  },
  {
   "cell_type": "code",
   "execution_count": null,
   "metadata": {
    "ExecuteTime": {
     "end_time": "2019-03-10T08:11:16.673190Z",
     "start_time": "2019-03-10T08:11:16.670185Z"
    },
    "hidden": true
   },
   "outputs": [],
   "source": [
    "flip.apply?"
   ]
  },
  {
   "cell_type": "code",
   "execution_count": null,
   "metadata": {
    "hidden": true
   },
   "outputs": [],
   "source": []
  },
  {
   "cell_type": "code",
   "execution_count": null,
   "metadata": {
    "hidden": true
   },
   "outputs": [],
   "source": []
  },
  {
   "cell_type": "markdown",
   "metadata": {
    "heading_collapsed": true
   },
   "source": [
    "### AUC ROC"
   ]
  },
  {
   "cell_type": "code",
   "execution_count": null,
   "metadata": {
    "ExecuteTime": {
     "end_time": "2019-03-08T10:02:30.215552Z",
     "start_time": "2019-03-08T10:02:30.153939Z"
    },
    "hidden": true
   },
   "outputs": [],
   "source": [
    "# roc curve and auc\n",
    "from sklearn.datasets import make_classification\n",
    "from sklearn.neighbors import KNeighborsClassifier\n",
    "from sklearn.model_selection import train_test_split\n",
    "from sklearn.metrics import roc_curve\n",
    "from sklearn.metrics import roc_auc_score\n",
    "from matplotlib import pyplot\n",
    "# generate 2 class dataset\n",
    "X, y = make_classification(n_samples=1000, n_classes=2, weights=[1,1], random_state=1)\n",
    "# split into train/test sets\n",
    "trainX, testX, trainy, testy = train_test_split(X, y, test_size=0.5, random_state=2)\n",
    "# fit a model\n",
    "model = KNeighborsClassifier(n_neighbors=3)\n",
    "model.fit(trainX, trainy)\n",
    "# predict probabilities\n",
    "probs = model.predict_proba(testX)\n",
    "# keep probabilities for the positive outcome only\n",
    "probs = probs[:, 1]\n"
   ]
  },
  {
   "cell_type": "code",
   "execution_count": null,
   "metadata": {
    "ExecuteTime": {
     "end_time": "2019-03-08T10:02:30.465574Z",
     "start_time": "2019-03-08T10:02:30.463109Z"
    },
    "hidden": true
   },
   "outputs": [],
   "source": [
    "testy.shape, probs.shape"
   ]
  },
  {
   "cell_type": "code",
   "execution_count": null,
   "metadata": {
    "ExecuteTime": {
     "end_time": "2019-03-08T10:02:30.845448Z",
     "start_time": "2019-03-08T10:02:30.836471Z"
    },
    "hidden": true
   },
   "outputs": [],
   "source": [
    "fpr, tpr, thresholds"
   ]
  },
  {
   "cell_type": "code",
   "execution_count": null,
   "metadata": {
    "ExecuteTime": {
     "end_time": "2019-03-08T10:02:31.264875Z",
     "start_time": "2019-03-08T10:02:31.146065Z"
    },
    "hidden": true
   },
   "outputs": [],
   "source": [
    "# calculate AUC\n",
    "auc = roc_auc_score(testy, probs)\n",
    "print('AUC: %.3f' % auc)\n",
    "# calculate roc curve\n",
    "fpr, tpr, thresholds = roc_curve(testy, probs)\n",
    "# plot no skill\n",
    "pyplot.plot([0, 1], [0, 1], linestyle='--')\n",
    "pyplot.plot([0, 1], [0, 1], linestyle='--')\n",
    "# plot the roc curve for the model\n",
    "pyplot.plot(fpr, tpr, marker='.')\n",
    "# show the plot\n",
    "pyplot.show()"
   ]
  },
  {
   "cell_type": "code",
   "execution_count": null,
   "metadata": {
    "ExecuteTime": {
     "end_time": "2019-03-08T10:02:56.747940Z",
     "start_time": "2019-03-08T10:02:56.730493Z"
    },
    "hidden": true
   },
   "outputs": [],
   "source": [
    "pyplot.savefig('lol.png')"
   ]
  },
  {
   "cell_type": "code",
   "execution_count": null,
   "metadata": {
    "ExecuteTime": {
     "end_time": "2019-03-08T10:09:53.385157Z",
     "start_time": "2019-03-08T10:09:53.383301Z"
    },
    "hidden": true
   },
   "outputs": [],
   "source": [
    "pyplot.close('all')"
   ]
  },
  {
   "cell_type": "code",
   "execution_count": null,
   "metadata": {
    "hidden": true
   },
   "outputs": [],
   "source": []
  },
  {
   "cell_type": "code",
   "execution_count": null,
   "metadata": {
    "hidden": true
   },
   "outputs": [],
   "source": []
  },
  {
   "cell_type": "code",
   "execution_count": null,
   "metadata": {
    "ExecuteTime": {
     "end_time": "2019-03-08T15:51:37.862255Z",
     "start_time": "2019-03-08T15:51:37.842994Z"
    },
    "hidden": true
   },
   "outputs": [],
   "source": [
    "import apex"
   ]
  },
  {
   "cell_type": "code",
   "execution_count": null,
   "metadata": {
    "ExecuteTime": {
     "end_time": "2019-03-08T15:51:44.186094Z",
     "start_time": "2019-03-08T15:51:44.182599Z"
    },
    "hidden": true
   },
   "outputs": [],
   "source": [
    "apex.amp.?"
   ]
  },
  {
   "cell_type": "code",
   "execution_count": null,
   "metadata": {
    "ExecuteTime": {
     "end_time": "2019-03-12T10:48:32.155681Z",
     "start_time": "2019-03-12T10:48:31.857851Z"
    },
    "hidden": true
   },
   "outputs": [],
   "source": [
    "import pandas as pd\n",
    "df1 = pd.read_csv('weights/ensemble/11Mar_nasnetamobile_fold0_ckpt17.csv')\n",
    "df2 = pd.read_csv('weights/ensemble/9Mar_se_resnext50_32x4d_v3_fold0_1_2_allckpt17.csv')\n",
    "df3 = pd.read_csv('weights/ensemble/11Mar_nasnetamobile_v2_fold2_ckpt20.csv')\n",
    "df= df1.copy()\n",
    "df['label'] = (df1['label'] + df3['label'] + 3* df2['label'])/5"
   ]
  },
  {
   "cell_type": "code",
   "execution_count": null,
   "metadata": {
    "ExecuteTime": {
     "end_time": "2019-03-12T10:48:35.638945Z",
     "start_time": "2019-03-12T10:48:35.626742Z"
    },
    "hidden": true
   },
   "outputs": [],
   "source": [
    "df.head()"
   ]
  },
  {
   "cell_type": "code",
   "execution_count": null,
   "metadata": {
    "ExecuteTime": {
     "end_time": "2019-03-12T10:49:13.181741Z",
     "start_time": "2019-03-12T10:49:13.068790Z"
    },
    "hidden": true
   },
   "outputs": [],
   "source": [
    "df.to_csv('weights/ensemble/resnextfold012ckpt17+nasnetmobileckpt17+nasnetamobilefold2_ckpt20.csv', index=False)"
   ]
  },
  {
   "cell_type": "markdown",
   "metadata": {},
   "source": [
    "### TEST"
   ]
  },
  {
   "cell_type": "code",
   "execution_count": 5,
   "metadata": {
    "ExecuteTime": {
     "end_time": "2019-08-04T07:02:34.751422Z",
     "start_time": "2019-08-04T07:02:34.726130Z"
    }
   },
   "outputs": [
    {
     "data": {
      "text/plain": [
       "((1024, 1024, 1), (0, 2))"
      ]
     },
     "execution_count": 5,
     "metadata": {},
     "output_type": "execute_result"
    }
   ],
   "source": [
    "img = np.load('../data/npy_train/1.2.276.0.7230010.3.1.4.8323329.10137.1517875222.275005.npy')\n",
    "mask = np.load('../data/npy_masks/1.2.276.0.7230010.3.1.4.8323329.10137.1517875222.275005.npy')\n",
    "img.shape, mask.shape"
   ]
  },
  {
   "cell_type": "code",
   "execution_count": null,
   "metadata": {},
   "outputs": [],
   "source": []
  }
 ],
 "metadata": {
  "kernelspec": {
   "display_name": "ML",
   "language": "python",
   "name": "ml"
  },
  "language_info": {
   "codemirror_mode": {
    "name": "ipython",
    "version": 3
   },
   "file_extension": ".py",
   "mimetype": "text/x-python",
   "name": "python",
   "nbconvert_exporter": "python",
   "pygments_lexer": "ipython3",
   "version": "3.7.3"
  }
 },
 "nbformat": 4,
 "nbformat_minor": 2
}
