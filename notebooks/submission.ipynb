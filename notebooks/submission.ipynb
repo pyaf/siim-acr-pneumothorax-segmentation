{
 "cells": [
  {
   "cell_type": "code",
   "execution_count": 1,
   "metadata": {
    "ExecuteTime": {
     "end_time": "2019-09-04T13:47:54.397712Z",
     "start_time": "2019-09-04T13:47:35.096936Z"
    }
   },
   "outputs": [],
   "source": [
    "# import torch\n",
    "import pandas as pd\n",
    "import numpy as np\n",
    "import pycm\n",
    "# from tqdm import tqdm_notebook as tqdm\n",
    "# from tqdm import tqdm\n",
    "from matplotlib import pyplot as plt\n",
    "\n",
    "%matplotlib inline"
   ]
  },
  {
   "cell_type": "code",
   "execution_count": 2,
   "metadata": {
    "ExecuteTime": {
     "end_time": "2019-09-04T13:47:56.878088Z",
     "start_time": "2019-09-04T13:47:56.657285Z"
    }
   },
   "outputs": [
    {
     "name": "stdout",
     "output_type": "stream",
     "text": [
      "RAM usage: 0.09289169311523438 GB\n"
     ]
    }
   ],
   "source": [
    "import psutil\n",
    "import os\n",
    "def show_ram_usage():\n",
    "    py = psutil.Process(os.getpid())\n",
    "    print('RAM usage: {} GB'.format(py.memory_info()[0]/2. ** 30))\n",
    "\n",
    "show_ram_usage()"
   ]
  },
  {
   "cell_type": "code",
   "execution_count": 3,
   "metadata": {
    "ExecuteTime": {
     "end_time": "2019-09-04T13:48:00.746198Z",
     "start_time": "2019-09-04T13:48:00.736602Z"
    }
   },
   "outputs": [],
   "source": [
    "def run_length_encode(component):\n",
    "    component = component.T.flatten()\n",
    "    start = np.where(component[1:] > component[:-1])[0]+1\n",
    "    end = np.where(component[:-1] > component[1:])[0]+1\n",
    "    length = end-start\n",
    "\n",
    "    rle = []\n",
    "    for i in range(len(length)):\n",
    "        if i == 0:\n",
    "            rle.extend([start[0], length[0]])\n",
    "        else:\n",
    "            rle.extend([start[i]-end[i-1], length[i]])\n",
    "\n",
    "    rle = ' '.join([str(r) for r in rle])\n",
    "    return rle\n",
    "\n",
    "def run_length_decode(rle, height=1024, width=1024, fill_value=1):\n",
    "\n",
    "    component = np.zeros((height, width), np.float32)\n",
    "    component = component.reshape(-1)\n",
    "    rle = np.array([int(s) for s in rle.strip().split(' ')])\n",
    "    rle = rle.reshape(-1, 2)\n",
    "\n",
    "    start = 0\n",
    "    for index, length in rle:\n",
    "        start = start+index\n",
    "        end = start+length\n",
    "        component[start: end] = fill_value\n",
    "        start = end\n",
    "\n",
    "    component = component.reshape(width, height).T\n",
    "    return component\n",
    "\n"
   ]
  },
  {
   "cell_type": "code",
   "execution_count": 4,
   "metadata": {
    "ExecuteTime": {
     "end_time": "2019-09-04T13:48:08.614139Z",
     "start_time": "2019-09-04T13:48:08.608718Z"
    }
   },
   "outputs": [],
   "source": [
    "def compute_dice(im1, im2, empty_score=1.0):\n",
    "    \"\"\"\n",
    "    Computes the Dice coefficient, a measure of set similarity.\n",
    "    Parameters\n",
    "    ----------\n",
    "    im1 : array-like, bool\n",
    "        Any array of arbitrary size. If not boolean, will be converted.\n",
    "    im2 : array-like, bool\n",
    "        Any other array of identical size. If not boolean, will be converted.\n",
    "    Returns\n",
    "    -------\n",
    "    dice : float\n",
    "        Dice coefficient as a float on range [0,1].\n",
    "        Maximum similarity = 1\n",
    "        No similarity = 0\n",
    "        Both are empty (sum eq to zero) = empty_score\n",
    "\n",
    "    Notes\n",
    "    -----\n",
    "    The order of inputs for `dice` is irrelevant. The result will be\n",
    "    identical if `im1` and `im2` are switched.\n",
    "    \"\"\"\n",
    "    im1 = np.asarray(im1).astype(np.bool)\n",
    "    im2 = np.asarray(im2).astype(np.bool)\n",
    "\n",
    "    if im1.shape != im2.shape:\n",
    "        raise ValueError(\"Shape mismatch: im1 and im2 must have the same shape.\")\n",
    "\n",
    "    im_sum = im1.sum() + im2.sum()\n",
    "    if im_sum == 0:\n",
    "        return empty_score\n",
    "\n",
    "    # Compute Dice coefficient\n",
    "    intersection = np.logical_and(im1, im2)\n",
    "\n",
    "    return 2. * intersection.sum() / im_sum\n",
    "\n"
   ]
  },
  {
   "cell_type": "markdown",
   "metadata": {},
   "source": [
    "### Ensemble"
   ]
  },
  {
   "cell_type": "code",
   "execution_count": 6,
   "metadata": {
    "ExecuteTime": {
     "end_time": "2019-09-04T13:46:18.607934Z",
     "start_time": "2019-09-04T13:46:17.939722Z"
    }
   },
   "outputs": [],
   "source": [
    "# from sklearn.model_selection import train_test_split, StratifiedKFold\n",
    "# df = pd.read_csv('stage_2_train.csv')\n",
    "# df = df.drop_duplicates('ImageId')\n",
    "# df = df.sample(frac=1, random_state=69)\n",
    "# fold = 1\n",
    "# total_folds = 5\n",
    "# kfold = StratifiedKFold(total_folds, shuffle=True, random_state=69)\n",
    "# train_idx, val_idx = list(kfold.split(df[\"ImageId\"], df[\"has_mask\"]))[fold]\n",
    "# train_df, val_df = df.iloc[train_idx], df.iloc[val_idx]\n",
    "# df = val_df.copy()\n",
    "\n",
    "\n",
    "# res34 = pd.read_csv('stage2_train_preds/res34_train_model.csv')\n",
    "# dn121 = pd.read_csv('stage2_train_preds/unetdn121_train_ckpt30.csv')\n",
    "# inres = pd.read_csv('stage2_train_preds/inresv2_train_ckpt30.csv')\n",
    "\n",
    "# res34 = res34.loc[df.index]\n",
    "# dn121 = dn121.loc[df.index]\n",
    "# inres = inres.loc[df.index]\n",
    "# df.head()"
   ]
  },
  {
   "cell_type": "code",
   "execution_count": 5,
   "metadata": {
    "ExecuteTime": {
     "end_time": "2019-09-04T13:48:33.222501Z",
     "start_time": "2019-09-04T13:48:33.118224Z"
    }
   },
   "outputs": [],
   "source": [
    "res34 = pd.read_csv('stage2_test_preds/res34_test_model.csv')\n",
    "dn121 = pd.read_csv('stage2_test_preds/unetdn121_test_ckpt30.csv')\n",
    "inres = pd.read_csv('stage2_test_preds/inresv2_test_ckpt30.csv')"
   ]
  },
  {
   "cell_type": "code",
   "execution_count": 6,
   "metadata": {
    "ExecuteTime": {
     "end_time": "2019-09-04T13:48:43.228849Z",
     "start_time": "2019-09-04T13:48:35.457189Z"
    },
    "scrolled": true
   },
   "outputs": [
    {
     "name": "stdout",
     "output_type": "stream",
     "text": [
      "RAM usage: 12.974700927734375 GB\n"
     ]
    }
   ],
   "source": [
    "def get_mask(rle):\n",
    "    if rle!='-1':\n",
    "        mask = run_length_decode(rle)\n",
    "        return mask\n",
    "    else:\n",
    "        return np.zeros([1024, 1024], dtype='uint8')\n",
    "\n",
    "\n",
    "res34_masks = []\n",
    "dn121_masks = []\n",
    "inres_masks = []\n",
    "\n",
    "for i in range(len(res34)):\n",
    "    rs = res34.iloc[i]['EncodedPixels']\n",
    "    dn = dn121.iloc[i]['EncodedPixels']\n",
    "    ir = inres.iloc[i]['EncodedPixels']    \n",
    "    res34_masks.append(get_mask(rs))\n",
    "    dn121_masks.append(get_mask(dn))\n",
    "    inres_masks.append(get_mask(ir))\n",
    "    \n",
    "show_ram_usage()\n",
    "\n",
    "# res34_masks = np.array(res34_masks)\n",
    "# dn121_masks = np.array(dn121_masks)\n",
    "# inres_masks = np.array(inres_masks)"
   ]
  },
  {
   "cell_type": "code",
   "execution_count": 10,
   "metadata": {
    "ExecuteTime": {
     "end_time": "2019-09-04T13:46:28.594128Z",
     "start_time": "2019-09-04T13:46:26.248878Z"
    }
   },
   "outputs": [
    {
     "name": "stdout",
     "output_type": "stream",
     "text": [
      "RAM usage: 13.296497344970703 GB\n"
     ]
    }
   ],
   "source": [
    "# gt_masks = []\n",
    "# for i in range(len(res34)):\n",
    "#     gt = df.iloc[i]['EncodedPixels']\n",
    "#     gt_masks.append(get_mask(gt))\n",
    "# show_ram_usage()\n"
   ]
  },
  {
   "cell_type": "code",
   "execution_count": 17,
   "metadata": {
    "ExecuteTime": {
     "end_time": "2019-09-04T12:15:32.908515Z",
     "start_time": "2019-09-04T12:15:14.533438Z"
    }
   },
   "outputs": [
    {
     "data": {
      "text/plain": [
       "0.7385570897539164"
      ]
     },
     "execution_count": 17,
     "metadata": {},
     "output_type": "execute_result"
    }
   ],
   "source": [
    "compute_dice(res34_masks, dn121_masks) # all train: 0.7805, val: 0.7385"
   ]
  },
  {
   "cell_type": "code",
   "execution_count": 18,
   "metadata": {
    "ExecuteTime": {
     "end_time": "2019-09-04T12:15:51.166957Z",
     "start_time": "2019-09-04T12:15:32.910035Z"
    }
   },
   "outputs": [
    {
     "data": {
      "text/plain": [
       "0.7442366452071161"
      ]
     },
     "execution_count": 18,
     "metadata": {},
     "output_type": "execute_result"
    }
   ],
   "source": [
    "compute_dice(res34_masks, inres_masks) # all train: 0.78299, val: 0.744"
   ]
  },
  {
   "cell_type": "code",
   "execution_count": 20,
   "metadata": {
    "ExecuteTime": {
     "end_time": "2019-09-04T12:16:56.062662Z",
     "start_time": "2019-09-04T12:16:37.624358Z"
    }
   },
   "outputs": [
    {
     "data": {
      "text/plain": [
       "0.7715407769952831"
      ]
     },
     "execution_count": 20,
     "metadata": {},
     "output_type": "execute_result"
    }
   ],
   "source": [
    "compute_dice(inres_masks, dn121_masks) # all train: 0.80, val:0.77,  test: 0.77"
   ]
  },
  {
   "cell_type": "markdown",
   "metadata": {},
   "source": [
    "As the stats of test matches with the val, we gotta select what's the best for val"
   ]
  },
  {
   "cell_type": "code",
   "execution_count": 21,
   "metadata": {
    "ExecuteTime": {
     "end_time": "2019-09-04T12:19:14.007945Z",
     "start_time": "2019-09-04T12:18:18.626635Z"
    }
   },
   "outputs": [
    {
     "name": "stdout",
     "output_type": "stream",
     "text": [
      "0.5268914118979333\n",
      "0.5335597924444545\n",
      "0.5346357042829183\n"
     ]
    }
   ],
   "source": [
    "print(compute_dice(gt_masks, res34_masks))\n",
    "print(compute_dice(gt_masks, dn121_masks))\n",
    "print(compute_dice(gt_masks, inres_masks))"
   ]
  },
  {
   "cell_type": "code",
   "execution_count": 9,
   "metadata": {
    "ExecuteTime": {
     "end_time": "2019-09-04T13:35:30.648066Z",
     "start_time": "2019-09-04T13:35:13.844521Z"
    }
   },
   "outputs": [],
   "source": [
    "inter_masks = []\n",
    "union_masks = []\n",
    "for i in range(len(res34_masks)):\n",
    "#     intersection = np.logical_and(res34_masks[i], dn121_masks[i], inres_masks[i])\n",
    "    intersection = res34_masks[i] * dn121_masks[i] * inres_masks[i]\n",
    "    union = ((res34_masks[i] + dn121_masks[i] + inres_masks[i]) > 0).astype('uint8')\n",
    "#     union = np.logical_or(res34_masks[i], dn121_masks[i], inres_masks[i])\n",
    "    inter_masks.append(intersection)\n",
    "    union_masks.append(union)\n",
    "#np.logical_and take only 2 args"
   ]
  },
  {
   "cell_type": "code",
   "execution_count": 63,
   "metadata": {
    "ExecuteTime": {
     "end_time": "2019-09-04T13:33:55.322447Z",
     "start_time": "2019-09-04T13:33:55.317780Z"
    }
   },
   "outputs": [],
   "source": [
    "# i = 0\n",
    "# plt.imshow(res34_masks[i]); plt.show()\n",
    "# plt.imshow(dn121_masks[i]); plt.show()\n",
    "# plt.imshow(inres_masks[i]); plt.show()\n",
    "# plt.imshow(inter_masks[i]); plt.show()\n",
    "# plt.imshow(union_masks[i]); plt.show()"
   ]
  },
  {
   "cell_type": "code",
   "execution_count": 10,
   "metadata": {
    "ExecuteTime": {
     "end_time": "2019-09-04T13:35:30.669053Z",
     "start_time": "2019-09-04T13:35:30.656965Z"
    }
   },
   "outputs": [
    {
     "name": "stdout",
     "output_type": "stream",
     "text": [
      "RAM usage: 21.86492919921875 GB\n"
     ]
    }
   ],
   "source": [
    "show_ram_usage()"
   ]
  },
  {
   "cell_type": "code",
   "execution_count": 47,
   "metadata": {
    "ExecuteTime": {
     "end_time": "2019-09-04T12:38:43.204740Z",
     "start_time": "2019-09-04T12:38:06.080405Z"
    }
   },
   "outputs": [
    {
     "name": "stdout",
     "output_type": "stream",
     "text": [
      "0.5150624553729506\n",
      "0.5421760361790672\n"
     ]
    }
   ],
   "source": [
    "print(compute_dice(gt_masks, inter_masks)) # 0.515 val dice\n",
    "print(compute_dice(gt_masks, union_masks)) # 0.542 val dice"
   ]
  },
  {
   "cell_type": "markdown",
   "metadata": {},
   "source": [
    "Union scores better than intersection "
   ]
  },
  {
   "cell_type": "code",
   "execution_count": 7,
   "metadata": {
    "ExecuteTime": {
     "end_time": "2019-09-04T13:49:17.901456Z",
     "start_time": "2019-09-04T13:49:05.368075Z"
    }
   },
   "outputs": [],
   "source": [
    "mv_masks = [] # pixel level majority vote i.e, if atleast two masks say a pixel is 1 then it is 1, else 0\n",
    "for i in range(len(res34_masks)):\n",
    "#     intersection = np.logical_and(res34_masks[i], dn121_masks[i], inres_masks[i])\n",
    "#     intersection = res34_masks[i] * dn121_masks[i] * inres_masks[i]\n",
    "#     union = ((res34_masks[i] + dn121_masks[i] + inres_masks[i]) > 0).astype('uint8')\n",
    "#     union = np.logical_or(res34_masks[i], dn121_masks[i], inres_masks[i])\n",
    "    mv = ((res34_masks[i] + dn121_masks[i] + inres_masks[i]) >= 2).astype('uint8')\n",
    "    mv_masks.append(mv)\n",
    "#np.logical_and take only 2 args"
   ]
  },
  {
   "cell_type": "code",
   "execution_count": 12,
   "metadata": {
    "ExecuteTime": {
     "end_time": "2019-09-04T13:47:06.367763Z",
     "start_time": "2019-09-04T13:46:48.353251Z"
    }
   },
   "outputs": [
    {
     "data": {
      "text/plain": [
       "0.5492432168229313"
      ]
     },
     "execution_count": 12,
     "metadata": {},
     "output_type": "execute_result"
    }
   ],
   "source": [
    "compute_dice(gt_masks, mv_masks) #DAYUMMMMMM 0.5492 val dice"
   ]
  },
  {
   "cell_type": "code",
   "execution_count": 11,
   "metadata": {
    "ExecuteTime": {
     "end_time": "2019-09-04T13:36:24.587670Z",
     "start_time": "2019-09-04T13:35:42.018987Z"
    }
   },
   "outputs": [],
   "source": [
    "# union_rle = []\n",
    "# for mask in union_masks:\n",
    "#     rle = '-1'\n",
    "#     if len(np.unique(mask))>1:\n",
    "#         rle = run_length_encode(mask)\n",
    "#     union_rle.append(rle)\n",
    "    \n",
    "# inter_rle = []\n",
    "# for mask in inter_masks:\n",
    "#     rle = '-1'\n",
    "#     if len(np.unique(mask))>1:\n",
    "#         rle = run_length_encode(mask)\n",
    "#     inter_rle.append(rle)"
   ]
  },
  {
   "cell_type": "code",
   "execution_count": 8,
   "metadata": {
    "ExecuteTime": {
     "end_time": "2019-09-04T13:50:07.689829Z",
     "start_time": "2019-09-04T13:49:30.104752Z"
    }
   },
   "outputs": [],
   "source": [
    "mv_rle = []\n",
    "for mask in mv_masks:\n",
    "    rle = '-1'\n",
    "    if len(np.unique(mask))>1:\n",
    "        rle = run_length_encode(mask)\n",
    "    mv_rle.append(rle)"
   ]
  },
  {
   "cell_type": "code",
   "execution_count": 11,
   "metadata": {
    "ExecuteTime": {
     "end_time": "2019-09-04T13:50:25.908923Z",
     "start_time": "2019-09-04T13:50:25.902418Z"
    }
   },
   "outputs": [],
   "source": [
    "sub = pd.DataFrame()\n",
    "sub['ImageId'] = res34['ImageId']\n",
    "sub['EncodedPixels'] = mv_rle"
   ]
  },
  {
   "cell_type": "code",
   "execution_count": 12,
   "metadata": {
    "ExecuteTime": {
     "end_time": "2019-09-04T13:50:26.559774Z",
     "start_time": "2019-09-04T13:50:26.551207Z"
    }
   },
   "outputs": [
    {
     "data": {
      "text/html": [
       "<div>\n",
       "<style scoped>\n",
       "    .dataframe tbody tr th:only-of-type {\n",
       "        vertical-align: middle;\n",
       "    }\n",
       "\n",
       "    .dataframe tbody tr th {\n",
       "        vertical-align: top;\n",
       "    }\n",
       "\n",
       "    .dataframe thead th {\n",
       "        text-align: right;\n",
       "    }\n",
       "</style>\n",
       "<table border=\"1\" class=\"dataframe\">\n",
       "  <thead>\n",
       "    <tr style=\"text-align: right;\">\n",
       "      <th></th>\n",
       "      <th>ImageId</th>\n",
       "      <th>EncodedPixels</th>\n",
       "    </tr>\n",
       "  </thead>\n",
       "  <tbody>\n",
       "    <tr>\n",
       "      <td>0</td>\n",
       "      <td>ID_0011fe81e</td>\n",
       "      <td>-1</td>\n",
       "    </tr>\n",
       "    <tr>\n",
       "      <td>1</td>\n",
       "      <td>ID_9ca06e9b9</td>\n",
       "      <td>-1</td>\n",
       "    </tr>\n",
       "    <tr>\n",
       "      <td>2</td>\n",
       "      <td>ID_6f00d6ce6</td>\n",
       "      <td>-1</td>\n",
       "    </tr>\n",
       "    <tr>\n",
       "      <td>3</td>\n",
       "      <td>ID_9258110b0</td>\n",
       "      <td>-1</td>\n",
       "    </tr>\n",
       "    <tr>\n",
       "      <td>4</td>\n",
       "      <td>ID_fa01c9546</td>\n",
       "      <td>297260 10 39 13 959 13 34 25 949 17 29 33 943 ...</td>\n",
       "    </tr>\n",
       "  </tbody>\n",
       "</table>\n",
       "</div>"
      ],
      "text/plain": [
       "        ImageId                                      EncodedPixels\n",
       "0  ID_0011fe81e                                                 -1\n",
       "1  ID_9ca06e9b9                                                 -1\n",
       "2  ID_6f00d6ce6                                                 -1\n",
       "3  ID_9258110b0                                                 -1\n",
       "4  ID_fa01c9546  297260 10 39 13 959 13 34 25 949 17 29 33 943 ..."
      ]
     },
     "execution_count": 12,
     "metadata": {},
     "output_type": "execute_result"
    }
   ],
   "source": [
    "sub.head()"
   ]
  },
  {
   "cell_type": "code",
   "execution_count": 13,
   "metadata": {
    "ExecuteTime": {
     "end_time": "2019-09-04T13:50:35.392256Z",
     "start_time": "2019-09-04T13:50:35.230408Z"
    }
   },
   "outputs": [],
   "source": [
    "# sub.to_csv('res34_dn121_inres_mv_ensemble.csv', index=False)"
   ]
  },
  {
   "cell_type": "code",
   "execution_count": 49,
   "metadata": {
    "ExecuteTime": {
     "end_time": "2019-09-04T12:47:57.701947Z",
     "start_time": "2019-09-04T12:47:57.690730Z"
    }
   },
   "outputs": [],
   "source": [
    "df = pd.DataFrame()\n",
    "df['ImageId'] = res34['ImageId']\n",
    "df['res34'] = res34['EncodedPixels']\n",
    "df['dn121'] = dn121['EncodedPixels']\n",
    "df['inres'] = inres['EncodedPixels']\n",
    "# df['gt'] = pd.read_csv('stage_2_train.csv')['EncodedPixels']\n",
    "df['gt'] = val_df['EncodedPixels']"
   ]
  },
  {
   "cell_type": "code",
   "execution_count": 50,
   "metadata": {
    "ExecuteTime": {
     "end_time": "2019-09-04T12:47:59.603073Z",
     "start_time": "2019-09-04T12:47:59.592963Z"
    }
   },
   "outputs": [
    {
     "data": {
      "text/html": [
       "<div>\n",
       "<style scoped>\n",
       "    .dataframe tbody tr th:only-of-type {\n",
       "        vertical-align: middle;\n",
       "    }\n",
       "\n",
       "    .dataframe tbody tr th {\n",
       "        vertical-align: top;\n",
       "    }\n",
       "\n",
       "    .dataframe thead th {\n",
       "        text-align: right;\n",
       "    }\n",
       "</style>\n",
       "<table border=\"1\" class=\"dataframe\">\n",
       "  <thead>\n",
       "    <tr style=\"text-align: right;\">\n",
       "      <th></th>\n",
       "      <th>ImageId</th>\n",
       "      <th>res34</th>\n",
       "      <th>dn121</th>\n",
       "      <th>inres</th>\n",
       "      <th>gt</th>\n",
       "    </tr>\n",
       "  </thead>\n",
       "  <tbody>\n",
       "    <tr>\n",
       "      <td>1477</td>\n",
       "      <td>1.2.276.0.7230010.3.1.4.8323329.11619.15178752...</td>\n",
       "      <td>-1</td>\n",
       "      <td>232645 4 1018 7 1016 8 1016 8 1015 8 1015 9 10...</td>\n",
       "      <td>230597 1 1020 4 1020 4 1019 4 1020 4 1018 6 10...</td>\n",
       "      <td>-1</td>\n",
       "    </tr>\n",
       "    <tr>\n",
       "      <td>875</td>\n",
       "      <td>1.2.276.0.7230010.3.1.4.8323329.11800.15178752...</td>\n",
       "      <td>-1</td>\n",
       "      <td>-1</td>\n",
       "      <td>-1</td>\n",
       "      <td>-1</td>\n",
       "    </tr>\n",
       "    <tr>\n",
       "      <td>3713</td>\n",
       "      <td>1.2.276.0.7230010.3.1.4.8323329.3061.151787517...</td>\n",
       "      <td>-1</td>\n",
       "      <td>-1</td>\n",
       "      <td>-1</td>\n",
       "      <td>-1</td>\n",
       "    </tr>\n",
       "    <tr>\n",
       "      <td>11897</td>\n",
       "      <td>1.2.276.0.7230010.3.1.4.8323329.3189.151787517...</td>\n",
       "      <td>-1</td>\n",
       "      <td>-1</td>\n",
       "      <td>-1</td>\n",
       "      <td>-1</td>\n",
       "    </tr>\n",
       "    <tr>\n",
       "      <td>5463</td>\n",
       "      <td>1.2.276.0.7230010.3.1.4.8323329.4362.151787518...</td>\n",
       "      <td>590002 10 1012 13 1009 16 1006 18 1004 20 1003...</td>\n",
       "      <td>-1</td>\n",
       "      <td>578745 2 1020 5 1018 6 1014 12 1006 19 1005 19...</td>\n",
       "      <td>593079 1 1020 5 1016 9 1014 11 1012 13 1011 14...</td>\n",
       "    </tr>\n",
       "  </tbody>\n",
       "</table>\n",
       "</div>"
      ],
      "text/plain": [
       "                                                 ImageId  \\\n",
       "1477   1.2.276.0.7230010.3.1.4.8323329.11619.15178752...   \n",
       "875    1.2.276.0.7230010.3.1.4.8323329.11800.15178752...   \n",
       "3713   1.2.276.0.7230010.3.1.4.8323329.3061.151787517...   \n",
       "11897  1.2.276.0.7230010.3.1.4.8323329.3189.151787517...   \n",
       "5463   1.2.276.0.7230010.3.1.4.8323329.4362.151787518...   \n",
       "\n",
       "                                                   res34  \\\n",
       "1477                                                  -1   \n",
       "875                                                   -1   \n",
       "3713                                                  -1   \n",
       "11897                                                 -1   \n",
       "5463   590002 10 1012 13 1009 16 1006 18 1004 20 1003...   \n",
       "\n",
       "                                                   dn121  \\\n",
       "1477   232645 4 1018 7 1016 8 1016 8 1015 8 1015 9 10...   \n",
       "875                                                   -1   \n",
       "3713                                                  -1   \n",
       "11897                                                 -1   \n",
       "5463                                                  -1   \n",
       "\n",
       "                                                   inres  \\\n",
       "1477   230597 1 1020 4 1020 4 1019 4 1020 4 1018 6 10...   \n",
       "875                                                   -1   \n",
       "3713                                                  -1   \n",
       "11897                                                 -1   \n",
       "5463   578745 2 1020 5 1018 6 1014 12 1006 19 1005 19...   \n",
       "\n",
       "                                                      gt  \n",
       "1477                                                  -1  \n",
       "875                                                   -1  \n",
       "3713                                                  -1  \n",
       "11897                                                 -1  \n",
       "5463   593079 1 1020 5 1016 9 1014 11 1012 13 1011 14...  "
      ]
     },
     "execution_count": 50,
     "metadata": {},
     "output_type": "execute_result"
    }
   ],
   "source": [
    "df.head()"
   ]
  },
  {
   "cell_type": "code",
   "execution_count": 51,
   "metadata": {
    "ExecuteTime": {
     "end_time": "2019-09-04T12:48:01.641596Z",
     "start_time": "2019-09-04T12:48:01.008684Z"
    }
   },
   "outputs": [],
   "source": [
    "TNs = df.query('res34 == \"-1\" and dn121 == \"-1\" and inres == \"-1\"')\n",
    "TPs = df.query('res34 != \"-1\" and dn121 != \"-1\" and inres != \"-1\"')\n",
    "Ts = pd.concat([TPs, TNs])\n",
    "diff = df[df.apply(lambda x: x[0] not in Ts['ImageId'].tolist(), axis=1)]"
   ]
  },
  {
   "cell_type": "code",
   "execution_count": 52,
   "metadata": {
    "ExecuteTime": {
     "end_time": "2019-09-04T12:48:01.821486Z",
     "start_time": "2019-09-04T12:48:01.818076Z"
    }
   },
   "outputs": [
    {
     "data": {
      "text/plain": [
       "((2410, 5), (1851, 5), (351, 5), (2202, 5), (208, 5))"
      ]
     },
     "execution_count": 52,
     "metadata": {},
     "output_type": "execute_result"
    }
   ],
   "source": [
    "df.shape, TNs.shape, TPs.shape, Ts.shape, diff.shape"
   ]
  },
  {
   "cell_type": "markdown",
   "metadata": {},
   "source": [
    "### Mask visualization"
   ]
  },
  {
   "cell_type": "code",
   "execution_count": 53,
   "metadata": {
    "ExecuteTime": {
     "end_time": "2019-09-04T12:48:08.520904Z",
     "start_time": "2019-09-04T12:48:08.512907Z"
    }
   },
   "outputs": [
    {
     "data": {
      "text/html": [
       "<div>\n",
       "<style scoped>\n",
       "    .dataframe tbody tr th:only-of-type {\n",
       "        vertical-align: middle;\n",
       "    }\n",
       "\n",
       "    .dataframe tbody tr th {\n",
       "        vertical-align: top;\n",
       "    }\n",
       "\n",
       "    .dataframe thead th {\n",
       "        text-align: right;\n",
       "    }\n",
       "</style>\n",
       "<table border=\"1\" class=\"dataframe\">\n",
       "  <thead>\n",
       "    <tr style=\"text-align: right;\">\n",
       "      <th></th>\n",
       "      <th>ImageId</th>\n",
       "      <th>res34</th>\n",
       "      <th>dn121</th>\n",
       "      <th>inres</th>\n",
       "      <th>gt</th>\n",
       "    </tr>\n",
       "  </thead>\n",
       "  <tbody>\n",
       "    <tr>\n",
       "      <td>1477</td>\n",
       "      <td>1.2.276.0.7230010.3.1.4.8323329.11619.15178752...</td>\n",
       "      <td>-1</td>\n",
       "      <td>232645 4 1018 7 1016 8 1016 8 1015 8 1015 9 10...</td>\n",
       "      <td>230597 1 1020 4 1020 4 1019 4 1020 4 1018 6 10...</td>\n",
       "      <td>-1</td>\n",
       "    </tr>\n",
       "    <tr>\n",
       "      <td>5463</td>\n",
       "      <td>1.2.276.0.7230010.3.1.4.8323329.4362.151787518...</td>\n",
       "      <td>590002 10 1012 13 1009 16 1006 18 1004 20 1003...</td>\n",
       "      <td>-1</td>\n",
       "      <td>578745 2 1020 5 1018 6 1014 12 1006 19 1005 19...</td>\n",
       "      <td>593079 1 1020 5 1016 9 1014 11 1012 13 1011 14...</td>\n",
       "    </tr>\n",
       "    <tr>\n",
       "      <td>11575</td>\n",
       "      <td>1.2.276.0.7230010.3.1.4.8323329.11474.15178752...</td>\n",
       "      <td>-1</td>\n",
       "      <td>495715 7 1015 11 1011 14 1009 15 1007 18 1005 ...</td>\n",
       "      <td>-1</td>\n",
       "      <td>-1</td>\n",
       "    </tr>\n",
       "    <tr>\n",
       "      <td>12950</td>\n",
       "      <td>1.2.276.0.7230010.3.1.4.8323329.11296.15178752...</td>\n",
       "      <td>399496 4 1017 8 1014 11 1011 14 1009 15 1009 1...</td>\n",
       "      <td>-1</td>\n",
       "      <td>-1</td>\n",
       "      <td>426110 2 1021 3 1020 4 1019 4 1019 5 1018 5 10...</td>\n",
       "    </tr>\n",
       "    <tr>\n",
       "      <td>4277</td>\n",
       "      <td>1.2.276.0.7230010.3.1.4.8323329.3999.151787518...</td>\n",
       "      <td>-1</td>\n",
       "      <td>556187 4 1016 9 1014 10 1012 13 1009 15 1008 1...</td>\n",
       "      <td>-1</td>\n",
       "      <td>556182 17 1005 24 999 27 996 28 995 29 994 30 ...</td>\n",
       "    </tr>\n",
       "  </tbody>\n",
       "</table>\n",
       "</div>"
      ],
      "text/plain": [
       "                                                 ImageId  \\\n",
       "1477   1.2.276.0.7230010.3.1.4.8323329.11619.15178752...   \n",
       "5463   1.2.276.0.7230010.3.1.4.8323329.4362.151787518...   \n",
       "11575  1.2.276.0.7230010.3.1.4.8323329.11474.15178752...   \n",
       "12950  1.2.276.0.7230010.3.1.4.8323329.11296.15178752...   \n",
       "4277   1.2.276.0.7230010.3.1.4.8323329.3999.151787518...   \n",
       "\n",
       "                                                   res34  \\\n",
       "1477                                                  -1   \n",
       "5463   590002 10 1012 13 1009 16 1006 18 1004 20 1003...   \n",
       "11575                                                 -1   \n",
       "12950  399496 4 1017 8 1014 11 1011 14 1009 15 1009 1...   \n",
       "4277                                                  -1   \n",
       "\n",
       "                                                   dn121  \\\n",
       "1477   232645 4 1018 7 1016 8 1016 8 1015 8 1015 9 10...   \n",
       "5463                                                  -1   \n",
       "11575  495715 7 1015 11 1011 14 1009 15 1007 18 1005 ...   \n",
       "12950                                                 -1   \n",
       "4277   556187 4 1016 9 1014 10 1012 13 1009 15 1008 1...   \n",
       "\n",
       "                                                   inres  \\\n",
       "1477   230597 1 1020 4 1020 4 1019 4 1020 4 1018 6 10...   \n",
       "5463   578745 2 1020 5 1018 6 1014 12 1006 19 1005 19...   \n",
       "11575                                                 -1   \n",
       "12950                                                 -1   \n",
       "4277                                                  -1   \n",
       "\n",
       "                                                      gt  \n",
       "1477                                                  -1  \n",
       "5463   593079 1 1020 5 1016 9 1014 11 1012 13 1011 14...  \n",
       "11575                                                 -1  \n",
       "12950  426110 2 1021 3 1020 4 1019 4 1019 5 1018 5 10...  \n",
       "4277   556182 17 1005 24 999 27 996 28 995 29 994 30 ...  "
      ]
     },
     "execution_count": 53,
     "metadata": {},
     "output_type": "execute_result"
    }
   ],
   "source": [
    "diff.head()"
   ]
  },
  {
   "cell_type": "code",
   "execution_count": 25,
   "metadata": {
    "ExecuteTime": {
     "end_time": "2019-09-04T12:02:20.088328Z",
     "start_time": "2019-09-04T12:02:11.287069Z"
    }
   },
   "outputs": [
    {
     "name": "stdout",
     "output_type": "stream",
     "text": [
      "RAM usage: 66.44263076782227 GB\n"
     ]
    }
   ],
   "source": []
  },
  {
   "cell_type": "code",
   "execution_count": 27,
   "metadata": {
    "ExecuteTime": {
     "end_time": "2019-09-04T12:04:35.470356Z",
     "start_time": "2019-09-04T12:04:04.763805Z"
    }
   },
   "outputs": [
    {
     "ename": "KeyboardInterrupt",
     "evalue": "",
     "output_type": "error",
     "traceback": [
      "\u001b[0;31m---------------------------------------------------------------------------\u001b[0m",
      "\u001b[0;31mKeyboardInterrupt\u001b[0m                         Traceback (most recent call last)",
      "\u001b[0;32m<ipython-input-27-d68ea53222ae>\u001b[0m in \u001b[0;36m<module>\u001b[0;34m\u001b[0m\n\u001b[0;32m----> 1\u001b[0;31m \u001b[0mgt_masks\u001b[0m \u001b[0;34m=\u001b[0m \u001b[0mnp\u001b[0m\u001b[0;34m.\u001b[0m\u001b[0marray\u001b[0m\u001b[0;34m(\u001b[0m\u001b[0mgt_masks\u001b[0m\u001b[0;34m)\u001b[0m\u001b[0;34m\u001b[0m\u001b[0;34m\u001b[0m\u001b[0m\n\u001b[0m\u001b[1;32m      2\u001b[0m \u001b[0mres34_masks\u001b[0m \u001b[0;34m=\u001b[0m \u001b[0mnp\u001b[0m\u001b[0;34m.\u001b[0m\u001b[0marray\u001b[0m\u001b[0;34m(\u001b[0m\u001b[0mres34_masks\u001b[0m\u001b[0;34m)\u001b[0m\u001b[0;34m\u001b[0m\u001b[0;34m\u001b[0m\u001b[0m\n\u001b[1;32m      3\u001b[0m \u001b[0mdn121_masks\u001b[0m \u001b[0;34m=\u001b[0m \u001b[0mnp\u001b[0m\u001b[0;34m.\u001b[0m\u001b[0marray\u001b[0m\u001b[0;34m(\u001b[0m\u001b[0mdn121_masks\u001b[0m\u001b[0;34m)\u001b[0m\u001b[0;34m\u001b[0m\u001b[0;34m\u001b[0m\u001b[0m\n\u001b[1;32m      4\u001b[0m \u001b[0minres_masks\u001b[0m \u001b[0;34m=\u001b[0m \u001b[0mnp\u001b[0m\u001b[0;34m.\u001b[0m\u001b[0marray\u001b[0m\u001b[0;34m(\u001b[0m\u001b[0minres_masks\u001b[0m\u001b[0;34m)\u001b[0m\u001b[0;34m\u001b[0m\u001b[0;34m\u001b[0m\u001b[0m\n",
      "\u001b[0;31mKeyboardInterrupt\u001b[0m: "
     ]
    }
   ],
   "source": [
    "# gt_masks = np.array(gt_masks)\n",
    "# res34_masks = np.array(res34_masks)\n",
    "# dn121_masks = np.array(dn121_masks)\n",
    "# inres_masks = np.array(inres_masks)"
   ]
  },
  {
   "cell_type": "code",
   "execution_count": 28,
   "metadata": {
    "ExecuteTime": {
     "end_time": "2019-09-04T12:05:18.980386Z",
     "start_time": "2019-09-04T12:05:18.977493Z"
    }
   },
   "outputs": [
    {
     "name": "stdout",
     "output_type": "stream",
     "text": [
      "RAM usage: 64.61175155639648 GB\n"
     ]
    }
   ],
   "source": [
    "show_ram_usage()"
   ]
  },
  {
   "cell_type": "code",
   "execution_count": 29,
   "metadata": {
    "ExecuteTime": {
     "end_time": "2019-09-04T12:06:14.742643Z",
     "start_time": "2019-09-04T12:06:03.395924Z"
    }
   },
   "outputs": [
    {
     "name": "stdout",
     "output_type": "stream",
     "text": [
      "0.2748269962263053\n"
     ]
    }
   ],
   "source": [
    "diff_idx = diff.index.tolist()\n",
    "dice = 0\n",
    "for idx in diff_idx:\n",
    "    dice += compute_dice(gt_masks[idx], res34_masks[idx])\n",
    "print(dice / len(diff_idx))"
   ]
  },
  {
   "cell_type": "code",
   "execution_count": 30,
   "metadata": {
    "ExecuteTime": {
     "end_time": "2019-09-04T12:06:42.267407Z",
     "start_time": "2019-09-04T12:06:35.844283Z"
    }
   },
   "outputs": [
    {
     "name": "stdout",
     "output_type": "stream",
     "text": [
      "0.3388629685424114\n"
     ]
    }
   ],
   "source": [
    "dice = 0\n",
    "for idx in diff_idx:\n",
    "    dice += compute_dice(gt_masks[idx], dn121_masks[idx])\n",
    "print(dice / len(diff_idx))"
   ]
  },
  {
   "cell_type": "code",
   "execution_count": 31,
   "metadata": {
    "ExecuteTime": {
     "end_time": "2019-09-04T12:06:48.945314Z",
     "start_time": "2019-09-04T12:06:42.996062Z"
    }
   },
   "outputs": [
    {
     "name": "stdout",
     "output_type": "stream",
     "text": [
      "0.372467691762776\n"
     ]
    }
   ],
   "source": [
    "dice = 0\n",
    "for idx in diff_idx:\n",
    "    dice += compute_dice(gt_masks[idx], inres_masks[idx])\n",
    "print(dice / len(diff_idx))"
   ]
  },
  {
   "cell_type": "code",
   "execution_count": null,
   "metadata": {},
   "outputs": [],
   "source": []
  },
  {
   "cell_type": "code",
   "execution_count": null,
   "metadata": {},
   "outputs": [],
   "source": []
  },
  {
   "cell_type": "code",
   "execution_count": 16,
   "metadata": {
    "ExecuteTime": {
     "end_time": "2019-09-04T11:54:44.787130Z",
     "start_time": "2019-09-04T11:54:31.673117Z"
    }
   },
   "outputs": [
    {
     "ename": "IndexError",
     "evalue": "single positional indexer is out-of-bounds",
     "output_type": "error",
     "traceback": [
      "\u001b[0;31m---------------------------------------------------------------------------\u001b[0m",
      "\u001b[0;31mIndexError\u001b[0m                                Traceback (most recent call last)",
      "\u001b[0;32m<ipython-input-16-3d2a0192bb9d>\u001b[0m in \u001b[0;36m<module>\u001b[0;34m\u001b[0m\n\u001b[1;32m      1\u001b[0m \u001b[0;31m# i = 0\u001b[0m\u001b[0;34m\u001b[0m\u001b[0;34m\u001b[0m\u001b[0;34m\u001b[0m\u001b[0m\n\u001b[1;32m      2\u001b[0m \u001b[0mi\u001b[0m \u001b[0;34m+=\u001b[0m \u001b[0;36m1\u001b[0m\u001b[0;34m\u001b[0m\u001b[0;34m\u001b[0m\u001b[0m\n\u001b[0;32m----> 3\u001b[0;31m \u001b[0mrow\u001b[0m \u001b[0;34m=\u001b[0m \u001b[0mdiff\u001b[0m\u001b[0;34m.\u001b[0m\u001b[0miloc\u001b[0m\u001b[0;34m[\u001b[0m\u001b[0mi\u001b[0m\u001b[0;34m]\u001b[0m\u001b[0;34m\u001b[0m\u001b[0;34m\u001b[0m\u001b[0m\n\u001b[0m\u001b[1;32m      4\u001b[0m \u001b[0mimage_id\u001b[0m \u001b[0;34m=\u001b[0m \u001b[0mrow\u001b[0m\u001b[0;34m[\u001b[0m\u001b[0;34m'ImageId'\u001b[0m\u001b[0;34m]\u001b[0m\u001b[0;34m\u001b[0m\u001b[0;34m\u001b[0m\u001b[0m\n\u001b[1;32m      5\u001b[0m \u001b[0mpath\u001b[0m \u001b[0;34m=\u001b[0m \u001b[0;34mf'npy_test_stage2/{image_id}.npy'\u001b[0m\u001b[0;34m\u001b[0m\u001b[0;34m\u001b[0m\u001b[0m\n",
      "\u001b[0;32m~/miniconda3/envs/ML/lib/python3.7/site-packages/pandas/core/indexing.py\u001b[0m in \u001b[0;36m__getitem__\u001b[0;34m(self, key)\u001b[0m\n\u001b[1;32m   1422\u001b[0m \u001b[0;34m\u001b[0m\u001b[0m\n\u001b[1;32m   1423\u001b[0m             \u001b[0mmaybe_callable\u001b[0m \u001b[0;34m=\u001b[0m \u001b[0mcom\u001b[0m\u001b[0;34m.\u001b[0m\u001b[0mapply_if_callable\u001b[0m\u001b[0;34m(\u001b[0m\u001b[0mkey\u001b[0m\u001b[0;34m,\u001b[0m \u001b[0mself\u001b[0m\u001b[0;34m.\u001b[0m\u001b[0mobj\u001b[0m\u001b[0;34m)\u001b[0m\u001b[0;34m\u001b[0m\u001b[0;34m\u001b[0m\u001b[0m\n\u001b[0;32m-> 1424\u001b[0;31m             \u001b[0;32mreturn\u001b[0m \u001b[0mself\u001b[0m\u001b[0;34m.\u001b[0m\u001b[0m_getitem_axis\u001b[0m\u001b[0;34m(\u001b[0m\u001b[0mmaybe_callable\u001b[0m\u001b[0;34m,\u001b[0m \u001b[0maxis\u001b[0m\u001b[0;34m=\u001b[0m\u001b[0maxis\u001b[0m\u001b[0;34m)\u001b[0m\u001b[0;34m\u001b[0m\u001b[0;34m\u001b[0m\u001b[0m\n\u001b[0m\u001b[1;32m   1425\u001b[0m \u001b[0;34m\u001b[0m\u001b[0m\n\u001b[1;32m   1426\u001b[0m     \u001b[0;32mdef\u001b[0m \u001b[0m_is_scalar_access\u001b[0m\u001b[0;34m(\u001b[0m\u001b[0mself\u001b[0m\u001b[0;34m,\u001b[0m \u001b[0mkey\u001b[0m\u001b[0;34m:\u001b[0m \u001b[0mTuple\u001b[0m\u001b[0;34m)\u001b[0m\u001b[0;34m:\u001b[0m\u001b[0;34m\u001b[0m\u001b[0;34m\u001b[0m\u001b[0m\n",
      "\u001b[0;32m~/miniconda3/envs/ML/lib/python3.7/site-packages/pandas/core/indexing.py\u001b[0m in \u001b[0;36m_getitem_axis\u001b[0;34m(self, key, axis)\u001b[0m\n\u001b[1;32m   2155\u001b[0m \u001b[0;34m\u001b[0m\u001b[0m\n\u001b[1;32m   2156\u001b[0m             \u001b[0;31m# validate the location\u001b[0m\u001b[0;34m\u001b[0m\u001b[0;34m\u001b[0m\u001b[0;34m\u001b[0m\u001b[0m\n\u001b[0;32m-> 2157\u001b[0;31m             \u001b[0mself\u001b[0m\u001b[0;34m.\u001b[0m\u001b[0m_validate_integer\u001b[0m\u001b[0;34m(\u001b[0m\u001b[0mkey\u001b[0m\u001b[0;34m,\u001b[0m \u001b[0maxis\u001b[0m\u001b[0;34m)\u001b[0m\u001b[0;34m\u001b[0m\u001b[0;34m\u001b[0m\u001b[0m\n\u001b[0m\u001b[1;32m   2158\u001b[0m \u001b[0;34m\u001b[0m\u001b[0m\n\u001b[1;32m   2159\u001b[0m             \u001b[0;32mreturn\u001b[0m \u001b[0mself\u001b[0m\u001b[0;34m.\u001b[0m\u001b[0m_get_loc\u001b[0m\u001b[0;34m(\u001b[0m\u001b[0mkey\u001b[0m\u001b[0;34m,\u001b[0m \u001b[0maxis\u001b[0m\u001b[0;34m=\u001b[0m\u001b[0maxis\u001b[0m\u001b[0;34m)\u001b[0m\u001b[0;34m\u001b[0m\u001b[0;34m\u001b[0m\u001b[0m\n",
      "\u001b[0;32m~/miniconda3/envs/ML/lib/python3.7/site-packages/pandas/core/indexing.py\u001b[0m in \u001b[0;36m_validate_integer\u001b[0;34m(self, key, axis)\u001b[0m\n\u001b[1;32m   2086\u001b[0m         \u001b[0mlen_axis\u001b[0m \u001b[0;34m=\u001b[0m \u001b[0mlen\u001b[0m\u001b[0;34m(\u001b[0m\u001b[0mself\u001b[0m\u001b[0;34m.\u001b[0m\u001b[0mobj\u001b[0m\u001b[0;34m.\u001b[0m\u001b[0m_get_axis\u001b[0m\u001b[0;34m(\u001b[0m\u001b[0maxis\u001b[0m\u001b[0;34m)\u001b[0m\u001b[0;34m)\u001b[0m\u001b[0;34m\u001b[0m\u001b[0;34m\u001b[0m\u001b[0m\n\u001b[1;32m   2087\u001b[0m         \u001b[0;32mif\u001b[0m \u001b[0mkey\u001b[0m \u001b[0;34m>=\u001b[0m \u001b[0mlen_axis\u001b[0m \u001b[0;32mor\u001b[0m \u001b[0mkey\u001b[0m \u001b[0;34m<\u001b[0m \u001b[0;34m-\u001b[0m\u001b[0mlen_axis\u001b[0m\u001b[0;34m:\u001b[0m\u001b[0;34m\u001b[0m\u001b[0;34m\u001b[0m\u001b[0m\n\u001b[0;32m-> 2088\u001b[0;31m             \u001b[0;32mraise\u001b[0m \u001b[0mIndexError\u001b[0m\u001b[0;34m(\u001b[0m\u001b[0;34m\"single positional indexer is out-of-bounds\"\u001b[0m\u001b[0;34m)\u001b[0m\u001b[0;34m\u001b[0m\u001b[0;34m\u001b[0m\u001b[0m\n\u001b[0m\u001b[1;32m   2089\u001b[0m \u001b[0;34m\u001b[0m\u001b[0m\n\u001b[1;32m   2090\u001b[0m     \u001b[0;32mdef\u001b[0m \u001b[0m_getitem_tuple\u001b[0m\u001b[0;34m(\u001b[0m\u001b[0mself\u001b[0m\u001b[0;34m,\u001b[0m \u001b[0mtup\u001b[0m\u001b[0;34m)\u001b[0m\u001b[0;34m:\u001b[0m\u001b[0;34m\u001b[0m\u001b[0;34m\u001b[0m\u001b[0m\n",
      "\u001b[0;31mIndexError\u001b[0m: single positional indexer is out-of-bounds"
     ]
    }
   ],
   "source": [
    "# i = 0\n",
    "i += 1\n",
    "row = diff.iloc[i]\n",
    "image_id = row['ImageId']\n",
    "path = f'npy_test_stage2/{image_id}.npy'\n",
    "img = np.load(path)\n",
    "idx = row.name\n",
    "rs = res34_masks[idx]\n",
    "dn = dn121_masks[idx]\n",
    "ir = inres_masks[idx]\n",
    "\n",
    "plt.figure(figsize=(20, 20))\n",
    "plt.subplot(1, 3, 1)\n",
    "plt.imshow(img[:, :, 0], cmap='bone')\n",
    "plt.imshow(rs, alpha=0.2)\n",
    "plt.subplot(1, 3, 2)\n",
    "plt.imshow(img[:, :, 0], cmap='bone')\n",
    "plt.imshow(dn, alpha=0.2)\n",
    "plt.subplot(1, 3, 3)\n",
    "plt.imshow(img[:, :, 0], cmap='bone')\n",
    "plt.imshow(ir, alpha=0.2)\n",
    "plt.show()\n"
   ]
  },
  {
   "cell_type": "markdown",
   "metadata": {},
   "source": [
    "### Ideas of ensembling\n",
    "\n",
    "Test on train/val set:\n",
    "* Take the union of the three preds\n",
    "* Take the intersection of the three preds.\n"
   ]
  },
  {
   "cell_type": "code",
   "execution_count": null,
   "metadata": {},
   "outputs": [],
   "source": []
  },
  {
   "cell_type": "code",
   "execution_count": null,
   "metadata": {},
   "outputs": [],
   "source": []
  },
  {
   "cell_type": "code",
   "execution_count": null,
   "metadata": {},
   "outputs": [],
   "source": []
  },
  {
   "cell_type": "code",
   "execution_count": null,
   "metadata": {},
   "outputs": [],
   "source": []
  },
  {
   "cell_type": "code",
   "execution_count": null,
   "metadata": {},
   "outputs": [],
   "source": []
  },
  {
   "cell_type": "code",
   "execution_count": null,
   "metadata": {},
   "outputs": [],
   "source": []
  },
  {
   "cell_type": "code",
   "execution_count": 4,
   "metadata": {
    "ExecuteTime": {
     "end_time": "2019-09-04T09:50:08.033065Z",
     "start_time": "2019-09-04T09:50:06.684259Z"
    }
   },
   "outputs": [
    {
     "data": {
      "text/html": [
       "<div>\n",
       "<style scoped>\n",
       "    .dataframe tbody tr th:only-of-type {\n",
       "        vertical-align: middle;\n",
       "    }\n",
       "\n",
       "    .dataframe tbody tr th {\n",
       "        vertical-align: top;\n",
       "    }\n",
       "\n",
       "    .dataframe thead th {\n",
       "        text-align: right;\n",
       "    }\n",
       "</style>\n",
       "<table border=\"1\" class=\"dataframe\">\n",
       "  <thead>\n",
       "    <tr style=\"text-align: right;\">\n",
       "      <th></th>\n",
       "      <th>ImageId</th>\n",
       "      <th>EncodedPixels</th>\n",
       "      <th>isTest</th>\n",
       "      <th>preds</th>\n",
       "    </tr>\n",
       "  </thead>\n",
       "  <tbody>\n",
       "    <tr>\n",
       "      <td>0</td>\n",
       "      <td>1.2.276.0.7230010.3.1.4.8323329.6904.151787520...</td>\n",
       "      <td>-1</td>\n",
       "      <td>1</td>\n",
       "      <td>-1</td>\n",
       "    </tr>\n",
       "    <tr>\n",
       "      <td>1</td>\n",
       "      <td>1.2.276.0.7230010.3.1.4.8323329.6340.151787519...</td>\n",
       "      <td>-1</td>\n",
       "      <td>1</td>\n",
       "      <td>-1</td>\n",
       "    </tr>\n",
       "    <tr>\n",
       "      <td>2</td>\n",
       "      <td>1.2.276.0.7230010.3.1.4.8323329.6873.151787520...</td>\n",
       "      <td>-1</td>\n",
       "      <td>1</td>\n",
       "      <td>-1</td>\n",
       "    </tr>\n",
       "    <tr>\n",
       "      <td>3</td>\n",
       "      <td>1.2.276.0.7230010.3.1.4.8323329.5994.151787519...</td>\n",
       "      <td>-1</td>\n",
       "      <td>1</td>\n",
       "      <td>-1</td>\n",
       "    </tr>\n",
       "    <tr>\n",
       "      <td>4</td>\n",
       "      <td>1.2.276.0.7230010.3.1.4.8323329.6840.151787520...</td>\n",
       "      <td>-1</td>\n",
       "      <td>1</td>\n",
       "      <td>-1</td>\n",
       "    </tr>\n",
       "  </tbody>\n",
       "</table>\n",
       "</div>"
      ],
      "text/plain": [
       "                                             ImageId EncodedPixels  isTest  \\\n",
       "0  1.2.276.0.7230010.3.1.4.8323329.6904.151787520...            -1       1   \n",
       "1  1.2.276.0.7230010.3.1.4.8323329.6340.151787519...            -1       1   \n",
       "2  1.2.276.0.7230010.3.1.4.8323329.6873.151787520...            -1       1   \n",
       "3  1.2.276.0.7230010.3.1.4.8323329.5994.151787519...            -1       1   \n",
       "4  1.2.276.0.7230010.3.1.4.8323329.6840.151787520...            -1       1   \n",
       "\n",
       "  preds  \n",
       "0    -1  \n",
       "1    -1  \n",
       "2    -1  \n",
       "3    -1  \n",
       "4    -1  "
      ]
     },
     "execution_count": 4,
     "metadata": {},
     "output_type": "execute_result"
    }
   ],
   "source": [
    "train2 = pd.read_csv('stage_2_train.csv')\n",
    "test1 = pd.read_csv('test_model.csv')\n",
    "#test1['preds']\n",
    "train2['isTest'] = train2.apply(lambda x: 1 if x[0] in test1.ImageId.tolist() else 0, axis=1) # bool for whether the image belongs to stage1 test set or not\n",
    "\n",
    "train2['isTest'].value_counts()\n",
    "\n",
    "train2 = train2.query('isTest == 1') # get the test images out\n",
    "\n",
    "train2.query('EncodedPixels == \"-1\"').shape,  test1.query('EncodedPixels == \"-1\"').shape, \n",
    "\n",
    "train2.head()\n",
    "\n",
    "test1 = test1.rename(columns={'EncodedPixels': 'preds'}) # renaming\n",
    "\n",
    "df = pd.merge(train2, test1, on=\"ImageId\") # merge ground truth and predictions in one dataframe\n",
    "\n",
    "df.head() # EncodedPixels is ground truth, preds is predicted mask\n"
   ]
  },
  {
   "cell_type": "code",
   "execution_count": 7,
   "metadata": {
    "ExecuteTime": {
     "end_time": "2019-08-29T06:50:43.527578Z",
     "start_time": "2019-08-29T06:49:17.240638Z"
    },
    "_cell_guid": "b1076dfc-b9ad-4769-8c92-a6c4dae69d19",
    "_uuid": "8f2839f25d086af736a60e9eeb907d3b93b6e0e5"
   },
   "outputs": [],
   "source": [
    "\n",
    "def get_mask(rle):\n",
    "    if rle!='-1':\n",
    "        mask = run_length_decode(rle)\n",
    "        return mask\n",
    "    else:\n",
    "        return np.zeros([1024, 1024], dtype='uint8')\n",
    "\n",
    "mask = get_mask('-1')\n",
    "mask.shape, mask.dtype\n",
    "\n",
    "labels = []\n",
    "predictions = []\n",
    "for itr, row in df.iterrows():\n",
    "    gt = row['EncodedPixels']\n",
    "    pred = row['preds']\n",
    "    labels.append(get_mask(gt))\n",
    "    predictions.append(get_mask(pred))\n",
    "\n",
    "labels = np.array(labels)\n",
    "predictions = np.array(predictions)\n",
    "labels.shape, predictions.shape\n",
    "\n",
    "labels = torch.from_numpy(labels)\n",
    "predictions = torch.from_numpy(predictions)\n"
   ]
  },
  {
   "cell_type": "code",
   "execution_count": 10,
   "metadata": {
    "ExecuteTime": {
     "end_time": "2019-08-29T06:52:33.360094Z",
     "start_time": "2019-08-29T06:52:33.344635Z"
    }
   },
   "outputs": [
    {
     "name": "stdout",
     "output_type": "stream",
     "text": [
      "RAM usage: 10.872844696044922 GB\n"
     ]
    }
   ],
   "source": []
  },
  {
   "cell_type": "code",
   "execution_count": 11,
   "metadata": {
    "ExecuteTime": {
     "end_time": "2019-08-29T06:54:01.283283Z",
     "start_time": "2019-08-29T06:52:36.363515Z"
    },
    "_cell_guid": "79c7e3d0-c299-4dcb-8224-4455121ee9b0",
    "_uuid": "d629ff2d2480ee46fbb7e2d37f6b5fab8052498a"
   },
   "outputs": [],
   "source": [
    "dice, dice_neg, dice_pos, num_neg, num_pos = metric(predictions, labels, threshold=0.5, reduction='none')"
   ]
  },
  {
   "cell_type": "code",
   "execution_count": 12,
   "metadata": {
    "ExecuteTime": {
     "end_time": "2019-08-29T06:55:52.873298Z",
     "start_time": "2019-08-29T06:55:52.851458Z"
    }
   },
   "outputs": [
    {
     "name": "stdout",
     "output_type": "stream",
     "text": [
      "RAM usage: 10.877708435058594 GB\n"
     ]
    }
   ],
   "source": [
    "show_ram_usage()"
   ]
  },
  {
   "cell_type": "code",
   "execution_count": 13,
   "metadata": {
    "ExecuteTime": {
     "end_time": "2019-08-29T06:55:56.694606Z",
     "start_time": "2019-08-29T06:55:56.683797Z"
    }
   },
   "outputs": [
    {
     "data": {
      "text/plain": [
       "0.8542532920837402"
      ]
     },
     "execution_count": 13,
     "metadata": {},
     "output_type": "execute_result"
    }
   ],
   "source": [
    "dice"
   ]
  },
  {
   "cell_type": "code",
   "execution_count": 14,
   "metadata": {
    "ExecuteTime": {
     "end_time": "2019-08-29T06:56:00.786031Z",
     "start_time": "2019-08-29T06:56:00.776994Z"
    }
   },
   "outputs": [
    {
     "data": {
      "text/plain": [
       "0.9565619230270386"
      ]
     },
     "execution_count": 14,
     "metadata": {},
     "output_type": "execute_result"
    }
   ],
   "source": [
    "dice_neg"
   ]
  },
  {
   "cell_type": "code",
   "execution_count": 18,
   "metadata": {
    "ExecuteTime": {
     "end_time": "2019-08-29T07:36:53.633831Z",
     "start_time": "2019-08-29T07:36:53.620143Z"
    }
   },
   "outputs": [
    {
     "data": {
      "text/plain": [
       "0.4725361764431"
      ]
     },
     "execution_count": 18,
     "metadata": {},
     "output_type": "execute_result"
    }
   ],
   "source": [
    "dice_pos"
   ]
  },
  {
   "cell_type": "markdown",
   "metadata": {},
   "source": [
    "### further analysis"
   ]
  },
  {
   "cell_type": "code",
   "execution_count": 100,
   "metadata": {
    "ExecuteTime": {
     "end_time": "2019-08-29T09:49:11.290978Z",
     "start_time": "2019-08-29T09:49:11.277063Z"
    }
   },
   "outputs": [],
   "source": [
    "# bin_df = pd.read_csv('bin_cls_test_model.csv')\n",
    "# bin_df = pd.read_csv('bin_oldckpt20test.csv')\n",
    "bin_df = pd.read_csv('test_ckpt_po1.csv')"
   ]
  },
  {
   "cell_type": "code",
   "execution_count": 101,
   "metadata": {
    "ExecuteTime": {
     "end_time": "2019-08-29T09:49:11.597954Z",
     "start_time": "2019-08-29T09:49:11.581595Z"
    }
   },
   "outputs": [
    {
     "data": {
      "text/html": [
       "<div>\n",
       "<style scoped>\n",
       "    .dataframe tbody tr th:only-of-type {\n",
       "        vertical-align: middle;\n",
       "    }\n",
       "\n",
       "    .dataframe tbody tr th {\n",
       "        vertical-align: top;\n",
       "    }\n",
       "\n",
       "    .dataframe thead th {\n",
       "        text-align: right;\n",
       "    }\n",
       "</style>\n",
       "<table border=\"1\" class=\"dataframe\">\n",
       "  <thead>\n",
       "    <tr style=\"text-align: right;\">\n",
       "      <th></th>\n",
       "      <th>ImageId</th>\n",
       "      <th>EncodedPixels</th>\n",
       "      <th>label</th>\n",
       "    </tr>\n",
       "  </thead>\n",
       "  <tbody>\n",
       "    <tr>\n",
       "      <td>0</td>\n",
       "      <td>1.2.276.0.7230010.3.1.4.8323329.6067.151787519...</td>\n",
       "      <td>-1</td>\n",
       "      <td>0</td>\n",
       "    </tr>\n",
       "    <tr>\n",
       "      <td>1</td>\n",
       "      <td>1.2.276.0.7230010.3.1.4.8323329.6214.151787519...</td>\n",
       "      <td>-1</td>\n",
       "      <td>0</td>\n",
       "    </tr>\n",
       "    <tr>\n",
       "      <td>2</td>\n",
       "      <td>1.2.276.0.7230010.3.1.4.8323329.6177.151787519...</td>\n",
       "      <td>-1</td>\n",
       "      <td>1</td>\n",
       "    </tr>\n",
       "    <tr>\n",
       "      <td>3</td>\n",
       "      <td>1.2.276.0.7230010.3.1.4.8323329.6655.151787519...</td>\n",
       "      <td>-1</td>\n",
       "      <td>0</td>\n",
       "    </tr>\n",
       "    <tr>\n",
       "      <td>4</td>\n",
       "      <td>1.2.276.0.7230010.3.1.4.8323329.6359.151787519...</td>\n",
       "      <td>-1</td>\n",
       "      <td>0</td>\n",
       "    </tr>\n",
       "  </tbody>\n",
       "</table>\n",
       "</div>"
      ],
      "text/plain": [
       "                                             ImageId  EncodedPixels  label\n",
       "0  1.2.276.0.7230010.3.1.4.8323329.6067.151787519...             -1      0\n",
       "1  1.2.276.0.7230010.3.1.4.8323329.6214.151787519...             -1      0\n",
       "2  1.2.276.0.7230010.3.1.4.8323329.6177.151787519...             -1      1\n",
       "3  1.2.276.0.7230010.3.1.4.8323329.6655.151787519...             -1      0\n",
       "4  1.2.276.0.7230010.3.1.4.8323329.6359.151787519...             -1      0"
      ]
     },
     "execution_count": 101,
     "metadata": {},
     "output_type": "execute_result"
    }
   ],
   "source": [
    "bin_df.head()"
   ]
  },
  {
   "cell_type": "code",
   "execution_count": 102,
   "metadata": {
    "ExecuteTime": {
     "end_time": "2019-08-29T09:49:11.644668Z",
     "start_time": "2019-08-29T09:49:11.627043Z"
    }
   },
   "outputs": [
    {
     "data": {
      "text/html": [
       "<div>\n",
       "<style scoped>\n",
       "    .dataframe tbody tr th:only-of-type {\n",
       "        vertical-align: middle;\n",
       "    }\n",
       "\n",
       "    .dataframe tbody tr th {\n",
       "        vertical-align: top;\n",
       "    }\n",
       "\n",
       "    .dataframe thead th {\n",
       "        text-align: right;\n",
       "    }\n",
       "</style>\n",
       "<table border=\"1\" class=\"dataframe\">\n",
       "  <thead>\n",
       "    <tr style=\"text-align: right;\">\n",
       "      <th></th>\n",
       "      <th>ImageId</th>\n",
       "      <th>EncodedPixels</th>\n",
       "      <th>isTest</th>\n",
       "      <th>preds</th>\n",
       "    </tr>\n",
       "  </thead>\n",
       "  <tbody>\n",
       "    <tr>\n",
       "      <td>0</td>\n",
       "      <td>1.2.276.0.7230010.3.1.4.8323329.6904.151787520...</td>\n",
       "      <td>-1</td>\n",
       "      <td>1</td>\n",
       "      <td>-1</td>\n",
       "    </tr>\n",
       "    <tr>\n",
       "      <td>1</td>\n",
       "      <td>1.2.276.0.7230010.3.1.4.8323329.6340.151787519...</td>\n",
       "      <td>-1</td>\n",
       "      <td>1</td>\n",
       "      <td>-1</td>\n",
       "    </tr>\n",
       "    <tr>\n",
       "      <td>2</td>\n",
       "      <td>1.2.276.0.7230010.3.1.4.8323329.6873.151787520...</td>\n",
       "      <td>-1</td>\n",
       "      <td>1</td>\n",
       "      <td>-1</td>\n",
       "    </tr>\n",
       "    <tr>\n",
       "      <td>3</td>\n",
       "      <td>1.2.276.0.7230010.3.1.4.8323329.5994.151787519...</td>\n",
       "      <td>-1</td>\n",
       "      <td>1</td>\n",
       "      <td>-1</td>\n",
       "    </tr>\n",
       "    <tr>\n",
       "      <td>4</td>\n",
       "      <td>1.2.276.0.7230010.3.1.4.8323329.6840.151787520...</td>\n",
       "      <td>-1</td>\n",
       "      <td>1</td>\n",
       "      <td>-1</td>\n",
       "    </tr>\n",
       "  </tbody>\n",
       "</table>\n",
       "</div>"
      ],
      "text/plain": [
       "                                             ImageId EncodedPixels  isTest  \\\n",
       "0  1.2.276.0.7230010.3.1.4.8323329.6904.151787520...            -1       1   \n",
       "1  1.2.276.0.7230010.3.1.4.8323329.6340.151787519...            -1       1   \n",
       "2  1.2.276.0.7230010.3.1.4.8323329.6873.151787520...            -1       1   \n",
       "3  1.2.276.0.7230010.3.1.4.8323329.5994.151787519...            -1       1   \n",
       "4  1.2.276.0.7230010.3.1.4.8323329.6840.151787520...            -1       1   \n",
       "\n",
       "  preds  \n",
       "0    -1  \n",
       "1    -1  \n",
       "2    -1  \n",
       "3    -1  \n",
       "4    -1  "
      ]
     },
     "execution_count": 102,
     "metadata": {},
     "output_type": "execute_result"
    }
   ],
   "source": [
    "df.head()"
   ]
  },
  {
   "cell_type": "code",
   "execution_count": 103,
   "metadata": {
    "ExecuteTime": {
     "end_time": "2019-08-29T09:49:11.682406Z",
     "start_time": "2019-08-29T09:49:11.662281Z"
    }
   },
   "outputs": [],
   "source": [
    "df_cls = df.copy()\n",
    "df_cls['EncodedPixels'] = df_cls['EncodedPixels'].apply(lambda x: 0 if x == '-1' else 1)\n",
    "df_cls['preds'] = df_cls['preds'].apply(lambda x: 0 if x == '-1' else 1)\n",
    "df_cls['bin_preds'] = bin_df['label']"
   ]
  },
  {
   "cell_type": "code",
   "execution_count": 104,
   "metadata": {
    "ExecuteTime": {
     "end_time": "2019-08-29T09:49:11.710139Z",
     "start_time": "2019-08-29T09:49:11.692525Z"
    }
   },
   "outputs": [
    {
     "data": {
      "text/html": [
       "<div>\n",
       "<style scoped>\n",
       "    .dataframe tbody tr th:only-of-type {\n",
       "        vertical-align: middle;\n",
       "    }\n",
       "\n",
       "    .dataframe tbody tr th {\n",
       "        vertical-align: top;\n",
       "    }\n",
       "\n",
       "    .dataframe thead th {\n",
       "        text-align: right;\n",
       "    }\n",
       "</style>\n",
       "<table border=\"1\" class=\"dataframe\">\n",
       "  <thead>\n",
       "    <tr style=\"text-align: right;\">\n",
       "      <th></th>\n",
       "      <th>ImageId</th>\n",
       "      <th>EncodedPixels</th>\n",
       "      <th>isTest</th>\n",
       "      <th>preds</th>\n",
       "      <th>bin_preds</th>\n",
       "    </tr>\n",
       "  </thead>\n",
       "  <tbody>\n",
       "    <tr>\n",
       "      <td>0</td>\n",
       "      <td>1.2.276.0.7230010.3.1.4.8323329.6904.151787520...</td>\n",
       "      <td>0</td>\n",
       "      <td>1</td>\n",
       "      <td>0</td>\n",
       "      <td>0</td>\n",
       "    </tr>\n",
       "    <tr>\n",
       "      <td>1</td>\n",
       "      <td>1.2.276.0.7230010.3.1.4.8323329.6340.151787519...</td>\n",
       "      <td>0</td>\n",
       "      <td>1</td>\n",
       "      <td>0</td>\n",
       "      <td>0</td>\n",
       "    </tr>\n",
       "    <tr>\n",
       "      <td>2</td>\n",
       "      <td>1.2.276.0.7230010.3.1.4.8323329.6873.151787520...</td>\n",
       "      <td>0</td>\n",
       "      <td>1</td>\n",
       "      <td>0</td>\n",
       "      <td>1</td>\n",
       "    </tr>\n",
       "    <tr>\n",
       "      <td>3</td>\n",
       "      <td>1.2.276.0.7230010.3.1.4.8323329.5994.151787519...</td>\n",
       "      <td>0</td>\n",
       "      <td>1</td>\n",
       "      <td>0</td>\n",
       "      <td>0</td>\n",
       "    </tr>\n",
       "    <tr>\n",
       "      <td>4</td>\n",
       "      <td>1.2.276.0.7230010.3.1.4.8323329.6840.151787520...</td>\n",
       "      <td>0</td>\n",
       "      <td>1</td>\n",
       "      <td>0</td>\n",
       "      <td>0</td>\n",
       "    </tr>\n",
       "  </tbody>\n",
       "</table>\n",
       "</div>"
      ],
      "text/plain": [
       "                                             ImageId  EncodedPixels  isTest  \\\n",
       "0  1.2.276.0.7230010.3.1.4.8323329.6904.151787520...              0       1   \n",
       "1  1.2.276.0.7230010.3.1.4.8323329.6340.151787519...              0       1   \n",
       "2  1.2.276.0.7230010.3.1.4.8323329.6873.151787520...              0       1   \n",
       "3  1.2.276.0.7230010.3.1.4.8323329.5994.151787519...              0       1   \n",
       "4  1.2.276.0.7230010.3.1.4.8323329.6840.151787520...              0       1   \n",
       "\n",
       "   preds  bin_preds  \n",
       "0      0          0  \n",
       "1      0          0  \n",
       "2      0          1  \n",
       "3      0          0  \n",
       "4      0          0  "
      ]
     },
     "execution_count": 104,
     "metadata": {},
     "output_type": "execute_result"
    }
   ],
   "source": [
    "df_cls.head()"
   ]
  },
  {
   "cell_type": "code",
   "execution_count": 105,
   "metadata": {
    "ExecuteTime": {
     "end_time": "2019-08-29T09:49:11.751671Z",
     "start_time": "2019-08-29T09:49:11.722838Z"
    }
   },
   "outputs": [],
   "source": [
    "cm = pycm.ConfusionMatrix(df_cls['EncodedPixels'].values, df_cls['preds'].values)"
   ]
  },
  {
   "cell_type": "code",
   "execution_count": 106,
   "metadata": {
    "ExecuteTime": {
     "end_time": "2019-08-29T09:49:11.760887Z",
     "start_time": "2019-08-29T09:49:11.755494Z"
    }
   },
   "outputs": [
    {
     "name": "stdout",
     "output_type": "stream",
     "text": [
      "Predict    0          1          \n",
      "Actual\n",
      "0          1035       47         \n",
      "\n",
      "1          75         215        \n",
      "\n",
      "\n"
     ]
    }
   ],
   "source": [
    "cm.print_matrix()"
   ]
  },
  {
   "cell_type": "code",
   "execution_count": 107,
   "metadata": {
    "ExecuteTime": {
     "end_time": "2019-08-29T09:49:11.805450Z",
     "start_time": "2019-08-29T09:49:11.770395Z"
    }
   },
   "outputs": [
    {
     "name": "stdout",
     "output_type": "stream",
     "text": [
      "Predict   0         1         \n",
      "Actual\n",
      "0         853       229       \n",
      "\n",
      "1         236       54        \n",
      "\n",
      "\n"
     ]
    }
   ],
   "source": [
    "bin_cm = pycm.ConfusionMatrix(df_cls['EncodedPixels'].values, df_cls['bin_preds'].values)\n",
    "bin_cm.print_matrix()"
   ]
  },
  {
   "cell_type": "code",
   "execution_count": null,
   "metadata": {},
   "outputs": [],
   "source": []
  },
  {
   "cell_type": "code",
   "execution_count": null,
   "metadata": {},
   "outputs": [],
   "source": []
  },
  {
   "cell_type": "code",
   "execution_count": null,
   "metadata": {},
   "outputs": [],
   "source": []
  },
  {
   "cell_type": "code",
   "execution_count": null,
   "metadata": {},
   "outputs": [],
   "source": []
  },
  {
   "cell_type": "code",
   "execution_count": null,
   "metadata": {},
   "outputs": [],
   "source": []
  },
  {
   "cell_type": "code",
   "execution_count": null,
   "metadata": {},
   "outputs": [],
   "source": []
  }
 ],
 "metadata": {
  "kernelspec": {
   "display_name": "ML",
   "language": "python",
   "name": "ml"
  },
  "language_info": {
   "codemirror_mode": {
    "name": "ipython",
    "version": 3
   },
   "file_extension": ".py",
   "mimetype": "text/x-python",
   "name": "python",
   "nbconvert_exporter": "python",
   "pygments_lexer": "ipython3",
   "version": "3.7.4"
  }
 },
 "nbformat": 4,
 "nbformat_minor": 1
}
